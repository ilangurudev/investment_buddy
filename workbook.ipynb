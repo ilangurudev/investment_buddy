{
 "cells": [
  {
   "cell_type": "markdown",
   "id": "668c485f-6500-42fa-986c-d527299d8112",
   "metadata": {},
   "source": [
    "# Setup"
   ]
  },
  {
   "cell_type": "markdown",
   "id": "364fbc53-94db-46b7-a875-55250757bb62",
   "metadata": {},
   "source": [
    "- typing\n",
    "- documentation and comments\n",
    "- test cases\n",
    "- requirements and versioning\n",
    "\n",
    "'data/bse/20211229.csv'"
   ]
  },
  {
   "cell_type": "markdown",
   "id": "22cc46b3-5269-433a-92e0-1ee625777d10",
   "metadata": {},
   "source": [
    "Note: Value = Closing price x volume.\n",
    "1. 3x value current month over previous month.\n",
    "2. 2x value current month over previous month “TWICE in the last six months\".\n",
    "3. 2x value current quarter over previous quarter.\n",
    "4. 52 week highs in NSE\n",
    "5. 52 week highs in BSE\n",
    ".\n",
    ".\n",
    ".\n",
    "Data for these filtered scrips (in the same order in vertical columns):\n",
    "Symbol\n",
    "ISIN\n",
    "Filter (on what criteria: i.e., 52 week high/3xM/2xM/2xM*twice)\n",
    "Market Cap\n",
    "Return on Net worth for the last 5 years (consolidated)\n",
    "Return on Net worth for the last 5 years (standalone)\n",
    "Net sales/Income from operations for the last 5 years (consolidated)\n",
    "Net P/L After M.I & Associates for the last 5 years (consolidated)\n",
    "Net sales/Income from operations for the last 5 years (standalone)\n",
    " Net Profit/(Loss) for the period for the last 5 years (standalone)\n",
    "Total Debt/Equity (X) (consolidated)\n",
    "Total Debt/Equity (X) (standalone)\n",
    "Date of filtration"
   ]
  },
  {
   "cell_type": "markdown",
   "id": "f067a643-65eb-4ec4-a7da-59f99e61727f",
   "metadata": {},
   "source": [
    "Diff market cap for bse and nse\n",
    "\n",
    "sudo apt-get install chromium-chromedriver\n",
    "\n",
    "pip3 install -U selenium\n",
    "pip3 install webdriver_manager\n"
   ]
  },
  {
   "cell_type": "code",
   "execution_count": 1,
   "id": "a0d56644-f130-417b-b70f-1c2d48ff18e3",
   "metadata": {},
   "outputs": [],
   "source": [
    "import requests\n",
    "import pandas\n",
    "import pendulum\n",
    "from pendulum import today, Date\n",
    "from pathlib import Path\n",
    "from typing import Union\n",
    "import zipfile\n",
    "import tempfile\n",
    "import os\n",
    "import pandas as pd\n",
    "import numpy as np\n",
    "from concurrent.futures import ThreadPoolExecutor, ProcessPoolExecutor\n",
    "import logging\n",
    "from requests.exceptions import HTTPError, ReadTimeout, Timeout\n",
    "import glob\n",
    "from copy import copy\n",
    "\n",
    "# import scrapy\n",
    "# from scrapy.crawler import CrawlerProcess\n",
    "from bs4 import BeautifulSoup\n",
    "from selenium import webdriver\n",
    "from selenium.webdriver.chrome.service import Service\n",
    "from webdriver_manager.chrome import ChromeDriverManager\n",
    "# from webdriver_manager import logger\n",
    "from selenium.webdriver.remote.remote_connection import LOGGER as seleniumLogger\n",
    "\n",
    "from IPython.core.interactiveshell import InteractiveShell\n",
    "from tqdm import tqdm\n",
    "from pandarallel import pandarallel"
   ]
  },
  {
   "cell_type": "code",
   "execution_count": 2,
   "id": "552deaec-e7f6-4b89-807c-e9d7f492d89f",
   "metadata": {},
   "outputs": [
    {
     "name": "stdout",
     "output_type": "stream",
     "text": [
      "INFO: Pandarallel will run on 4 workers.\n",
      "INFO: Pandarallel will use Memory file system to transfer data between the main process and workers.\n"
     ]
    }
   ],
   "source": [
    "tqdm.pandas()\n",
    "pandarallel.initialize(nb_workers=4)\n",
    "\n",
    "pd.set_option(\"display.max_columns\", None)\n",
    "\n",
    "InteractiveShell.ast_node_interactivity = \"all\"\n",
    "%reload_ext lab_black\n",
    "\n",
    "logging.getLogger().setLevel(logging.INFO)\n",
    "os.environ[\"WDM_LOG_LEVEL\"] = \"0\"\n",
    "seleniumLogger.setLevel(logging.WARNING)"
   ]
  },
  {
   "cell_type": "markdown",
   "id": "819993b7-0c6a-4db2-9c0f-81165423d93d",
   "metadata": {
    "tags": []
   },
   "source": [
    "# Downloader"
   ]
  },
  {
   "cell_type": "code",
   "execution_count": 4,
   "id": "fc39dada-bf3d-48a1-91dc-1fbfc07d452c",
   "metadata": {},
   "outputs": [],
   "source": [
    "class StockDownloader(object):\n",
    "    def __init__(self, timeout: int = 2):\n",
    "        self.timeout = timeout\n",
    "        if len(glob.glob(f\"{self.download_path}/*.csv\")) == 0:\n",
    "            self.download_past_two_years()\n",
    "\n",
    "    def download_data_for_date(self, date: Date, replace=False):\n",
    "        download_url = self.make_url_func(date)\n",
    "        file_name = date.format(\"YYYYMMDD\") + \".csv\"\n",
    "        if file_name not in os.listdir(self.download_path) or replace:\n",
    "            try:\n",
    "                #         if True:\n",
    "                fd, name = tempfile.mkstemp(suffix=\".zip\")\n",
    "                r = requests.get(\n",
    "                    download_url,\n",
    "                    allow_redirects=True,\n",
    "                    timeout=self.timeout,\n",
    "                    headers={\"User-Agent\": \"firefox\"},\n",
    "                )\n",
    "                r.raise_for_status()\n",
    "\n",
    "                with open(name, \"wb\") as f:\n",
    "                    f.write(r.content)\n",
    "\n",
    "                zipdata = zipfile.ZipFile(name)\n",
    "                zipinfos = zipdata.infolist()\n",
    "                for zipinfo in zipinfos:\n",
    "                    zipinfo.filename = file_name\n",
    "                    zipdata.extract(zipinfo, self.download_path)\n",
    "\n",
    "                col_order = [\n",
    "                    \"symbol\",\n",
    "                    \"isin\",\n",
    "                    \"exchange\",\n",
    "                    \"date\",\n",
    "                    \"open\",\n",
    "                    \"high\",\n",
    "                    \"low\",\n",
    "                    \"close\",\n",
    "                    \"volume\",\n",
    "                    \"year\",\n",
    "                    \"month\",\n",
    "                    \"day\",\n",
    "                    \"ym\",\n",
    "                ]\n",
    "                df = (\n",
    "                    pd.read_csv(self.download_path / file_name)\n",
    "                    .pipe(self.reformat)\n",
    "                    .assign(\n",
    "                        date=date.date(),\n",
    "                        year=date.year,\n",
    "                        month=date.month,\n",
    "                        day=date.day,\n",
    "                        ym=f\"{date.year}{date.month:02}\",\n",
    "                    )\n",
    "                    .rename(columns=str.lower)\n",
    "                    .query('series == \"EQ\"')\n",
    "                    .loc[:, col_order]\n",
    "                )\n",
    "                df.to_csv(self.download_path / file_name, index=False)\n",
    "                logging.info(\n",
    "                    f\"Downloaded {self.exchange} data for {date.format('DD MMM, YYYY.')}\"\n",
    "                )\n",
    "\n",
    "            except HTTPError as err:\n",
    "                if err.response.status_code == 404:\n",
    "                    logging.info(\n",
    "                        f\"No {self.exchange} data available on {date.format('DD MMM, YYYY.')}\"\n",
    "                    )\n",
    "            except (ReadTimeout, Timeout) as err:\n",
    "                logging.info(\n",
    "                    f\"No {self.exchange} data available on {date.format('DD MMM, YYYY.')}\"\n",
    "                )\n",
    "            except Exception as err:\n",
    "                logging.warning(\n",
    "                    f\"{self.exchange} data not available on {date.format('DD MMM, YYYY.')}\"\n",
    "                )\n",
    "                logging.warning(err.message)\n",
    "            finally:\n",
    "                os.close(fd)\n",
    "        else:\n",
    "            logging.info(\n",
    "                f\"{self.exchange} data for {date.format('DD MMM, YYYY.')} already present\"\n",
    "            )\n",
    "\n",
    "    def prune_data(self, prune_weeks):\n",
    "        thresh = int(today().subtract(weeks=prune_weeks).format(\"YYYYMMDD\"))\n",
    "        files_to_prune = [\n",
    "            self.download_path / f\"{d}.csv\" for d in self.days_present if d < thresh\n",
    "        ]\n",
    "        for file in files_to_prune:\n",
    "            os.remove(file)\n",
    "\n",
    "    @property\n",
    "    def days_present(self):\n",
    "        return [\n",
    "            int(d.replace(\".csv\", \"\")) for d in glob.glob1(self.download_path, \"*.csv\")\n",
    "        ]\n",
    "\n",
    "    def update_data(self, prune_weeks=0):\n",
    "        start_date = pendulum.from_format(str(max(self.days_present)), \"YYYYMMDD\").add(\n",
    "            days=1\n",
    "        )\n",
    "        if start_date < today():\n",
    "            self.download_date_range(start_date, today())\n",
    "        if prune_weeks:\n",
    "            self.prune_data(prune_weeks)\n",
    "\n",
    "    def download_date_range(self, start_date: Date, end_date: Date):\n",
    "        assert start_date < end_date, \"Start must be before end\"\n",
    "        dates = pd.date_range(start_date.date(), end_date.date(), freq=\"B\").tolist()\n",
    "        dates = [\n",
    "            pendulum.DateTime(d.date().year, d.date().month, d.date().day)\n",
    "            for d in dates\n",
    "            if not d.strftime(\"%Y%m%d\") in self.exclude_days\n",
    "        ]\n",
    "        with ProcessPoolExecutor() as executor:\n",
    "            executor.map(self.download_data_for_date, dates)\n",
    "\n",
    "    def download_past_two_years(self):\n",
    "        self.download_date_range(today().subtract(years=2), today())\n",
    "\n",
    "    def download_last_n_weeks(self, n_weeks):\n",
    "        self.download_date_range(today().subtract(weeks=n_weeks), today())"
   ]
  },
  {
   "cell_type": "code",
   "execution_count": 5,
   "id": "429a442c-0458-4eca-9cb6-26e8ca280ce2",
   "metadata": {},
   "outputs": [],
   "source": [
    "class NseDownloader(StockDownloader):\n",
    "    download_path = Path(\"data/nse\")\n",
    "    exchange = \"NSE\"\n",
    "    exclude_days = []\n",
    "\n",
    "    def make_url_func(self, date: Date):\n",
    "        year = date.year\n",
    "        month_name = date.format(\"MMM\").upper()\n",
    "        date_str = date.format(\"DDMMMYYYY\").upper()\n",
    "        return f\"https://archives.nseindia.com/content/historical/EQUITIES/{year}/{month_name}/cm{date_str}bhav.csv.zip\"\n",
    "\n",
    "    def reformat(self, df):\n",
    "        return df.rename(columns={\"TOTTRDQTY\": \"volume\"}).assign(exchange=self.exchange)\n",
    "\n",
    "\n",
    "class BseDownloader(StockDownloader):\n",
    "    download_path = Path(\"data/bse\")\n",
    "    exchange = \"BSE\"\n",
    "    exclude_days = [\"20211229\"]\n",
    "\n",
    "    def make_url_func(self, date: Date):\n",
    "        date_str = date.format(\"DDMMYY\").upper()\n",
    "        return f\"https://www.bseindia.com/download/BhavCopy/Equity/EQ{date_str}_CSV.zip\"\n",
    "\n",
    "    def reformat(self, df):\n",
    "        return df.rename(\n",
    "            columns={\n",
    "                \"NO_OF_SHRS\": \"volume\",\n",
    "                \"SC_NAME\": \"symbol\",\n",
    "                \"SC_CODE\": \"isin\",\n",
    "                \"SC_TYPE\": \"series\",\n",
    "            }\n",
    "        ).assign(\n",
    "            exchange=self.exchange,\n",
    "            series=lambda df: np.where(df.series == \"Q\", \"EQ\", df.series),\n",
    "        )"
   ]
  },
  {
   "cell_type": "code",
   "execution_count": 6,
   "id": "69e080f2-13f2-4125-81dc-d4873c267442",
   "metadata": {
    "scrolled": true,
    "tags": []
   },
   "outputs": [],
   "source": [
    "nse_downloader = NseDownloader()\n",
    "bse_downloader = BseDownloader()\n",
    "\n",
    "nse_downloader.update_data(prune_weeks=80)\n",
    "bse_downloader.update_data(prune_weeks=80)"
   ]
  },
  {
   "cell_type": "markdown",
   "id": "c4b024e3-62aa-4980-ae3d-1f8878fdc68f",
   "metadata": {
    "tags": []
   },
   "source": [
    "# Filters"
   ]
  },
  {
   "cell_type": "code",
   "execution_count": 7,
   "id": "4d6758c1-0543-4989-a0e6-e158ebe2120c",
   "metadata": {},
   "outputs": [],
   "source": [
    "class DataFilters(object):\n",
    "    def __init__(self, as_of_date):\n",
    "        df_all = pd.concat(\n",
    "            map(pd.read_csv, glob.glob(\"data/nse/*.csv\") + glob.glob(\"data/bse/*.csv\"))\n",
    "        ).assign(\n",
    "            date=lambda df: pd.to_datetime(df.date),\n",
    "            quarter=lambda df: df.date.dt.quarter,\n",
    "        )\n",
    "        self.as_of_date = pd.to_datetime(as_of_date.naive())\n",
    "        max_date = df_all.date.max()\n",
    "        self.filter_date = max_date if max_date < self.as_of_date else self.as_of_date\n",
    "        self.df_all = df_all.query(\"date <= @self.filter_date\")\n",
    "        self.date_str = f\"{self.filter_date.year}{self.filter_date.month:02}{self.filter_date.day:02}\"\n",
    "        logging.info(\n",
    "            f\"Filtering as of {self.date_str} (Either the date provided or the latest one available). \"\n",
    "        )\n",
    "\n",
    "    def get_prev_data(self):\n",
    "        quarter_start = self.current_quarter_start(self.filter_date).date()\n",
    "        quarter_end = self.filter_date.date() - pendulum.duration(days=1)\n",
    "        month_start = self.filter_date.replace(day=1).date()\n",
    "        month_end = self.filter_date.date() - pendulum.duration(days=1)\n",
    "        quarter_period = pendulum.period(quarter_start, quarter_end)\n",
    "        month_period = pendulum.period(month_start, month_end)\n",
    "        date_strs = [\n",
    "            f\"{dt.year}{dt.month:02}{dt.day:02}\" for dt in quarter_period.range(\"days\")\n",
    "        ]\n",
    "        month_days = [\n",
    "            int(f\"{dt.year}{dt.month:02}{dt.day:02}\")\n",
    "            for dt in month_period.range(\"days\")\n",
    "        ]\n",
    "        prev_days = [\n",
    "            f\"data/filtered/{d}.xlsx\"\n",
    "            for d in date_strs\n",
    "            if f\"data/filtered/{d}.xlsx\" in glob.glob(\"data/filtered/*.xlsx\")\n",
    "        ]\n",
    "        self.df_prev = (\n",
    "            pd.concat(map(pd.read_excel, prev_days)).assign(\n",
    "                is_month=lambda df: df.date_str.isin(month_days)\n",
    "            )\n",
    "            if prev_days\n",
    "            else None\n",
    "        )\n",
    "\n",
    "    def apply_all_filters(self):\n",
    "        self.get_prev_data()\n",
    "        self.apply_300p_month_filter()\n",
    "        self.apply_200p_quarter_filter()\n",
    "        self.apply_200p_twice_6mos()\n",
    "        self.apply_52week_high_filter()\n",
    "        self.df_all_filtered = (\n",
    "            pd.concat(\n",
    "                [\n",
    "                    self.df_300p_val_month.assign(filter=\"300% value over prior month\"),\n",
    "                    self.df_200p_val_quarter.assign(\n",
    "                        filter=\"200% value over prior quarter\"\n",
    "                    ),\n",
    "                    self.df_52_week_highs.assign(filter=\"52 week high\"),\n",
    "                    self.df_200p_val_twice.assign(filter=\"200% twice in 6 months\"),\n",
    "                ]\n",
    "            )\n",
    "            .groupby([\"symbol\", \"isin\", \"exchange\"])\n",
    "            .agg({\"filter\": lambda x: x.str.cat(sep=\", \")})\n",
    "            .reset_index()\n",
    "            .assign(date_str=self.date_str)\n",
    "        )\n",
    "        self.df_all_filtered.to_excel(\n",
    "            f\"data/filtered/{self.date_str}.xlsx\", index=False\n",
    "        )\n",
    "        logging.info(\n",
    "            f\"Exported results to data/filtered/{self.date_str}.xlsx. There are {self.df_all_filtered.shape[0]} scripts to scrape.\"\n",
    "        )\n",
    "\n",
    "    def current_quarter_start(self, ref):\n",
    "        if ref.month < 4:\n",
    "            return pendulum.DateTime(ref.year, 1, 1)\n",
    "        elif ref.month < 7:\n",
    "            return pendulum.DateTime(ref.year, 4, 1)\n",
    "        elif ref.month < 10:\n",
    "            return pendulum.DateTime(ref.year, 7, 1)\n",
    "        return pendulum.DateTime(ref.year, 10, 1)\n",
    "\n",
    "    def apply_300p_month_filter(self):\n",
    "        prev_month_first = (self.filter_date - pd.DateOffset(months=1)).replace(day=1)\n",
    "        grouping_vars = [\"symbol\", \"isin\", \"exchange\", \"year\", \"month\"]\n",
    "        self.df_300p_val_month = (\n",
    "            self.df_all.query(\"date >= @prev_month_first\")\n",
    "            .assign(value=lambda df: df.close * df.volume)\n",
    "            .sort_values(grouping_vars + [\"day\"])\n",
    "            .groupby(grouping_vars)\n",
    "            .agg({\"value\": sum, \"volume\": sum, \"close\": lambda x: x.iloc[-1]})\n",
    "            .reset_index()\n",
    "            .sort_values(grouping_vars)\n",
    "            .assign(\n",
    "                value_lag=lambda df: df.groupby([\"symbol\", \"isin\"])[\"value\"].shift(1),\n",
    "                volume_lag=lambda df: df.groupby([\"symbol\", \"isin\"])[\"volume\"].shift(1),\n",
    "                close_lag=lambda df: df.groupby([\"symbol\", \"isin\"])[\"close\"].shift(1),\n",
    "                value_ratio=lambda df: df.value / df.value_lag,\n",
    "                volume_ratio=lambda df: df.volume / df.volume_lag,\n",
    "                close_ratio=lambda df: df.close / df.close_lag,\n",
    "            )\n",
    "            .query(\"value_lag.notna()\", engine=\"python\")\n",
    "            .query(\"value_ratio>3 & close_ratio>1 & value>2_000_000\")\n",
    "        )\n",
    "        if self.df_prev is not None:\n",
    "            self.df_300p_val_month = (\n",
    "                self.df_300p_val_month.merge(\n",
    "                    self.df_prev.query(\n",
    "                        \"filter.str.contains('300% value over prior month') & is_month\",\n",
    "                        engine=\"python\",\n",
    "                    )\n",
    "                    .loc[:, [\"symbol\", \"isin\", \"exchange\"]]\n",
    "                    .assign(already_exists=True),\n",
    "                    \"left\",\n",
    "                )\n",
    "                .query(\"already_exists.isna()\", engine=\"python\")\n",
    "                .drop(columns=\"already_exists\")\n",
    "            )\n",
    "\n",
    "    def previous_quarter_start(self, ref):\n",
    "        if ref.month < 4:\n",
    "            return pendulum.DateTime(ref.year - 1, 10, 1)\n",
    "        elif ref.month < 7:\n",
    "            return pendulum.DateTime(ref.year, 1, 1)\n",
    "        elif ref.month < 10:\n",
    "            return pendulum.DateTime(ref.year, 4, 1)\n",
    "        return pendulum.DateTime(ref.year, 7, 1)\n",
    "\n",
    "    def apply_200p_quarter_filter(self):\n",
    "        prev_quarter_first = pd.to_datetime(\n",
    "            self.previous_quarter_start(self.filter_date)\n",
    "        )\n",
    "        grouping_vars = [\"symbol\", \"isin\", \"exchange\", \"year\", \"quarter\"]\n",
    "        self.df_200p_val_quarter = (\n",
    "            self.df_all.query(\"date >= @prev_quarter_first\")\n",
    "            .assign(value=lambda df: df.close * df.volume)\n",
    "            .sort_values(grouping_vars + [\"month\", \"day\"])\n",
    "            .groupby(grouping_vars)\n",
    "            .agg({\"value\": sum, \"volume\": sum, \"close\": lambda x: x.iloc[-1]})\n",
    "            .reset_index()\n",
    "            .sort_values(grouping_vars)\n",
    "            .assign(\n",
    "                value_lag=lambda df: df.groupby([\"symbol\", \"isin\"])[\"value\"].shift(1),\n",
    "                volume_lag=lambda df: df.groupby([\"symbol\", \"isin\"])[\"volume\"].shift(1),\n",
    "                close_lag=lambda df: df.groupby([\"symbol\", \"isin\"])[\"close\"].shift(1),\n",
    "                value_ratio=lambda df: df.value / df.value_lag,\n",
    "                volume_ratio=lambda df: df.volume / df.volume_lag,\n",
    "                close_ratio=lambda df: df.close / df.close_lag,\n",
    "            )\n",
    "            .query(\"value_lag.notna()\", engine=\"python\")\n",
    "            .query(\"value_ratio>2 & close_ratio>1 & value>6_000_000\")\n",
    "        )\n",
    "        if self.df_prev is not None:\n",
    "            self.df_200p_val_quarter = (\n",
    "                self.df_200p_val_quarter.merge(\n",
    "                    self.df_prev.query(\n",
    "                        \"filter.str.contains('200% value over prior quarter')\",\n",
    "                        engine=\"python\",\n",
    "                    )\n",
    "                    .loc[:, [\"symbol\", \"isin\", \"exchange\"]]\n",
    "                    .assign(already_exists=True),\n",
    "                    \"left\",\n",
    "                )\n",
    "                .query(\"already_exists.isna()\", engine=\"python\")\n",
    "                .drop(columns=\"already_exists\")\n",
    "            )\n",
    "\n",
    "    def apply_52week_high_filter(self):\n",
    "        date_52_weeks_prior = self.filter_date - pd.DateOffset(weeks=52)\n",
    "        grouping_vars = [\"symbol\", \"isin\", \"exchange\"]\n",
    "\n",
    "        df_52_week_high_vals = (\n",
    "            self.df_all.query(\"date >= @date_52_weeks_prior\")\n",
    "            .sort_values(grouping_vars + [\"year\", \"month\", \"day\"])\n",
    "            .groupby(grouping_vars)\n",
    "            .agg({\"high\": max})\n",
    "        )\n",
    "\n",
    "        self.df_52_week_highs = (\n",
    "            self.df_all.query(\"date == @self.filter_date\")\n",
    "            .merge(\n",
    "                df_52_week_high_vals,\n",
    "                how=\"left\",\n",
    "                on=grouping_vars,\n",
    "                suffixes=(\"\", \"_max\"),\n",
    "            )\n",
    "            .query(\"high==high_max\")\n",
    "            .drop(columns=\"high_max\")\n",
    "        )\n",
    "\n",
    "    def apply_200p_twice_6mos(self):\n",
    "        date_6mos_prior = (self.filter_date - pd.DateOffset(months=6)).replace(day=1)\n",
    "        grouping_vars = [\"symbol\", \"isin\", \"exchange\", \"year\", \"month\"]\n",
    "        df_200p_val_twice_filter = (\n",
    "            self.df_all.query(\"date >= @date_6mos_prior\")\n",
    "            .assign(value=lambda df: df.close * df.volume)\n",
    "            .sort_values(grouping_vars + [\"day\"])\n",
    "            .groupby(grouping_vars)\n",
    "            .agg({\"value\": sum, \"volume\": sum, \"close\": lambda x: x.iloc[-1]})\n",
    "            .reset_index()\n",
    "            .sort_values(grouping_vars)\n",
    "            .assign(\n",
    "                value_lag=lambda df: df.groupby([\"symbol\", \"isin\"])[\"value\"].shift(1),\n",
    "                volume_lag=lambda df: df.groupby([\"symbol\", \"isin\"])[\"volume\"].shift(1),\n",
    "                close_lag=lambda df: df.groupby([\"symbol\", \"isin\"])[\"close\"].shift(1),\n",
    "                value_ratio=lambda df: df.value / df.value_lag,\n",
    "                volume_ratio=lambda df: df.volume / df.volume_lag,\n",
    "                close_ratio=lambda df: df.close / df.close_lag,\n",
    "            )\n",
    "            .query(\"value_lag.notna()\", engine=\"python\")\n",
    "            .query(\"value_ratio>2 & close_ratio>1 & value>2_000_000\")\n",
    "            .groupby([\"symbol\", \"isin\", \"exchange\"])\n",
    "            .agg({\"close_ratio\": \"count\"})\n",
    "            .reset_index()\n",
    "            .rename(columns={\"close_ratio\": \"n_double\"})\n",
    "            .query(\"n_double>=2\")\n",
    "            .drop(columns=\"n_double\")\n",
    "        )\n",
    "        self.df_200p_val_twice = self.df_all.query(\"date == @self.filter_date\").merge(\n",
    "            df_200p_val_twice_filter, how=\"inner\"\n",
    "        )\n",
    "\n",
    "        if self.df_prev is not None:\n",
    "            self.df_200p_val_twice = (\n",
    "                self.df_200p_val_twice.merge(\n",
    "                    self.df_prev.query(\n",
    "                        \"filter.str.contains('200% twice in 6 months') & is_month\",\n",
    "                        engine=\"python\",\n",
    "                    )\n",
    "                    .loc[:, [\"symbol\", \"isin\", \"exchange\"]]\n",
    "                    .assign(already_exists=True),\n",
    "                    \"left\",\n",
    "                )\n",
    "                .query(\"already_exists.isna()\", engine=\"python\")\n",
    "                .drop(columns=\"already_exists\")\n",
    "            )\n",
    "\n",
    "    def __repr__(self):\n",
    "        return f\"DateFilter({self.date_str})\""
   ]
  },
  {
   "cell_type": "code",
   "execution_count": 8,
   "id": "620d3256-af97-47a6-a50e-95d8d418b5ee",
   "metadata": {},
   "outputs": [],
   "source": [
    "# for d in range(1, 26):\n",
    "#     as_of_date = pendulum.from_format(f\"202202{d:02}\", \"YYYYMMDD\")  # pendulum.today()\n",
    "#     data_filter = DataFilters(as_of_date)\n",
    "#     data_filter.apply_all_filters()"
   ]
  },
  {
   "cell_type": "code",
   "execution_count": 9,
   "id": "3e1facb2-6baa-4bf0-a595-f6ad3e620574",
   "metadata": {},
   "outputs": [
    {
     "name": "stderr",
     "output_type": "stream",
     "text": [
      "INFO:root:Filtering as of 20220225 (Either the date provided or the latest one available). \n",
      "INFO:root:Exported results to data/filtered/20220225.xlsx. There are 113 scripts to scrape.\n"
     ]
    }
   ],
   "source": [
    "as_of_date = pendulum.today()  # pendulum.from_format(f\"202202{d:02}\", \"YYYYMMDD\")\n",
    "data_filter = DataFilters(as_of_date)\n",
    "data_filter.apply_all_filters()"
   ]
  },
  {
   "cell_type": "markdown",
   "id": "2911dad9-443f-4b74-be27-a96534751c1f",
   "metadata": {
    "tags": []
   },
   "source": [
    "# Scraping"
   ]
  },
  {
   "cell_type": "code",
   "execution_count": 11,
   "id": "afbb4393-02c8-4d02-bd88-fd8389a465c2",
   "metadata": {},
   "outputs": [],
   "source": [
    "class PageFinder(object):\n",
    "    \"\"\" \"\"\"\n",
    "\n",
    "    base_search_url = \"http://www.moneycontrol.com/stocks/cptmarket/compsearchnew.php?topsearch_type=1&search_str=\"\n",
    "\n",
    "    keys_dict = pd.read_csv(\"data/keys.csv\").set_index(\"field\").to_dict(orient=\"index\")\n",
    "    keys_dict = {k: v[\"identifier\"] for k, v in keys_dict.items()}\n",
    "    check_element = keys_dict[\"market_cap\"].replace(\".\", \"\")\n",
    "\n",
    "    def __init__(self, isin, symbol):\n",
    "        self.isin, self.symbol = str(isin), str(symbol)\n",
    "        self.url = self.home_content = self.ratios_url = None\n",
    "        self.props = dict()\n",
    "\n",
    "        options = webdriver.ChromeOptions()\n",
    "        options.add_argument(\"--ignore-certificate-errors\")\n",
    "        options.add_argument(\"--incognito\")\n",
    "        options.add_argument(\"--headless\")\n",
    "        options.add_experimental_option(\"excludeSwitches\", [\"enable-logging\"])\n",
    "        self.browser = webdriver.Chrome(\n",
    "            service=Service(ChromeDriverManager().install()), options=options\n",
    "        )\n",
    "        self.try_finding_info()\n",
    "\n",
    "    def make_url(self, term):\n",
    "        return self.base_search_url + term\n",
    "\n",
    "    def get_parsed_content(self, url, wait_time=0):\n",
    "        self.browser.implicitly_wait(wait_time)\n",
    "        self.browser.get(url)\n",
    "        return BeautifulSoup(self.browser.page_source)\n",
    "\n",
    "    def validate_and_gather_info(self, term):\n",
    "        url = self.make_url(term)\n",
    "        content = requests.get(url).content\n",
    "        if self.check_element in str(content):\n",
    "            logging.info(f\"Gathering Data for {self.symbol}\")\n",
    "            self.url = url\n",
    "            soup_home = self.get_parsed_content(url, 5)\n",
    "            market_cap = soup_home.select_one(\n",
    "                self.keys_dict[\"market_cap\"].replace(\" \", \".\")\n",
    "            ).text.replace(\",\", \"\")\n",
    "            self.props[\"market_cap\"] = float(market_cap)\n",
    "            #             self.props[\"BLANK\"] = \"\"\n",
    "\n",
    "            self.get_ratios(soup_home)\n",
    "            self.get_financials()\n",
    "            return True\n",
    "        else:\n",
    "            return False\n",
    "\n",
    "    def parse_series(self, content, selector):\n",
    "        ls = []\n",
    "        for x in content.select(self.keys_dict[selector]):\n",
    "            try:\n",
    "                f = float(x.text.replace(\",\", \"\"))\n",
    "                ls.append(f)\n",
    "            except:\n",
    "                ls.append(None)\n",
    "        if len(ls) < 5:\n",
    "            ls += [None] * (5 - len(ls))\n",
    "        return ls\n",
    "\n",
    "    def get_ratios(self, soup):\n",
    "        self.standalone_ratios_url = soup.select_one(self.keys_dict[\"ratios_url\"])[\n",
    "            \"href\"\n",
    "        ]\n",
    "        self.consolidated_ratios_url = self.standalone_ratios_url.replace(\n",
    "            \"ratiosVI\", \"consolidated-ratiosVI\"\n",
    "        )\n",
    "        for name, url in zip(\n",
    "            [\"consolidated\", \"standalone\"],\n",
    "            [self.consolidated_ratios_url, self.standalone_ratios_url],\n",
    "        ):\n",
    "            content = self.get_parsed_content(url)\n",
    "            for metric in [\"rnw\", \"de\"]:\n",
    "                self.props[f\"{name}_{metric}\"] = self.parse_series(\n",
    "                    content, f\"{name}_{metric}\"\n",
    "                )\n",
    "\n",
    "    def get_financials(self):\n",
    "        self.standlone_financials_url = self.standalone_ratios_url.replace(\n",
    "            \"ratiosVI\", \"results/yearly\"\n",
    "        )\n",
    "        self.consolidated_financials_url = self.consolidated_ratios_url.replace(\n",
    "            \"consolidated-ratiosVI\", \"results/consolidated-yearly\"\n",
    "        )\n",
    "\n",
    "        for name, url in zip(\n",
    "            [\"consolidated\", \"standalone\"],\n",
    "            [self.consolidated_financials_url, self.standlone_financials_url],\n",
    "        ):\n",
    "            content = self.get_parsed_content(url)\n",
    "            for metric in [\"sr\", \"np\"]:\n",
    "                self.props[f\"{name}_{metric}\"] = self.parse_series(\n",
    "                    content, f\"{name}_{metric}\"\n",
    "                )\n",
    "\n",
    "    def try_finding_info(self):\n",
    "        search_terms = [self.isin] + [\n",
    "            self.symbol[:i] for i in range(len(self.symbol), 3, -1)\n",
    "        ]\n",
    "        for term in search_terms:\n",
    "            if self.validate_and_gather_info(term):\n",
    "                logging.info(f\"Found data for {self.symbol}\")\n",
    "                return\n",
    "        logging.warning(f\"Could not find data for {self.symbol}\")\n",
    "        self.browser.close()\n",
    "\n",
    "    def __repr__(self):\n",
    "        return f\"PageFinder({self.isin}, {self.symbol}, {self.url})\""
   ]
  },
  {
   "cell_type": "code",
   "execution_count": 12,
   "id": "042b9bf6-487a-4863-9850-11e0837e8ca6",
   "metadata": {},
   "outputs": [],
   "source": [
    "df_filtered = data_filter.df_all_filtered"
   ]
  },
  {
   "cell_type": "code",
   "execution_count": 13,
   "id": "154e174e-7066-4235-942a-ed757fe4d5df",
   "metadata": {
    "scrolled": true,
    "tags": []
   },
   "outputs": [
    {
     "name": "stderr",
     "output_type": "stream",
     "text": [
      "  0%|                                                  | 0/113 [00:00<?, ?it/s]\n",
      "\n",
      "INFO:WDM:\n",
      "\n",
      "====== WebDriver manager ======\n",
      "INFO:WDM:====== WebDriver manager ======\n",
      "Current google-chrome version is 98.0.4758\n",
      "INFO:WDM:Current google-chrome version is 98.0.4758\n",
      "Get LATEST chromedriver version for 98.0.4758 google-chrome\n",
      "INFO:WDM:Get LATEST chromedriver version for 98.0.4758 google-chrome\n",
      "Driver [/home/ilangurudev/.wdm/drivers/chromedriver/linux64/98.0.4758.102/chromedriver] found in cache\n",
      "INFO:WDM:Driver [/home/ilangurudev/.wdm/drivers/chromedriver/linux64/98.0.4758.102/chromedriver] found in cache\n",
      "INFO:root:Gathering Data for ABHIFIN     \n",
      "  1%|▎                                         | 1/113 [00:15<29:23, 15.75s/it]\n"
     ]
    },
    {
     "ename": "KeyboardInterrupt",
     "evalue": "",
     "output_type": "error",
     "traceback": [
      "\u001b[0;31m---------------------------------------------------------------------------\u001b[0m",
      "\u001b[0;31mKeyboardInterrupt\u001b[0m                         Traceback (most recent call last)",
      "Input \u001b[0;32mIn [13]\u001b[0m, in \u001b[0;36m<module>\u001b[0;34m\u001b[0m\n\u001b[0;32m----> 1\u001b[0m df_filtered \u001b[38;5;241m=\u001b[39m \u001b[43mdf_filtered\u001b[49m\u001b[38;5;241;43m.\u001b[39;49m\u001b[43massign\u001b[49m\u001b[43m(\u001b[49m\n\u001b[1;32m      2\u001b[0m \u001b[43m    \u001b[49m\u001b[43mpf\u001b[49m\u001b[38;5;241;43m=\u001b[39;49m\u001b[38;5;28;43;01mlambda\u001b[39;49;00m\u001b[43m \u001b[49m\u001b[43mdf\u001b[49m\u001b[43m:\u001b[49m\u001b[43m \u001b[49m\u001b[43mdf\u001b[49m\u001b[38;5;241;43m.\u001b[39;49m\u001b[43mprogress_apply\u001b[49m\u001b[43m(\u001b[49m\n\u001b[1;32m      3\u001b[0m \u001b[43m        \u001b[49m\u001b[38;5;28;43;01mlambda\u001b[39;49;00m\u001b[43m \u001b[49m\u001b[43mrow\u001b[49m\u001b[43m:\u001b[49m\u001b[43m \u001b[49m\u001b[43mPageFinder\u001b[49m\u001b[43m(\u001b[49m\u001b[43mrow\u001b[49m\u001b[43m[\u001b[49m\u001b[38;5;124;43m\"\u001b[39;49m\u001b[38;5;124;43misin\u001b[39;49m\u001b[38;5;124;43m\"\u001b[39;49m\u001b[43m]\u001b[49m\u001b[43m,\u001b[49m\u001b[43m \u001b[49m\u001b[43mrow\u001b[49m\u001b[43m[\u001b[49m\u001b[38;5;124;43m\"\u001b[39;49m\u001b[38;5;124;43msymbol\u001b[39;49m\u001b[38;5;124;43m\"\u001b[39;49m\u001b[43m]\u001b[49m\u001b[43m)\u001b[49m\u001b[43m,\u001b[49m\u001b[43m \u001b[49m\u001b[43maxis\u001b[49m\u001b[38;5;241;43m=\u001b[39;49m\u001b[38;5;241;43m1\u001b[39;49m\n\u001b[1;32m      4\u001b[0m \u001b[43m    \u001b[49m\u001b[43m)\u001b[49m\u001b[43m,\u001b[49m\n\u001b[1;32m      5\u001b[0m \u001b[43m)\u001b[49m\n",
      "File \u001b[0;32m~/anaconda3/envs/investment_buddy/lib/python3.8/site-packages/pandas/core/frame.py:4486\u001b[0m, in \u001b[0;36mDataFrame.assign\u001b[0;34m(self, **kwargs)\u001b[0m\n\u001b[1;32m   4483\u001b[0m data \u001b[38;5;241m=\u001b[39m \u001b[38;5;28mself\u001b[39m\u001b[38;5;241m.\u001b[39mcopy()\n\u001b[1;32m   4485\u001b[0m \u001b[38;5;28;01mfor\u001b[39;00m k, v \u001b[38;5;129;01min\u001b[39;00m kwargs\u001b[38;5;241m.\u001b[39mitems():\n\u001b[0;32m-> 4486\u001b[0m     data[k] \u001b[38;5;241m=\u001b[39m \u001b[43mcom\u001b[49m\u001b[38;5;241;43m.\u001b[39;49m\u001b[43mapply_if_callable\u001b[49m\u001b[43m(\u001b[49m\u001b[43mv\u001b[49m\u001b[43m,\u001b[49m\u001b[43m \u001b[49m\u001b[43mdata\u001b[49m\u001b[43m)\u001b[49m\n\u001b[1;32m   4487\u001b[0m \u001b[38;5;28;01mreturn\u001b[39;00m data\n",
      "File \u001b[0;32m~/anaconda3/envs/investment_buddy/lib/python3.8/site-packages/pandas/core/common.py:358\u001b[0m, in \u001b[0;36mapply_if_callable\u001b[0;34m(maybe_callable, obj, **kwargs)\u001b[0m\n\u001b[1;32m    347\u001b[0m \u001b[38;5;124;03m\"\"\"\u001b[39;00m\n\u001b[1;32m    348\u001b[0m \u001b[38;5;124;03mEvaluate possibly callable input using obj and kwargs if it is callable,\u001b[39;00m\n\u001b[1;32m    349\u001b[0m \u001b[38;5;124;03motherwise return as it is.\u001b[39;00m\n\u001b[0;32m   (...)\u001b[0m\n\u001b[1;32m    355\u001b[0m \u001b[38;5;124;03m**kwargs\u001b[39;00m\n\u001b[1;32m    356\u001b[0m \u001b[38;5;124;03m\"\"\"\u001b[39;00m\n\u001b[1;32m    357\u001b[0m \u001b[38;5;28;01mif\u001b[39;00m callable(maybe_callable):\n\u001b[0;32m--> 358\u001b[0m     \u001b[38;5;28;01mreturn\u001b[39;00m \u001b[43mmaybe_callable\u001b[49m\u001b[43m(\u001b[49m\u001b[43mobj\u001b[49m\u001b[43m,\u001b[49m\u001b[43m \u001b[49m\u001b[38;5;241;43m*\u001b[39;49m\u001b[38;5;241;43m*\u001b[39;49m\u001b[43mkwargs\u001b[49m\u001b[43m)\u001b[49m\n\u001b[1;32m    360\u001b[0m \u001b[38;5;28;01mreturn\u001b[39;00m maybe_callable\n",
      "Input \u001b[0;32mIn [13]\u001b[0m, in \u001b[0;36m<lambda>\u001b[0;34m(df)\u001b[0m\n\u001b[1;32m      1\u001b[0m df_filtered \u001b[38;5;241m=\u001b[39m df_filtered\u001b[38;5;241m.\u001b[39massign(\n\u001b[0;32m----> 2\u001b[0m     pf\u001b[38;5;241m=\u001b[39m\u001b[38;5;28;01mlambda\u001b[39;00m df: \u001b[43mdf\u001b[49m\u001b[38;5;241;43m.\u001b[39;49m\u001b[43mprogress_apply\u001b[49m\u001b[43m(\u001b[49m\n\u001b[1;32m      3\u001b[0m \u001b[43m        \u001b[49m\u001b[38;5;28;43;01mlambda\u001b[39;49;00m\u001b[43m \u001b[49m\u001b[43mrow\u001b[49m\u001b[43m:\u001b[49m\u001b[43m \u001b[49m\u001b[43mPageFinder\u001b[49m\u001b[43m(\u001b[49m\u001b[43mrow\u001b[49m\u001b[43m[\u001b[49m\u001b[38;5;124;43m\"\u001b[39;49m\u001b[38;5;124;43misin\u001b[39;49m\u001b[38;5;124;43m\"\u001b[39;49m\u001b[43m]\u001b[49m\u001b[43m,\u001b[49m\u001b[43m \u001b[49m\u001b[43mrow\u001b[49m\u001b[43m[\u001b[49m\u001b[38;5;124;43m\"\u001b[39;49m\u001b[38;5;124;43msymbol\u001b[39;49m\u001b[38;5;124;43m\"\u001b[39;49m\u001b[43m]\u001b[49m\u001b[43m)\u001b[49m\u001b[43m,\u001b[49m\u001b[43m \u001b[49m\u001b[43maxis\u001b[49m\u001b[38;5;241;43m=\u001b[39;49m\u001b[38;5;241;43m1\u001b[39;49m\n\u001b[1;32m      4\u001b[0m \u001b[43m    \u001b[49m\u001b[43m)\u001b[49m,\n\u001b[1;32m      5\u001b[0m )\n",
      "File \u001b[0;32m~/anaconda3/envs/investment_buddy/lib/python3.8/site-packages/tqdm/std.py:814\u001b[0m, in \u001b[0;36mtqdm.pandas.<locals>.inner_generator.<locals>.inner\u001b[0;34m(df, func, *args, **kwargs)\u001b[0m\n\u001b[1;32m    811\u001b[0m \u001b[38;5;66;03m# Apply the provided function (in **kwargs)\u001b[39;00m\n\u001b[1;32m    812\u001b[0m \u001b[38;5;66;03m# on the df using our wrapper (which provides bar updating)\u001b[39;00m\n\u001b[1;32m    813\u001b[0m \u001b[38;5;28;01mtry\u001b[39;00m:\n\u001b[0;32m--> 814\u001b[0m     \u001b[38;5;28;01mreturn\u001b[39;00m \u001b[38;5;28;43mgetattr\u001b[39;49m\u001b[43m(\u001b[49m\u001b[43mdf\u001b[49m\u001b[43m,\u001b[49m\u001b[43m \u001b[49m\u001b[43mdf_function\u001b[49m\u001b[43m)\u001b[49m\u001b[43m(\u001b[49m\u001b[43mwrapper\u001b[49m\u001b[43m,\u001b[49m\u001b[43m \u001b[49m\u001b[38;5;241;43m*\u001b[39;49m\u001b[38;5;241;43m*\u001b[39;49m\u001b[43mkwargs\u001b[49m\u001b[43m)\u001b[49m\n\u001b[1;32m    815\u001b[0m \u001b[38;5;28;01mfinally\u001b[39;00m:\n\u001b[1;32m    816\u001b[0m     t\u001b[38;5;241m.\u001b[39mclose()\n",
      "File \u001b[0;32m~/anaconda3/envs/investment_buddy/lib/python3.8/site-packages/pandas/core/frame.py:8740\u001b[0m, in \u001b[0;36mDataFrame.apply\u001b[0;34m(self, func, axis, raw, result_type, args, **kwargs)\u001b[0m\n\u001b[1;32m   8729\u001b[0m \u001b[38;5;28;01mfrom\u001b[39;00m \u001b[38;5;21;01mpandas\u001b[39;00m\u001b[38;5;21;01m.\u001b[39;00m\u001b[38;5;21;01mcore\u001b[39;00m\u001b[38;5;21;01m.\u001b[39;00m\u001b[38;5;21;01mapply\u001b[39;00m \u001b[38;5;28;01mimport\u001b[39;00m frame_apply\n\u001b[1;32m   8731\u001b[0m op \u001b[38;5;241m=\u001b[39m frame_apply(\n\u001b[1;32m   8732\u001b[0m     \u001b[38;5;28mself\u001b[39m,\n\u001b[1;32m   8733\u001b[0m     func\u001b[38;5;241m=\u001b[39mfunc,\n\u001b[0;32m   (...)\u001b[0m\n\u001b[1;32m   8738\u001b[0m     kwargs\u001b[38;5;241m=\u001b[39mkwargs,\n\u001b[1;32m   8739\u001b[0m )\n\u001b[0;32m-> 8740\u001b[0m \u001b[38;5;28;01mreturn\u001b[39;00m \u001b[43mop\u001b[49m\u001b[38;5;241;43m.\u001b[39;49m\u001b[43mapply\u001b[49m\u001b[43m(\u001b[49m\u001b[43m)\u001b[49m\n",
      "File \u001b[0;32m~/anaconda3/envs/investment_buddy/lib/python3.8/site-packages/pandas/core/apply.py:688\u001b[0m, in \u001b[0;36mFrameApply.apply\u001b[0;34m(self)\u001b[0m\n\u001b[1;32m    685\u001b[0m \u001b[38;5;28;01melif\u001b[39;00m \u001b[38;5;28mself\u001b[39m\u001b[38;5;241m.\u001b[39mraw:\n\u001b[1;32m    686\u001b[0m     \u001b[38;5;28;01mreturn\u001b[39;00m \u001b[38;5;28mself\u001b[39m\u001b[38;5;241m.\u001b[39mapply_raw()\n\u001b[0;32m--> 688\u001b[0m \u001b[38;5;28;01mreturn\u001b[39;00m \u001b[38;5;28;43mself\u001b[39;49m\u001b[38;5;241;43m.\u001b[39;49m\u001b[43mapply_standard\u001b[49m\u001b[43m(\u001b[49m\u001b[43m)\u001b[49m\n",
      "File \u001b[0;32m~/anaconda3/envs/investment_buddy/lib/python3.8/site-packages/pandas/core/apply.py:812\u001b[0m, in \u001b[0;36mFrameApply.apply_standard\u001b[0;34m(self)\u001b[0m\n\u001b[1;32m    811\u001b[0m \u001b[38;5;28;01mdef\u001b[39;00m \u001b[38;5;21mapply_standard\u001b[39m(\u001b[38;5;28mself\u001b[39m):\n\u001b[0;32m--> 812\u001b[0m     results, res_index \u001b[38;5;241m=\u001b[39m \u001b[38;5;28;43mself\u001b[39;49m\u001b[38;5;241;43m.\u001b[39;49m\u001b[43mapply_series_generator\u001b[49m\u001b[43m(\u001b[49m\u001b[43m)\u001b[49m\n\u001b[1;32m    814\u001b[0m     \u001b[38;5;66;03m# wrap results\u001b[39;00m\n\u001b[1;32m    815\u001b[0m     \u001b[38;5;28;01mreturn\u001b[39;00m \u001b[38;5;28mself\u001b[39m\u001b[38;5;241m.\u001b[39mwrap_results(results, res_index)\n",
      "File \u001b[0;32m~/anaconda3/envs/investment_buddy/lib/python3.8/site-packages/pandas/core/apply.py:828\u001b[0m, in \u001b[0;36mFrameApply.apply_series_generator\u001b[0;34m(self)\u001b[0m\n\u001b[1;32m    825\u001b[0m \u001b[38;5;28;01mwith\u001b[39;00m option_context(\u001b[38;5;124m\"\u001b[39m\u001b[38;5;124mmode.chained_assignment\u001b[39m\u001b[38;5;124m\"\u001b[39m, \u001b[38;5;28;01mNone\u001b[39;00m):\n\u001b[1;32m    826\u001b[0m     \u001b[38;5;28;01mfor\u001b[39;00m i, v \u001b[38;5;129;01min\u001b[39;00m \u001b[38;5;28menumerate\u001b[39m(series_gen):\n\u001b[1;32m    827\u001b[0m         \u001b[38;5;66;03m# ignore SettingWithCopy here in case the user mutates\u001b[39;00m\n\u001b[0;32m--> 828\u001b[0m         results[i] \u001b[38;5;241m=\u001b[39m \u001b[38;5;28;43mself\u001b[39;49m\u001b[38;5;241;43m.\u001b[39;49m\u001b[43mf\u001b[49m\u001b[43m(\u001b[49m\u001b[43mv\u001b[49m\u001b[43m)\u001b[49m\n\u001b[1;32m    829\u001b[0m         \u001b[38;5;28;01mif\u001b[39;00m \u001b[38;5;28misinstance\u001b[39m(results[i], ABCSeries):\n\u001b[1;32m    830\u001b[0m             \u001b[38;5;66;03m# If we have a view on v, we need to make a copy because\u001b[39;00m\n\u001b[1;32m    831\u001b[0m             \u001b[38;5;66;03m#  series_generator will swap out the underlying data\u001b[39;00m\n\u001b[1;32m    832\u001b[0m             results[i] \u001b[38;5;241m=\u001b[39m results[i]\u001b[38;5;241m.\u001b[39mcopy(deep\u001b[38;5;241m=\u001b[39m\u001b[38;5;28;01mFalse\u001b[39;00m)\n",
      "File \u001b[0;32m~/anaconda3/envs/investment_buddy/lib/python3.8/site-packages/tqdm/std.py:809\u001b[0m, in \u001b[0;36mtqdm.pandas.<locals>.inner_generator.<locals>.inner.<locals>.wrapper\u001b[0;34m(*args, **kwargs)\u001b[0m\n\u001b[1;32m    803\u001b[0m \u001b[38;5;28;01mdef\u001b[39;00m \u001b[38;5;21mwrapper\u001b[39m(\u001b[38;5;241m*\u001b[39margs, \u001b[38;5;241m*\u001b[39m\u001b[38;5;241m*\u001b[39mkwargs):\n\u001b[1;32m    804\u001b[0m     \u001b[38;5;66;03m# update tbar correctly\u001b[39;00m\n\u001b[1;32m    805\u001b[0m     \u001b[38;5;66;03m# it seems `pandas apply` calls `func` twice\u001b[39;00m\n\u001b[1;32m    806\u001b[0m     \u001b[38;5;66;03m# on the first column/row to decide whether it can\u001b[39;00m\n\u001b[1;32m    807\u001b[0m     \u001b[38;5;66;03m# take a fast or slow code path; so stop when t.total==t.n\u001b[39;00m\n\u001b[1;32m    808\u001b[0m     t\u001b[38;5;241m.\u001b[39mupdate(n\u001b[38;5;241m=\u001b[39m\u001b[38;5;241m1\u001b[39m \u001b[38;5;28;01mif\u001b[39;00m \u001b[38;5;129;01mnot\u001b[39;00m t\u001b[38;5;241m.\u001b[39mtotal \u001b[38;5;129;01mor\u001b[39;00m t\u001b[38;5;241m.\u001b[39mn \u001b[38;5;241m<\u001b[39m t\u001b[38;5;241m.\u001b[39mtotal \u001b[38;5;28;01melse\u001b[39;00m \u001b[38;5;241m0\u001b[39m)\n\u001b[0;32m--> 809\u001b[0m     \u001b[38;5;28;01mreturn\u001b[39;00m \u001b[43mfunc\u001b[49m\u001b[43m(\u001b[49m\u001b[38;5;241;43m*\u001b[39;49m\u001b[43margs\u001b[49m\u001b[43m,\u001b[49m\u001b[43m \u001b[49m\u001b[38;5;241;43m*\u001b[39;49m\u001b[38;5;241;43m*\u001b[39;49m\u001b[43mkwargs\u001b[49m\u001b[43m)\u001b[49m\n",
      "Input \u001b[0;32mIn [13]\u001b[0m, in \u001b[0;36m<lambda>.<locals>.<lambda>\u001b[0;34m(row)\u001b[0m\n\u001b[1;32m      1\u001b[0m df_filtered \u001b[38;5;241m=\u001b[39m df_filtered\u001b[38;5;241m.\u001b[39massign(\n\u001b[1;32m      2\u001b[0m     pf\u001b[38;5;241m=\u001b[39m\u001b[38;5;28;01mlambda\u001b[39;00m df: df\u001b[38;5;241m.\u001b[39mprogress_apply(\n\u001b[0;32m----> 3\u001b[0m         \u001b[38;5;28;01mlambda\u001b[39;00m row: \u001b[43mPageFinder\u001b[49m\u001b[43m(\u001b[49m\u001b[43mrow\u001b[49m\u001b[43m[\u001b[49m\u001b[38;5;124;43m\"\u001b[39;49m\u001b[38;5;124;43misin\u001b[39;49m\u001b[38;5;124;43m\"\u001b[39;49m\u001b[43m]\u001b[49m\u001b[43m,\u001b[49m\u001b[43m \u001b[49m\u001b[43mrow\u001b[49m\u001b[43m[\u001b[49m\u001b[38;5;124;43m\"\u001b[39;49m\u001b[38;5;124;43msymbol\u001b[39;49m\u001b[38;5;124;43m\"\u001b[39;49m\u001b[43m]\u001b[49m\u001b[43m)\u001b[49m, axis\u001b[38;5;241m=\u001b[39m\u001b[38;5;241m1\u001b[39m\n\u001b[1;32m      4\u001b[0m     ),\n\u001b[1;32m      5\u001b[0m )\n",
      "Input \u001b[0;32mIn [11]\u001b[0m, in \u001b[0;36mPageFinder.__init__\u001b[0;34m(self, isin, symbol)\u001b[0m\n\u001b[1;32m     19\u001b[0m options\u001b[38;5;241m.\u001b[39madd_experimental_option(\u001b[38;5;124m'\u001b[39m\u001b[38;5;124mexcludeSwitches\u001b[39m\u001b[38;5;124m'\u001b[39m, [\u001b[38;5;124m'\u001b[39m\u001b[38;5;124menable-logging\u001b[39m\u001b[38;5;124m'\u001b[39m])\n\u001b[1;32m     20\u001b[0m \u001b[38;5;28mself\u001b[39m\u001b[38;5;241m.\u001b[39mbrowser \u001b[38;5;241m=\u001b[39m webdriver\u001b[38;5;241m.\u001b[39mChrome(\n\u001b[1;32m     21\u001b[0m     service\u001b[38;5;241m=\u001b[39mService(ChromeDriverManager()\u001b[38;5;241m.\u001b[39minstall()), options\u001b[38;5;241m=\u001b[39moptions\n\u001b[1;32m     22\u001b[0m )\n\u001b[0;32m---> 23\u001b[0m \u001b[38;5;28;43mself\u001b[39;49m\u001b[38;5;241;43m.\u001b[39;49m\u001b[43mtry_finding_info\u001b[49m\u001b[43m(\u001b[49m\u001b[43m)\u001b[49m\n",
      "Input \u001b[0;32mIn [11]\u001b[0m, in \u001b[0;36mPageFinder.try_finding_info\u001b[0;34m(self)\u001b[0m\n\u001b[1;32m    100\u001b[0m search_terms \u001b[38;5;241m=\u001b[39m [\u001b[38;5;28mself\u001b[39m\u001b[38;5;241m.\u001b[39misin] \u001b[38;5;241m+\u001b[39m [\n\u001b[1;32m    101\u001b[0m     \u001b[38;5;28mself\u001b[39m\u001b[38;5;241m.\u001b[39msymbol[:i] \u001b[38;5;28;01mfor\u001b[39;00m i \u001b[38;5;129;01min\u001b[39;00m \u001b[38;5;28mrange\u001b[39m(\u001b[38;5;28mlen\u001b[39m(\u001b[38;5;28mself\u001b[39m\u001b[38;5;241m.\u001b[39msymbol), \u001b[38;5;241m3\u001b[39m, \u001b[38;5;241m-\u001b[39m\u001b[38;5;241m1\u001b[39m)\n\u001b[1;32m    102\u001b[0m ]\n\u001b[1;32m    103\u001b[0m \u001b[38;5;28;01mfor\u001b[39;00m term \u001b[38;5;129;01min\u001b[39;00m search_terms:\n\u001b[0;32m--> 104\u001b[0m     \u001b[38;5;28;01mif\u001b[39;00m \u001b[38;5;28;43mself\u001b[39;49m\u001b[38;5;241;43m.\u001b[39;49m\u001b[43mvalidate_and_gather_info\u001b[49m\u001b[43m(\u001b[49m\u001b[43mterm\u001b[49m\u001b[43m)\u001b[49m:\n\u001b[1;32m    105\u001b[0m         logging\u001b[38;5;241m.\u001b[39minfo(\u001b[38;5;124mf\u001b[39m\u001b[38;5;124m\"\u001b[39m\u001b[38;5;124mFound data for \u001b[39m\u001b[38;5;132;01m{\u001b[39;00m\u001b[38;5;28mself\u001b[39m\u001b[38;5;241m.\u001b[39msymbol\u001b[38;5;132;01m}\u001b[39;00m\u001b[38;5;124m\"\u001b[39m)\n\u001b[1;32m    106\u001b[0m         \u001b[38;5;28;01mreturn\u001b[39;00m\n",
      "Input \u001b[0;32mIn [11]\u001b[0m, in \u001b[0;36mPageFinder.validate_and_gather_info\u001b[0;34m(self, term)\u001b[0m\n\u001b[1;32m     37\u001b[0m logging\u001b[38;5;241m.\u001b[39minfo(\u001b[38;5;124mf\u001b[39m\u001b[38;5;124m\"\u001b[39m\u001b[38;5;124mGathering Data for \u001b[39m\u001b[38;5;132;01m{\u001b[39;00m\u001b[38;5;28mself\u001b[39m\u001b[38;5;241m.\u001b[39msymbol\u001b[38;5;132;01m}\u001b[39;00m\u001b[38;5;124m\"\u001b[39m)\n\u001b[1;32m     38\u001b[0m \u001b[38;5;28mself\u001b[39m\u001b[38;5;241m.\u001b[39murl \u001b[38;5;241m=\u001b[39m url\n\u001b[0;32m---> 39\u001b[0m soup_home \u001b[38;5;241m=\u001b[39m \u001b[38;5;28;43mself\u001b[39;49m\u001b[38;5;241;43m.\u001b[39;49m\u001b[43mget_parsed_content\u001b[49m\u001b[43m(\u001b[49m\u001b[43murl\u001b[49m\u001b[43m,\u001b[49m\u001b[43m \u001b[49m\u001b[38;5;241;43m5\u001b[39;49m\u001b[43m)\u001b[49m\n\u001b[1;32m     40\u001b[0m market_cap \u001b[38;5;241m=\u001b[39m soup_home\u001b[38;5;241m.\u001b[39mselect_one(\n\u001b[1;32m     41\u001b[0m     \u001b[38;5;28mself\u001b[39m\u001b[38;5;241m.\u001b[39mkeys_dict[\u001b[38;5;124m\"\u001b[39m\u001b[38;5;124mmarket_cap\u001b[39m\u001b[38;5;124m\"\u001b[39m]\u001b[38;5;241m.\u001b[39mreplace(\u001b[38;5;124m\"\u001b[39m\u001b[38;5;124m \u001b[39m\u001b[38;5;124m\"\u001b[39m, \u001b[38;5;124m\"\u001b[39m\u001b[38;5;124m.\u001b[39m\u001b[38;5;124m\"\u001b[39m)\n\u001b[1;32m     42\u001b[0m )\u001b[38;5;241m.\u001b[39mtext\u001b[38;5;241m.\u001b[39mreplace(\u001b[38;5;124m\"\u001b[39m\u001b[38;5;124m,\u001b[39m\u001b[38;5;124m\"\u001b[39m, \u001b[38;5;124m\"\u001b[39m\u001b[38;5;124m\"\u001b[39m)\n\u001b[1;32m     43\u001b[0m \u001b[38;5;28mself\u001b[39m\u001b[38;5;241m.\u001b[39mprops[\u001b[38;5;124m\"\u001b[39m\u001b[38;5;124mmarket_cap\u001b[39m\u001b[38;5;124m\"\u001b[39m] \u001b[38;5;241m=\u001b[39m \u001b[38;5;28mfloat\u001b[39m(market_cap)\n",
      "Input \u001b[0;32mIn [11]\u001b[0m, in \u001b[0;36mPageFinder.get_parsed_content\u001b[0;34m(self, url, wait_time)\u001b[0m\n\u001b[1;32m     28\u001b[0m \u001b[38;5;28;01mdef\u001b[39;00m \u001b[38;5;21mget_parsed_content\u001b[39m(\u001b[38;5;28mself\u001b[39m, url, wait_time\u001b[38;5;241m=\u001b[39m\u001b[38;5;241m0\u001b[39m):\n\u001b[1;32m     29\u001b[0m     \u001b[38;5;28mself\u001b[39m\u001b[38;5;241m.\u001b[39mbrowser\u001b[38;5;241m.\u001b[39mimplicitly_wait(wait_time)\n\u001b[0;32m---> 30\u001b[0m     \u001b[38;5;28;43mself\u001b[39;49m\u001b[38;5;241;43m.\u001b[39;49m\u001b[43mbrowser\u001b[49m\u001b[38;5;241;43m.\u001b[39;49m\u001b[43mget\u001b[49m\u001b[43m(\u001b[49m\u001b[43murl\u001b[49m\u001b[43m)\u001b[49m\n\u001b[1;32m     31\u001b[0m     \u001b[38;5;28;01mreturn\u001b[39;00m BeautifulSoup(\u001b[38;5;28mself\u001b[39m\u001b[38;5;241m.\u001b[39mbrowser\u001b[38;5;241m.\u001b[39mpage_source)\n",
      "File \u001b[0;32m~/anaconda3/envs/investment_buddy/lib/python3.8/site-packages/selenium/webdriver/remote/webdriver.py:437\u001b[0m, in \u001b[0;36mWebDriver.get\u001b[0;34m(self, url)\u001b[0m\n\u001b[1;32m    433\u001b[0m \u001b[38;5;28;01mdef\u001b[39;00m \u001b[38;5;21mget\u001b[39m(\u001b[38;5;28mself\u001b[39m, url: \u001b[38;5;28mstr\u001b[39m) \u001b[38;5;241m-\u001b[39m\u001b[38;5;241m>\u001b[39m \u001b[38;5;28;01mNone\u001b[39;00m:\n\u001b[1;32m    434\u001b[0m     \u001b[38;5;124;03m\"\"\"\u001b[39;00m\n\u001b[1;32m    435\u001b[0m \u001b[38;5;124;03m    Loads a web page in the current browser session.\u001b[39;00m\n\u001b[1;32m    436\u001b[0m \u001b[38;5;124;03m    \"\"\"\u001b[39;00m\n\u001b[0;32m--> 437\u001b[0m     \u001b[38;5;28;43mself\u001b[39;49m\u001b[38;5;241;43m.\u001b[39;49m\u001b[43mexecute\u001b[49m\u001b[43m(\u001b[49m\u001b[43mCommand\u001b[49m\u001b[38;5;241;43m.\u001b[39;49m\u001b[43mGET\u001b[49m\u001b[43m,\u001b[49m\u001b[43m \u001b[49m\u001b[43m{\u001b[49m\u001b[38;5;124;43m'\u001b[39;49m\u001b[38;5;124;43murl\u001b[39;49m\u001b[38;5;124;43m'\u001b[39;49m\u001b[43m:\u001b[49m\u001b[43m \u001b[49m\u001b[43murl\u001b[49m\u001b[43m}\u001b[49m\u001b[43m)\u001b[49m\n",
      "File \u001b[0;32m~/anaconda3/envs/investment_buddy/lib/python3.8/site-packages/selenium/webdriver/remote/webdriver.py:423\u001b[0m, in \u001b[0;36mWebDriver.execute\u001b[0;34m(self, driver_command, params)\u001b[0m\n\u001b[1;32m    420\u001b[0m         params[\u001b[38;5;124m'\u001b[39m\u001b[38;5;124msessionId\u001b[39m\u001b[38;5;124m'\u001b[39m] \u001b[38;5;241m=\u001b[39m \u001b[38;5;28mself\u001b[39m\u001b[38;5;241m.\u001b[39msession_id\n\u001b[1;32m    422\u001b[0m params \u001b[38;5;241m=\u001b[39m \u001b[38;5;28mself\u001b[39m\u001b[38;5;241m.\u001b[39m_wrap_value(params)\n\u001b[0;32m--> 423\u001b[0m response \u001b[38;5;241m=\u001b[39m \u001b[38;5;28;43mself\u001b[39;49m\u001b[38;5;241;43m.\u001b[39;49m\u001b[43mcommand_executor\u001b[49m\u001b[38;5;241;43m.\u001b[39;49m\u001b[43mexecute\u001b[49m\u001b[43m(\u001b[49m\u001b[43mdriver_command\u001b[49m\u001b[43m,\u001b[49m\u001b[43m \u001b[49m\u001b[43mparams\u001b[49m\u001b[43m)\u001b[49m\n\u001b[1;32m    424\u001b[0m \u001b[38;5;28;01mif\u001b[39;00m response:\n\u001b[1;32m    425\u001b[0m     \u001b[38;5;28mself\u001b[39m\u001b[38;5;241m.\u001b[39merror_handler\u001b[38;5;241m.\u001b[39mcheck_response(response)\n",
      "File \u001b[0;32m~/anaconda3/envs/investment_buddy/lib/python3.8/site-packages/selenium/webdriver/remote/remote_connection.py:316\u001b[0m, in \u001b[0;36mRemoteConnection.execute\u001b[0;34m(self, command, params)\u001b[0m\n\u001b[1;32m    314\u001b[0m data \u001b[38;5;241m=\u001b[39m utils\u001b[38;5;241m.\u001b[39mdump_json(params)\n\u001b[1;32m    315\u001b[0m url \u001b[38;5;241m=\u001b[39m \u001b[38;5;124mf\u001b[39m\u001b[38;5;124m\"\u001b[39m\u001b[38;5;132;01m{\u001b[39;00m\u001b[38;5;28mself\u001b[39m\u001b[38;5;241m.\u001b[39m_url\u001b[38;5;132;01m}\u001b[39;00m\u001b[38;5;132;01m{\u001b[39;00mpath\u001b[38;5;132;01m}\u001b[39;00m\u001b[38;5;124m\"\u001b[39m\n\u001b[0;32m--> 316\u001b[0m \u001b[38;5;28;01mreturn\u001b[39;00m \u001b[38;5;28;43mself\u001b[39;49m\u001b[38;5;241;43m.\u001b[39;49m\u001b[43m_request\u001b[49m\u001b[43m(\u001b[49m\u001b[43mcommand_info\u001b[49m\u001b[43m[\u001b[49m\u001b[38;5;241;43m0\u001b[39;49m\u001b[43m]\u001b[49m\u001b[43m,\u001b[49m\u001b[43m \u001b[49m\u001b[43murl\u001b[49m\u001b[43m,\u001b[49m\u001b[43m \u001b[49m\u001b[43mbody\u001b[49m\u001b[38;5;241;43m=\u001b[39;49m\u001b[43mdata\u001b[49m\u001b[43m)\u001b[49m\n",
      "File \u001b[0;32m~/anaconda3/envs/investment_buddy/lib/python3.8/site-packages/selenium/webdriver/remote/remote_connection.py:338\u001b[0m, in \u001b[0;36mRemoteConnection._request\u001b[0;34m(self, method, url, body)\u001b[0m\n\u001b[1;32m    335\u001b[0m     body \u001b[38;5;241m=\u001b[39m \u001b[38;5;28;01mNone\u001b[39;00m\n\u001b[1;32m    337\u001b[0m \u001b[38;5;28;01mif\u001b[39;00m \u001b[38;5;28mself\u001b[39m\u001b[38;5;241m.\u001b[39mkeep_alive:\n\u001b[0;32m--> 338\u001b[0m     resp \u001b[38;5;241m=\u001b[39m \u001b[38;5;28;43mself\u001b[39;49m\u001b[38;5;241;43m.\u001b[39;49m\u001b[43m_conn\u001b[49m\u001b[38;5;241;43m.\u001b[39;49m\u001b[43mrequest\u001b[49m\u001b[43m(\u001b[49m\u001b[43mmethod\u001b[49m\u001b[43m,\u001b[49m\u001b[43m \u001b[49m\u001b[43murl\u001b[49m\u001b[43m,\u001b[49m\u001b[43m \u001b[49m\u001b[43mbody\u001b[49m\u001b[38;5;241;43m=\u001b[39;49m\u001b[43mbody\u001b[49m\u001b[43m,\u001b[49m\u001b[43m \u001b[49m\u001b[43mheaders\u001b[49m\u001b[38;5;241;43m=\u001b[39;49m\u001b[43mheaders\u001b[49m\u001b[43m)\u001b[49m\n\u001b[1;32m    339\u001b[0m     statuscode \u001b[38;5;241m=\u001b[39m resp\u001b[38;5;241m.\u001b[39mstatus\n\u001b[1;32m    340\u001b[0m \u001b[38;5;28;01melse\u001b[39;00m:\n",
      "File \u001b[0;32m~/anaconda3/envs/investment_buddy/lib/python3.8/site-packages/urllib3/request.py:78\u001b[0m, in \u001b[0;36mRequestMethods.request\u001b[0;34m(self, method, url, fields, headers, **urlopen_kw)\u001b[0m\n\u001b[1;32m     74\u001b[0m     \u001b[38;5;28;01mreturn\u001b[39;00m \u001b[38;5;28mself\u001b[39m\u001b[38;5;241m.\u001b[39mrequest_encode_url(\n\u001b[1;32m     75\u001b[0m         method, url, fields\u001b[38;5;241m=\u001b[39mfields, headers\u001b[38;5;241m=\u001b[39mheaders, \u001b[38;5;241m*\u001b[39m\u001b[38;5;241m*\u001b[39murlopen_kw\n\u001b[1;32m     76\u001b[0m     )\n\u001b[1;32m     77\u001b[0m \u001b[38;5;28;01melse\u001b[39;00m:\n\u001b[0;32m---> 78\u001b[0m     \u001b[38;5;28;01mreturn\u001b[39;00m \u001b[38;5;28;43mself\u001b[39;49m\u001b[38;5;241;43m.\u001b[39;49m\u001b[43mrequest_encode_body\u001b[49m\u001b[43m(\u001b[49m\n\u001b[1;32m     79\u001b[0m \u001b[43m        \u001b[49m\u001b[43mmethod\u001b[49m\u001b[43m,\u001b[49m\u001b[43m \u001b[49m\u001b[43murl\u001b[49m\u001b[43m,\u001b[49m\u001b[43m \u001b[49m\u001b[43mfields\u001b[49m\u001b[38;5;241;43m=\u001b[39;49m\u001b[43mfields\u001b[49m\u001b[43m,\u001b[49m\u001b[43m \u001b[49m\u001b[43mheaders\u001b[49m\u001b[38;5;241;43m=\u001b[39;49m\u001b[43mheaders\u001b[49m\u001b[43m,\u001b[49m\u001b[43m \u001b[49m\u001b[38;5;241;43m*\u001b[39;49m\u001b[38;5;241;43m*\u001b[39;49m\u001b[43murlopen_kw\u001b[49m\n\u001b[1;32m     80\u001b[0m \u001b[43m    \u001b[49m\u001b[43m)\u001b[49m\n",
      "File \u001b[0;32m~/anaconda3/envs/investment_buddy/lib/python3.8/site-packages/urllib3/request.py:170\u001b[0m, in \u001b[0;36mRequestMethods.request_encode_body\u001b[0;34m(self, method, url, fields, headers, encode_multipart, multipart_boundary, **urlopen_kw)\u001b[0m\n\u001b[1;32m    167\u001b[0m extra_kw[\u001b[38;5;124m\"\u001b[39m\u001b[38;5;124mheaders\u001b[39m\u001b[38;5;124m\"\u001b[39m]\u001b[38;5;241m.\u001b[39mupdate(headers)\n\u001b[1;32m    168\u001b[0m extra_kw\u001b[38;5;241m.\u001b[39mupdate(urlopen_kw)\n\u001b[0;32m--> 170\u001b[0m \u001b[38;5;28;01mreturn\u001b[39;00m \u001b[38;5;28;43mself\u001b[39;49m\u001b[38;5;241;43m.\u001b[39;49m\u001b[43murlopen\u001b[49m\u001b[43m(\u001b[49m\u001b[43mmethod\u001b[49m\u001b[43m,\u001b[49m\u001b[43m \u001b[49m\u001b[43murl\u001b[49m\u001b[43m,\u001b[49m\u001b[43m \u001b[49m\u001b[38;5;241;43m*\u001b[39;49m\u001b[38;5;241;43m*\u001b[39;49m\u001b[43mextra_kw\u001b[49m\u001b[43m)\u001b[49m\n",
      "File \u001b[0;32m~/anaconda3/envs/investment_buddy/lib/python3.8/site-packages/urllib3/poolmanager.py:375\u001b[0m, in \u001b[0;36mPoolManager.urlopen\u001b[0;34m(self, method, url, redirect, **kw)\u001b[0m\n\u001b[1;32m    373\u001b[0m     response \u001b[38;5;241m=\u001b[39m conn\u001b[38;5;241m.\u001b[39murlopen(method, url, \u001b[38;5;241m*\u001b[39m\u001b[38;5;241m*\u001b[39mkw)\n\u001b[1;32m    374\u001b[0m \u001b[38;5;28;01melse\u001b[39;00m:\n\u001b[0;32m--> 375\u001b[0m     response \u001b[38;5;241m=\u001b[39m \u001b[43mconn\u001b[49m\u001b[38;5;241;43m.\u001b[39;49m\u001b[43murlopen\u001b[49m\u001b[43m(\u001b[49m\u001b[43mmethod\u001b[49m\u001b[43m,\u001b[49m\u001b[43m \u001b[49m\u001b[43mu\u001b[49m\u001b[38;5;241;43m.\u001b[39;49m\u001b[43mrequest_uri\u001b[49m\u001b[43m,\u001b[49m\u001b[43m \u001b[49m\u001b[38;5;241;43m*\u001b[39;49m\u001b[38;5;241;43m*\u001b[39;49m\u001b[43mkw\u001b[49m\u001b[43m)\u001b[49m\n\u001b[1;32m    377\u001b[0m redirect_location \u001b[38;5;241m=\u001b[39m redirect \u001b[38;5;129;01mand\u001b[39;00m response\u001b[38;5;241m.\u001b[39mget_redirect_location()\n\u001b[1;32m    378\u001b[0m \u001b[38;5;28;01mif\u001b[39;00m \u001b[38;5;129;01mnot\u001b[39;00m redirect_location:\n",
      "File \u001b[0;32m~/anaconda3/envs/investment_buddy/lib/python3.8/site-packages/urllib3/connectionpool.py:703\u001b[0m, in \u001b[0;36mHTTPConnectionPool.urlopen\u001b[0;34m(self, method, url, body, headers, retries, redirect, assert_same_host, timeout, pool_timeout, release_conn, chunked, body_pos, **response_kw)\u001b[0m\n\u001b[1;32m    700\u001b[0m     \u001b[38;5;28mself\u001b[39m\u001b[38;5;241m.\u001b[39m_prepare_proxy(conn)\n\u001b[1;32m    702\u001b[0m \u001b[38;5;66;03m# Make the request on the httplib connection object.\u001b[39;00m\n\u001b[0;32m--> 703\u001b[0m httplib_response \u001b[38;5;241m=\u001b[39m \u001b[38;5;28;43mself\u001b[39;49m\u001b[38;5;241;43m.\u001b[39;49m\u001b[43m_make_request\u001b[49m\u001b[43m(\u001b[49m\n\u001b[1;32m    704\u001b[0m \u001b[43m    \u001b[49m\u001b[43mconn\u001b[49m\u001b[43m,\u001b[49m\n\u001b[1;32m    705\u001b[0m \u001b[43m    \u001b[49m\u001b[43mmethod\u001b[49m\u001b[43m,\u001b[49m\n\u001b[1;32m    706\u001b[0m \u001b[43m    \u001b[49m\u001b[43murl\u001b[49m\u001b[43m,\u001b[49m\n\u001b[1;32m    707\u001b[0m \u001b[43m    \u001b[49m\u001b[43mtimeout\u001b[49m\u001b[38;5;241;43m=\u001b[39;49m\u001b[43mtimeout_obj\u001b[49m\u001b[43m,\u001b[49m\n\u001b[1;32m    708\u001b[0m \u001b[43m    \u001b[49m\u001b[43mbody\u001b[49m\u001b[38;5;241;43m=\u001b[39;49m\u001b[43mbody\u001b[49m\u001b[43m,\u001b[49m\n\u001b[1;32m    709\u001b[0m \u001b[43m    \u001b[49m\u001b[43mheaders\u001b[49m\u001b[38;5;241;43m=\u001b[39;49m\u001b[43mheaders\u001b[49m\u001b[43m,\u001b[49m\n\u001b[1;32m    710\u001b[0m \u001b[43m    \u001b[49m\u001b[43mchunked\u001b[49m\u001b[38;5;241;43m=\u001b[39;49m\u001b[43mchunked\u001b[49m\u001b[43m,\u001b[49m\n\u001b[1;32m    711\u001b[0m \u001b[43m\u001b[49m\u001b[43m)\u001b[49m\n\u001b[1;32m    713\u001b[0m \u001b[38;5;66;03m# If we're going to release the connection in ``finally:``, then\u001b[39;00m\n\u001b[1;32m    714\u001b[0m \u001b[38;5;66;03m# the response doesn't need to know about the connection. Otherwise\u001b[39;00m\n\u001b[1;32m    715\u001b[0m \u001b[38;5;66;03m# it will also try to release it and we'll have a double-release\u001b[39;00m\n\u001b[1;32m    716\u001b[0m \u001b[38;5;66;03m# mess.\u001b[39;00m\n\u001b[1;32m    717\u001b[0m response_conn \u001b[38;5;241m=\u001b[39m conn \u001b[38;5;28;01mif\u001b[39;00m \u001b[38;5;129;01mnot\u001b[39;00m release_conn \u001b[38;5;28;01melse\u001b[39;00m \u001b[38;5;28;01mNone\u001b[39;00m\n",
      "File \u001b[0;32m~/anaconda3/envs/investment_buddy/lib/python3.8/site-packages/urllib3/connectionpool.py:449\u001b[0m, in \u001b[0;36mHTTPConnectionPool._make_request\u001b[0;34m(self, conn, method, url, timeout, chunked, **httplib_request_kw)\u001b[0m\n\u001b[1;32m    444\u001b[0m             httplib_response \u001b[38;5;241m=\u001b[39m conn\u001b[38;5;241m.\u001b[39mgetresponse()\n\u001b[1;32m    445\u001b[0m         \u001b[38;5;28;01mexcept\u001b[39;00m \u001b[38;5;167;01mBaseException\u001b[39;00m \u001b[38;5;28;01mas\u001b[39;00m e:\n\u001b[1;32m    446\u001b[0m             \u001b[38;5;66;03m# Remove the TypeError from the exception chain in\u001b[39;00m\n\u001b[1;32m    447\u001b[0m             \u001b[38;5;66;03m# Python 3 (including for exceptions like SystemExit).\u001b[39;00m\n\u001b[1;32m    448\u001b[0m             \u001b[38;5;66;03m# Otherwise it looks like a bug in the code.\u001b[39;00m\n\u001b[0;32m--> 449\u001b[0m             \u001b[43msix\u001b[49m\u001b[38;5;241;43m.\u001b[39;49m\u001b[43mraise_from\u001b[49m\u001b[43m(\u001b[49m\u001b[43me\u001b[49m\u001b[43m,\u001b[49m\u001b[43m \u001b[49m\u001b[38;5;28;43;01mNone\u001b[39;49;00m\u001b[43m)\u001b[49m\n\u001b[1;32m    450\u001b[0m \u001b[38;5;28;01mexcept\u001b[39;00m (SocketTimeout, BaseSSLError, SocketError) \u001b[38;5;28;01mas\u001b[39;00m e:\n\u001b[1;32m    451\u001b[0m     \u001b[38;5;28mself\u001b[39m\u001b[38;5;241m.\u001b[39m_raise_timeout(err\u001b[38;5;241m=\u001b[39me, url\u001b[38;5;241m=\u001b[39murl, timeout_value\u001b[38;5;241m=\u001b[39mread_timeout)\n",
      "File \u001b[0;32m<string>:3\u001b[0m, in \u001b[0;36mraise_from\u001b[0;34m(value, from_value)\u001b[0m\n",
      "File \u001b[0;32m~/anaconda3/envs/investment_buddy/lib/python3.8/site-packages/urllib3/connectionpool.py:444\u001b[0m, in \u001b[0;36mHTTPConnectionPool._make_request\u001b[0;34m(self, conn, method, url, timeout, chunked, **httplib_request_kw)\u001b[0m\n\u001b[1;32m    441\u001b[0m \u001b[38;5;28;01mexcept\u001b[39;00m \u001b[38;5;167;01mTypeError\u001b[39;00m:\n\u001b[1;32m    442\u001b[0m     \u001b[38;5;66;03m# Python 3\u001b[39;00m\n\u001b[1;32m    443\u001b[0m     \u001b[38;5;28;01mtry\u001b[39;00m:\n\u001b[0;32m--> 444\u001b[0m         httplib_response \u001b[38;5;241m=\u001b[39m \u001b[43mconn\u001b[49m\u001b[38;5;241;43m.\u001b[39;49m\u001b[43mgetresponse\u001b[49m\u001b[43m(\u001b[49m\u001b[43m)\u001b[49m\n\u001b[1;32m    445\u001b[0m     \u001b[38;5;28;01mexcept\u001b[39;00m \u001b[38;5;167;01mBaseException\u001b[39;00m \u001b[38;5;28;01mas\u001b[39;00m e:\n\u001b[1;32m    446\u001b[0m         \u001b[38;5;66;03m# Remove the TypeError from the exception chain in\u001b[39;00m\n\u001b[1;32m    447\u001b[0m         \u001b[38;5;66;03m# Python 3 (including for exceptions like SystemExit).\u001b[39;00m\n\u001b[1;32m    448\u001b[0m         \u001b[38;5;66;03m# Otherwise it looks like a bug in the code.\u001b[39;00m\n\u001b[1;32m    449\u001b[0m         six\u001b[38;5;241m.\u001b[39mraise_from(e, \u001b[38;5;28;01mNone\u001b[39;00m)\n",
      "File \u001b[0;32m~/anaconda3/envs/investment_buddy/lib/python3.8/http/client.py:1348\u001b[0m, in \u001b[0;36mHTTPConnection.getresponse\u001b[0;34m(self)\u001b[0m\n\u001b[1;32m   1346\u001b[0m \u001b[38;5;28;01mtry\u001b[39;00m:\n\u001b[1;32m   1347\u001b[0m     \u001b[38;5;28;01mtry\u001b[39;00m:\n\u001b[0;32m-> 1348\u001b[0m         \u001b[43mresponse\u001b[49m\u001b[38;5;241;43m.\u001b[39;49m\u001b[43mbegin\u001b[49m\u001b[43m(\u001b[49m\u001b[43m)\u001b[49m\n\u001b[1;32m   1349\u001b[0m     \u001b[38;5;28;01mexcept\u001b[39;00m \u001b[38;5;167;01mConnectionError\u001b[39;00m:\n\u001b[1;32m   1350\u001b[0m         \u001b[38;5;28mself\u001b[39m\u001b[38;5;241m.\u001b[39mclose()\n",
      "File \u001b[0;32m~/anaconda3/envs/investment_buddy/lib/python3.8/http/client.py:316\u001b[0m, in \u001b[0;36mHTTPResponse.begin\u001b[0;34m(self)\u001b[0m\n\u001b[1;32m    314\u001b[0m \u001b[38;5;66;03m# read until we get a non-100 response\u001b[39;00m\n\u001b[1;32m    315\u001b[0m \u001b[38;5;28;01mwhile\u001b[39;00m \u001b[38;5;28;01mTrue\u001b[39;00m:\n\u001b[0;32m--> 316\u001b[0m     version, status, reason \u001b[38;5;241m=\u001b[39m \u001b[38;5;28;43mself\u001b[39;49m\u001b[38;5;241;43m.\u001b[39;49m\u001b[43m_read_status\u001b[49m\u001b[43m(\u001b[49m\u001b[43m)\u001b[49m\n\u001b[1;32m    317\u001b[0m     \u001b[38;5;28;01mif\u001b[39;00m status \u001b[38;5;241m!=\u001b[39m CONTINUE:\n\u001b[1;32m    318\u001b[0m         \u001b[38;5;28;01mbreak\u001b[39;00m\n",
      "File \u001b[0;32m~/anaconda3/envs/investment_buddy/lib/python3.8/http/client.py:277\u001b[0m, in \u001b[0;36mHTTPResponse._read_status\u001b[0;34m(self)\u001b[0m\n\u001b[1;32m    276\u001b[0m \u001b[38;5;28;01mdef\u001b[39;00m \u001b[38;5;21m_read_status\u001b[39m(\u001b[38;5;28mself\u001b[39m):\n\u001b[0;32m--> 277\u001b[0m     line \u001b[38;5;241m=\u001b[39m \u001b[38;5;28mstr\u001b[39m(\u001b[38;5;28;43mself\u001b[39;49m\u001b[38;5;241;43m.\u001b[39;49m\u001b[43mfp\u001b[49m\u001b[38;5;241;43m.\u001b[39;49m\u001b[43mreadline\u001b[49m\u001b[43m(\u001b[49m\u001b[43m_MAXLINE\u001b[49m\u001b[43m \u001b[49m\u001b[38;5;241;43m+\u001b[39;49m\u001b[43m \u001b[49m\u001b[38;5;241;43m1\u001b[39;49m\u001b[43m)\u001b[49m, \u001b[38;5;124m\"\u001b[39m\u001b[38;5;124miso-8859-1\u001b[39m\u001b[38;5;124m\"\u001b[39m)\n\u001b[1;32m    278\u001b[0m     \u001b[38;5;28;01mif\u001b[39;00m \u001b[38;5;28mlen\u001b[39m(line) \u001b[38;5;241m>\u001b[39m _MAXLINE:\n\u001b[1;32m    279\u001b[0m         \u001b[38;5;28;01mraise\u001b[39;00m LineTooLong(\u001b[38;5;124m\"\u001b[39m\u001b[38;5;124mstatus line\u001b[39m\u001b[38;5;124m\"\u001b[39m)\n",
      "File \u001b[0;32m~/anaconda3/envs/investment_buddy/lib/python3.8/socket.py:669\u001b[0m, in \u001b[0;36mSocketIO.readinto\u001b[0;34m(self, b)\u001b[0m\n\u001b[1;32m    667\u001b[0m \u001b[38;5;28;01mwhile\u001b[39;00m \u001b[38;5;28;01mTrue\u001b[39;00m:\n\u001b[1;32m    668\u001b[0m     \u001b[38;5;28;01mtry\u001b[39;00m:\n\u001b[0;32m--> 669\u001b[0m         \u001b[38;5;28;01mreturn\u001b[39;00m \u001b[38;5;28;43mself\u001b[39;49m\u001b[38;5;241;43m.\u001b[39;49m\u001b[43m_sock\u001b[49m\u001b[38;5;241;43m.\u001b[39;49m\u001b[43mrecv_into\u001b[49m\u001b[43m(\u001b[49m\u001b[43mb\u001b[49m\u001b[43m)\u001b[49m\n\u001b[1;32m    670\u001b[0m     \u001b[38;5;28;01mexcept\u001b[39;00m timeout:\n\u001b[1;32m    671\u001b[0m         \u001b[38;5;28mself\u001b[39m\u001b[38;5;241m.\u001b[39m_timeout_occurred \u001b[38;5;241m=\u001b[39m \u001b[38;5;28;01mTrue\u001b[39;00m\n",
      "\u001b[0;31mKeyboardInterrupt\u001b[0m: "
     ]
    }
   ],
   "source": [
    "df_filtered = df_filtered.assign(\n",
    "    pf=lambda df: df.progress_apply(\n",
    "        lambda row: PageFinder(row[\"isin\"], row[\"symbol\"]), axis=1\n",
    "    ),\n",
    ")"
   ]
  },
  {
   "cell_type": "code",
   "execution_count": 227,
   "id": "a1496c5d-54a7-4f3e-9639-f372c4245c90",
   "metadata": {},
   "outputs": [],
   "source": [
    "df = df_filtered.pf.apply(lambda pf: pf.props).apply(pd.Series).iloc[[0, 2]]"
   ]
  },
  {
   "cell_type": "code",
   "execution_count": 228,
   "id": "087e8330-a417-49a0-a718-a5d7badc3909",
   "metadata": {},
   "outputs": [],
   "source": [
    "cols = [\n",
    "    \"consolidated_rnw\",\n",
    "    \"standalone_rnw\",\n",
    "    \"consolidated_sr\",\n",
    "    \"consolidated_np\",\n",
    "    \"standalone_sr\",\n",
    "    \"standalone_np\",\n",
    "    \"consolidated_de\",\n",
    "    \"standalone_de\",\n",
    "]"
   ]
  },
  {
   "cell_type": "code",
   "execution_count": 229,
   "id": "1905c640-23b6-483f-b416-5739782177aa",
   "metadata": {},
   "outputs": [],
   "source": [
    "for b, col in enumerate(cols):\n",
    "    names = [f\"{col.replace('_', ' ')}{i}\" for i in range(5, 0, -1)]\n",
    "    df[names] = pd.DataFrame(df[col].tolist(), index=df.index)\n",
    "    df[f\"BLANK {b}\"] = \"\"\n",
    "\n",
    "df = df.drop(columns=cols)"
   ]
  },
  {
   "cell_type": "markdown",
   "id": "2c78a276-0f32-4a87-857d-f96f64f9487c",
   "metadata": {},
   "source": [
    "Deal with \n",
    "\n",
    "1. ~Unequal number of elements for metrics~\n",
    "2. Stock not found. Have an exception  url csv? \n",
    "3. ~Wait for page to load to get elementslike market cap~\n",
    "4. ~Add the right css codes to scrape~\n",
    "4. Formatting - freeze panes, stripes, tables, sort by absence,"
   ]
  },
  {
   "cell_type": "code",
   "execution_count": 230,
   "id": "595e8a8e-eacd-433d-aabb-aa8c17e2cea9",
   "metadata": {},
   "outputs": [
    {
     "data": {
      "text/html": [
       "<div>\n",
       "<style scoped>\n",
       "    .dataframe tbody tr th:only-of-type {\n",
       "        vertical-align: middle;\n",
       "    }\n",
       "\n",
       "    .dataframe tbody tr th {\n",
       "        vertical-align: top;\n",
       "    }\n",
       "\n",
       "    .dataframe thead th {\n",
       "        text-align: right;\n",
       "    }\n",
       "</style>\n",
       "<table border=\"1\" class=\"dataframe\">\n",
       "  <thead>\n",
       "    <tr style=\"text-align: right;\">\n",
       "      <th></th>\n",
       "      <th>market_cap</th>\n",
       "      <th>consolidated rnw5</th>\n",
       "      <th>consolidated rnw4</th>\n",
       "      <th>consolidated rnw3</th>\n",
       "      <th>consolidated rnw2</th>\n",
       "      <th>consolidated rnw1</th>\n",
       "      <th>BLANK 0</th>\n",
       "      <th>standalone rnw5</th>\n",
       "      <th>standalone rnw4</th>\n",
       "      <th>standalone rnw3</th>\n",
       "      <th>standalone rnw2</th>\n",
       "      <th>standalone rnw1</th>\n",
       "      <th>BLANK 1</th>\n",
       "      <th>consolidated sr5</th>\n",
       "      <th>consolidated sr4</th>\n",
       "      <th>consolidated sr3</th>\n",
       "      <th>consolidated sr2</th>\n",
       "      <th>consolidated sr1</th>\n",
       "      <th>BLANK 2</th>\n",
       "      <th>consolidated np5</th>\n",
       "      <th>consolidated np4</th>\n",
       "      <th>consolidated np3</th>\n",
       "      <th>consolidated np2</th>\n",
       "      <th>consolidated np1</th>\n",
       "      <th>BLANK 3</th>\n",
       "      <th>standalone sr5</th>\n",
       "      <th>standalone sr4</th>\n",
       "      <th>standalone sr3</th>\n",
       "      <th>standalone sr2</th>\n",
       "      <th>standalone sr1</th>\n",
       "      <th>BLANK 4</th>\n",
       "      <th>standalone np5</th>\n",
       "      <th>standalone np4</th>\n",
       "      <th>standalone np3</th>\n",
       "      <th>standalone np2</th>\n",
       "      <th>standalone np1</th>\n",
       "      <th>BLANK 5</th>\n",
       "      <th>consolidated de5</th>\n",
       "      <th>consolidated de4</th>\n",
       "      <th>consolidated de3</th>\n",
       "      <th>consolidated de2</th>\n",
       "      <th>consolidated de1</th>\n",
       "      <th>BLANK 6</th>\n",
       "      <th>standalone de5</th>\n",
       "      <th>standalone de4</th>\n",
       "      <th>standalone de3</th>\n",
       "      <th>standalone de2</th>\n",
       "      <th>standalone de1</th>\n",
       "      <th>BLANK 7</th>\n",
       "    </tr>\n",
       "  </thead>\n",
       "  <tbody>\n",
       "    <tr>\n",
       "      <th>0</th>\n",
       "      <td>10.0</td>\n",
       "      <td>None</td>\n",
       "      <td>None</td>\n",
       "      <td>None</td>\n",
       "      <td>None</td>\n",
       "      <td>None</td>\n",
       "      <td></td>\n",
       "      <td>2.09</td>\n",
       "      <td>-2.23</td>\n",
       "      <td>1.00</td>\n",
       "      <td>1.59</td>\n",
       "      <td>1.54</td>\n",
       "      <td></td>\n",
       "      <td>None</td>\n",
       "      <td>None</td>\n",
       "      <td>None</td>\n",
       "      <td>None</td>\n",
       "      <td>None</td>\n",
       "      <td></td>\n",
       "      <td>None</td>\n",
       "      <td>None</td>\n",
       "      <td>None</td>\n",
       "      <td>None</td>\n",
       "      <td>None</td>\n",
       "      <td></td>\n",
       "      <td>0.51</td>\n",
       "      <td>0.33</td>\n",
       "      <td>0.71</td>\n",
       "      <td>3.01</td>\n",
       "      <td>0.47</td>\n",
       "      <td></td>\n",
       "      <td>0.08</td>\n",
       "      <td>-0.09</td>\n",
       "      <td>0.03</td>\n",
       "      <td>0.05</td>\n",
       "      <td>0.05</td>\n",
       "      <td></td>\n",
       "      <td>None</td>\n",
       "      <td>None</td>\n",
       "      <td>None</td>\n",
       "      <td>None</td>\n",
       "      <td>None</td>\n",
       "      <td></td>\n",
       "      <td>0.02</td>\n",
       "      <td>0.02</td>\n",
       "      <td>0.00</td>\n",
       "      <td>0.0</td>\n",
       "      <td>0.00</td>\n",
       "      <td></td>\n",
       "    </tr>\n",
       "    <tr>\n",
       "      <th>2</th>\n",
       "      <td>44.0</td>\n",
       "      <td>None</td>\n",
       "      <td>None</td>\n",
       "      <td>None</td>\n",
       "      <td>None</td>\n",
       "      <td>None</td>\n",
       "      <td></td>\n",
       "      <td>0.08</td>\n",
       "      <td>1.39</td>\n",
       "      <td>5.03</td>\n",
       "      <td>4.15</td>\n",
       "      <td>5.43</td>\n",
       "      <td></td>\n",
       "      <td>None</td>\n",
       "      <td>None</td>\n",
       "      <td>None</td>\n",
       "      <td>None</td>\n",
       "      <td>None</td>\n",
       "      <td></td>\n",
       "      <td>None</td>\n",
       "      <td>None</td>\n",
       "      <td>None</td>\n",
       "      <td>None</td>\n",
       "      <td>None</td>\n",
       "      <td></td>\n",
       "      <td>73.14</td>\n",
       "      <td>147.96</td>\n",
       "      <td>154.49</td>\n",
       "      <td>127.35</td>\n",
       "      <td>119.98</td>\n",
       "      <td></td>\n",
       "      <td>0.06</td>\n",
       "      <td>0.86</td>\n",
       "      <td>3.06</td>\n",
       "      <td>2.37</td>\n",
       "      <td>1.86</td>\n",
       "      <td></td>\n",
       "      <td>None</td>\n",
       "      <td>None</td>\n",
       "      <td>None</td>\n",
       "      <td>None</td>\n",
       "      <td>None</td>\n",
       "      <td></td>\n",
       "      <td>0.87</td>\n",
       "      <td>0.99</td>\n",
       "      <td>0.99</td>\n",
       "      <td>0.9</td>\n",
       "      <td>2.08</td>\n",
       "      <td></td>\n",
       "    </tr>\n",
       "  </tbody>\n",
       "</table>\n",
       "</div>"
      ],
      "text/plain": [
       "   market_cap consolidated rnw5 consolidated rnw4 consolidated rnw3  \\\n",
       "0        10.0              None              None              None   \n",
       "2        44.0              None              None              None   \n",
       "\n",
       "  consolidated rnw2 consolidated rnw1 BLANK 0  standalone rnw5  \\\n",
       "0              None              None                     2.09   \n",
       "2              None              None                     0.08   \n",
       "\n",
       "   standalone rnw4  standalone rnw3  standalone rnw2  standalone rnw1 BLANK 1  \\\n",
       "0            -2.23             1.00             1.59             1.54           \n",
       "2             1.39             5.03             4.15             5.43           \n",
       "\n",
       "  consolidated sr5 consolidated sr4 consolidated sr3 consolidated sr2  \\\n",
       "0             None             None             None             None   \n",
       "2             None             None             None             None   \n",
       "\n",
       "  consolidated sr1 BLANK 2 consolidated np5 consolidated np4 consolidated np3  \\\n",
       "0             None                     None             None             None   \n",
       "2             None                     None             None             None   \n",
       "\n",
       "  consolidated np2 consolidated np1 BLANK 3  standalone sr5  standalone sr4  \\\n",
       "0             None             None                    0.51            0.33   \n",
       "2             None             None                   73.14          147.96   \n",
       "\n",
       "   standalone sr3  standalone sr2  standalone sr1 BLANK 4  standalone np5  \\\n",
       "0            0.71            3.01            0.47                    0.08   \n",
       "2          154.49          127.35          119.98                    0.06   \n",
       "\n",
       "   standalone np4  standalone np3  standalone np2  standalone np1 BLANK 5  \\\n",
       "0           -0.09            0.03            0.05            0.05           \n",
       "2            0.86            3.06            2.37            1.86           \n",
       "\n",
       "  consolidated de5 consolidated de4 consolidated de3 consolidated de2  \\\n",
       "0             None             None             None             None   \n",
       "2             None             None             None             None   \n",
       "\n",
       "  consolidated de1 BLANK 6  standalone de5  standalone de4  standalone de3  \\\n",
       "0             None                    0.02            0.02            0.00   \n",
       "2             None                    0.87            0.99            0.99   \n",
       "\n",
       "   standalone de2  standalone de1 BLANK 7  \n",
       "0             0.0            0.00          \n",
       "2             0.9            2.08          "
      ]
     },
     "execution_count": 230,
     "metadata": {},
     "output_type": "execute_result"
    }
   ],
   "source": [
    "df"
   ]
  },
  {
   "cell_type": "code",
   "execution_count": 231,
   "id": "cac6537b-297d-4c19-97ae-cb70280015b8",
   "metadata": {},
   "outputs": [],
   "source": [
    "df_final = (\n",
    "    pd.concat(\n",
    "        [\n",
    "            df_filtered[[\"symbol\", \"isin\", \"exchange\", \"filter\"]],\n",
    "            df,\n",
    "            df_filtered[[\"date_str\"]],\n",
    "        ],\n",
    "        axis=1,\n",
    "    )\n",
    "    .assign(no_data=lambda df: df.market_cap.isna())\n",
    "    .sort_values(\"no_data\")\n",
    ")\n",
    "\n",
    "df_final.loc[~df_final.no_data] = df_final.loc[~df_final.no_data].fillna(\"\")\n",
    "\n",
    "df_final.loc[df_final.no_data] = df_final.loc[df_final.no_data].fillna(\n",
    "    \"No Match in Money Control\"\n",
    ")\n",
    "\n",
    "df_final = df_final.drop(columns=\"no_data\").rename(columns=str.upper)"
   ]
  },
  {
   "cell_type": "code",
   "execution_count": 266,
   "id": "d33698e3-dd50-4120-b732-38b8276c2e78",
   "metadata": {},
   "outputs": [],
   "source": [
    "import shutil\n",
    "import openpyxl\n",
    "from openpyxl.utils.dataframe import dataframe_to_rows"
   ]
  },
  {
   "cell_type": "code",
   "execution_count": 257,
   "id": "f937b5cb-1dea-4d36-88f1-242586f29406",
   "metadata": {},
   "outputs": [
    {
     "data": {
      "text/plain": [
       "'data/final/20220225.xlsx'"
      ]
     },
     "execution_count": 257,
     "metadata": {},
     "output_type": "execute_result"
    }
   ],
   "source": [
    "shutil.copy(\"data/results_template.xlsx\", f\"data/final/{data_filter.date_str}.xlsx\")"
   ]
  },
  {
   "cell_type": "code",
   "execution_count": 262,
   "id": "460cf8a2-d545-439b-9983-2a4c1e5dfdb1",
   "metadata": {},
   "outputs": [],
   "source": []
  },
  {
   "cell_type": "code",
   "execution_count": 268,
   "id": "e2b28b81-2559-479d-a313-32802145163c",
   "metadata": {},
   "outputs": [
    {
     "data": {
      "text/plain": [
       "<Cell 'Sheet1'.A2>"
      ]
     },
     "execution_count": 268,
     "metadata": {},
     "output_type": "execute_result"
    },
    {
     "data": {
      "text/plain": [
       "<Cell 'Sheet1'.B2>"
      ]
     },
     "execution_count": 268,
     "metadata": {},
     "output_type": "execute_result"
    },
    {
     "data": {
      "text/plain": [
       "<Cell 'Sheet1'.C2>"
      ]
     },
     "execution_count": 268,
     "metadata": {},
     "output_type": "execute_result"
    },
    {
     "data": {
      "text/plain": [
       "<Cell 'Sheet1'.D2>"
      ]
     },
     "execution_count": 268,
     "metadata": {},
     "output_type": "execute_result"
    },
    {
     "data": {
      "text/plain": [
       "<Cell 'Sheet1'.E2>"
      ]
     },
     "execution_count": 268,
     "metadata": {},
     "output_type": "execute_result"
    },
    {
     "data": {
      "text/plain": [
       "<Cell 'Sheet1'.F2>"
      ]
     },
     "execution_count": 268,
     "metadata": {},
     "output_type": "execute_result"
    },
    {
     "data": {
      "text/plain": [
       "<Cell 'Sheet1'.G2>"
      ]
     },
     "execution_count": 268,
     "metadata": {},
     "output_type": "execute_result"
    },
    {
     "data": {
      "text/plain": [
       "<Cell 'Sheet1'.H2>"
      ]
     },
     "execution_count": 268,
     "metadata": {},
     "output_type": "execute_result"
    },
    {
     "data": {
      "text/plain": [
       "<Cell 'Sheet1'.I2>"
      ]
     },
     "execution_count": 268,
     "metadata": {},
     "output_type": "execute_result"
    },
    {
     "data": {
      "text/plain": [
       "<Cell 'Sheet1'.J2>"
      ]
     },
     "execution_count": 268,
     "metadata": {},
     "output_type": "execute_result"
    },
    {
     "data": {
      "text/plain": [
       "<Cell 'Sheet1'.K2>"
      ]
     },
     "execution_count": 268,
     "metadata": {},
     "output_type": "execute_result"
    },
    {
     "data": {
      "text/plain": [
       "<Cell 'Sheet1'.L2>"
      ]
     },
     "execution_count": 268,
     "metadata": {},
     "output_type": "execute_result"
    },
    {
     "data": {
      "text/plain": [
       "<Cell 'Sheet1'.M2>"
      ]
     },
     "execution_count": 268,
     "metadata": {},
     "output_type": "execute_result"
    },
    {
     "data": {
      "text/plain": [
       "<Cell 'Sheet1'.N2>"
      ]
     },
     "execution_count": 268,
     "metadata": {},
     "output_type": "execute_result"
    },
    {
     "data": {
      "text/plain": [
       "<Cell 'Sheet1'.O2>"
      ]
     },
     "execution_count": 268,
     "metadata": {},
     "output_type": "execute_result"
    },
    {
     "data": {
      "text/plain": [
       "<Cell 'Sheet1'.P2>"
      ]
     },
     "execution_count": 268,
     "metadata": {},
     "output_type": "execute_result"
    },
    {
     "data": {
      "text/plain": [
       "<Cell 'Sheet1'.Q2>"
      ]
     },
     "execution_count": 268,
     "metadata": {},
     "output_type": "execute_result"
    },
    {
     "data": {
      "text/plain": [
       "<Cell 'Sheet1'.R2>"
      ]
     },
     "execution_count": 268,
     "metadata": {},
     "output_type": "execute_result"
    },
    {
     "data": {
      "text/plain": [
       "<Cell 'Sheet1'.S2>"
      ]
     },
     "execution_count": 268,
     "metadata": {},
     "output_type": "execute_result"
    },
    {
     "data": {
      "text/plain": [
       "<Cell 'Sheet1'.T2>"
      ]
     },
     "execution_count": 268,
     "metadata": {},
     "output_type": "execute_result"
    },
    {
     "data": {
      "text/plain": [
       "<Cell 'Sheet1'.U2>"
      ]
     },
     "execution_count": 268,
     "metadata": {},
     "output_type": "execute_result"
    },
    {
     "data": {
      "text/plain": [
       "<Cell 'Sheet1'.V2>"
      ]
     },
     "execution_count": 268,
     "metadata": {},
     "output_type": "execute_result"
    },
    {
     "data": {
      "text/plain": [
       "<Cell 'Sheet1'.W2>"
      ]
     },
     "execution_count": 268,
     "metadata": {},
     "output_type": "execute_result"
    },
    {
     "data": {
      "text/plain": [
       "<Cell 'Sheet1'.X2>"
      ]
     },
     "execution_count": 268,
     "metadata": {},
     "output_type": "execute_result"
    },
    {
     "data": {
      "text/plain": [
       "<Cell 'Sheet1'.Y2>"
      ]
     },
     "execution_count": 268,
     "metadata": {},
     "output_type": "execute_result"
    },
    {
     "data": {
      "text/plain": [
       "<Cell 'Sheet1'.Z2>"
      ]
     },
     "execution_count": 268,
     "metadata": {},
     "output_type": "execute_result"
    },
    {
     "data": {
      "text/plain": [
       "<Cell 'Sheet1'.AA2>"
      ]
     },
     "execution_count": 268,
     "metadata": {},
     "output_type": "execute_result"
    },
    {
     "data": {
      "text/plain": [
       "<Cell 'Sheet1'.AB2>"
      ]
     },
     "execution_count": 268,
     "metadata": {},
     "output_type": "execute_result"
    },
    {
     "data": {
      "text/plain": [
       "<Cell 'Sheet1'.AC2>"
      ]
     },
     "execution_count": 268,
     "metadata": {},
     "output_type": "execute_result"
    },
    {
     "data": {
      "text/plain": [
       "<Cell 'Sheet1'.AD2>"
      ]
     },
     "execution_count": 268,
     "metadata": {},
     "output_type": "execute_result"
    },
    {
     "data": {
      "text/plain": [
       "<Cell 'Sheet1'.AE2>"
      ]
     },
     "execution_count": 268,
     "metadata": {},
     "output_type": "execute_result"
    },
    {
     "data": {
      "text/plain": [
       "<Cell 'Sheet1'.AF2>"
      ]
     },
     "execution_count": 268,
     "metadata": {},
     "output_type": "execute_result"
    },
    {
     "data": {
      "text/plain": [
       "<Cell 'Sheet1'.AG2>"
      ]
     },
     "execution_count": 268,
     "metadata": {},
     "output_type": "execute_result"
    },
    {
     "data": {
      "text/plain": [
       "<Cell 'Sheet1'.AH2>"
      ]
     },
     "execution_count": 268,
     "metadata": {},
     "output_type": "execute_result"
    },
    {
     "data": {
      "text/plain": [
       "<Cell 'Sheet1'.AI2>"
      ]
     },
     "execution_count": 268,
     "metadata": {},
     "output_type": "execute_result"
    },
    {
     "data": {
      "text/plain": [
       "<Cell 'Sheet1'.AJ2>"
      ]
     },
     "execution_count": 268,
     "metadata": {},
     "output_type": "execute_result"
    },
    {
     "data": {
      "text/plain": [
       "<Cell 'Sheet1'.AK2>"
      ]
     },
     "execution_count": 268,
     "metadata": {},
     "output_type": "execute_result"
    },
    {
     "data": {
      "text/plain": [
       "<Cell 'Sheet1'.AL2>"
      ]
     },
     "execution_count": 268,
     "metadata": {},
     "output_type": "execute_result"
    },
    {
     "data": {
      "text/plain": [
       "<Cell 'Sheet1'.AM2>"
      ]
     },
     "execution_count": 268,
     "metadata": {},
     "output_type": "execute_result"
    },
    {
     "data": {
      "text/plain": [
       "<Cell 'Sheet1'.AN2>"
      ]
     },
     "execution_count": 268,
     "metadata": {},
     "output_type": "execute_result"
    },
    {
     "data": {
      "text/plain": [
       "<Cell 'Sheet1'.AO2>"
      ]
     },
     "execution_count": 268,
     "metadata": {},
     "output_type": "execute_result"
    },
    {
     "data": {
      "text/plain": [
       "<Cell 'Sheet1'.AP2>"
      ]
     },
     "execution_count": 268,
     "metadata": {},
     "output_type": "execute_result"
    },
    {
     "data": {
      "text/plain": [
       "<Cell 'Sheet1'.AQ2>"
      ]
     },
     "execution_count": 268,
     "metadata": {},
     "output_type": "execute_result"
    },
    {
     "data": {
      "text/plain": [
       "<Cell 'Sheet1'.AR2>"
      ]
     },
     "execution_count": 268,
     "metadata": {},
     "output_type": "execute_result"
    },
    {
     "data": {
      "text/plain": [
       "<Cell 'Sheet1'.AS2>"
      ]
     },
     "execution_count": 268,
     "metadata": {},
     "output_type": "execute_result"
    },
    {
     "data": {
      "text/plain": [
       "<Cell 'Sheet1'.AT2>"
      ]
     },
     "execution_count": 268,
     "metadata": {},
     "output_type": "execute_result"
    },
    {
     "data": {
      "text/plain": [
       "<Cell 'Sheet1'.AU2>"
      ]
     },
     "execution_count": 268,
     "metadata": {},
     "output_type": "execute_result"
    },
    {
     "data": {
      "text/plain": [
       "<Cell 'Sheet1'.AV2>"
      ]
     },
     "execution_count": 268,
     "metadata": {},
     "output_type": "execute_result"
    },
    {
     "data": {
      "text/plain": [
       "<Cell 'Sheet1'.AW2>"
      ]
     },
     "execution_count": 268,
     "metadata": {},
     "output_type": "execute_result"
    },
    {
     "data": {
      "text/plain": [
       "<Cell 'Sheet1'.AX2>"
      ]
     },
     "execution_count": 268,
     "metadata": {},
     "output_type": "execute_result"
    },
    {
     "data": {
      "text/plain": [
       "<Cell 'Sheet1'.AY2>"
      ]
     },
     "execution_count": 268,
     "metadata": {},
     "output_type": "execute_result"
    },
    {
     "data": {
      "text/plain": [
       "<Cell 'Sheet1'.AZ2>"
      ]
     },
     "execution_count": 268,
     "metadata": {},
     "output_type": "execute_result"
    },
    {
     "data": {
      "text/plain": [
       "<Cell 'Sheet1'.BA2>"
      ]
     },
     "execution_count": 268,
     "metadata": {},
     "output_type": "execute_result"
    },
    {
     "data": {
      "text/plain": [
       "<Cell 'Sheet1'.BB2>"
      ]
     },
     "execution_count": 268,
     "metadata": {},
     "output_type": "execute_result"
    },
    {
     "data": {
      "text/plain": [
       "<Cell 'Sheet1'.A3>"
      ]
     },
     "execution_count": 268,
     "metadata": {},
     "output_type": "execute_result"
    },
    {
     "data": {
      "text/plain": [
       "<Cell 'Sheet1'.B3>"
      ]
     },
     "execution_count": 268,
     "metadata": {},
     "output_type": "execute_result"
    },
    {
     "data": {
      "text/plain": [
       "<Cell 'Sheet1'.C3>"
      ]
     },
     "execution_count": 268,
     "metadata": {},
     "output_type": "execute_result"
    },
    {
     "data": {
      "text/plain": [
       "<Cell 'Sheet1'.D3>"
      ]
     },
     "execution_count": 268,
     "metadata": {},
     "output_type": "execute_result"
    },
    {
     "data": {
      "text/plain": [
       "<Cell 'Sheet1'.E3>"
      ]
     },
     "execution_count": 268,
     "metadata": {},
     "output_type": "execute_result"
    },
    {
     "data": {
      "text/plain": [
       "<Cell 'Sheet1'.F3>"
      ]
     },
     "execution_count": 268,
     "metadata": {},
     "output_type": "execute_result"
    },
    {
     "data": {
      "text/plain": [
       "<Cell 'Sheet1'.G3>"
      ]
     },
     "execution_count": 268,
     "metadata": {},
     "output_type": "execute_result"
    },
    {
     "data": {
      "text/plain": [
       "<Cell 'Sheet1'.H3>"
      ]
     },
     "execution_count": 268,
     "metadata": {},
     "output_type": "execute_result"
    },
    {
     "data": {
      "text/plain": [
       "<Cell 'Sheet1'.I3>"
      ]
     },
     "execution_count": 268,
     "metadata": {},
     "output_type": "execute_result"
    },
    {
     "data": {
      "text/plain": [
       "<Cell 'Sheet1'.J3>"
      ]
     },
     "execution_count": 268,
     "metadata": {},
     "output_type": "execute_result"
    },
    {
     "data": {
      "text/plain": [
       "<Cell 'Sheet1'.K3>"
      ]
     },
     "execution_count": 268,
     "metadata": {},
     "output_type": "execute_result"
    },
    {
     "data": {
      "text/plain": [
       "<Cell 'Sheet1'.L3>"
      ]
     },
     "execution_count": 268,
     "metadata": {},
     "output_type": "execute_result"
    },
    {
     "data": {
      "text/plain": [
       "<Cell 'Sheet1'.M3>"
      ]
     },
     "execution_count": 268,
     "metadata": {},
     "output_type": "execute_result"
    },
    {
     "data": {
      "text/plain": [
       "<Cell 'Sheet1'.N3>"
      ]
     },
     "execution_count": 268,
     "metadata": {},
     "output_type": "execute_result"
    },
    {
     "data": {
      "text/plain": [
       "<Cell 'Sheet1'.O3>"
      ]
     },
     "execution_count": 268,
     "metadata": {},
     "output_type": "execute_result"
    },
    {
     "data": {
      "text/plain": [
       "<Cell 'Sheet1'.P3>"
      ]
     },
     "execution_count": 268,
     "metadata": {},
     "output_type": "execute_result"
    },
    {
     "data": {
      "text/plain": [
       "<Cell 'Sheet1'.Q3>"
      ]
     },
     "execution_count": 268,
     "metadata": {},
     "output_type": "execute_result"
    },
    {
     "data": {
      "text/plain": [
       "<Cell 'Sheet1'.R3>"
      ]
     },
     "execution_count": 268,
     "metadata": {},
     "output_type": "execute_result"
    },
    {
     "data": {
      "text/plain": [
       "<Cell 'Sheet1'.S3>"
      ]
     },
     "execution_count": 268,
     "metadata": {},
     "output_type": "execute_result"
    },
    {
     "data": {
      "text/plain": [
       "<Cell 'Sheet1'.T3>"
      ]
     },
     "execution_count": 268,
     "metadata": {},
     "output_type": "execute_result"
    },
    {
     "data": {
      "text/plain": [
       "<Cell 'Sheet1'.U3>"
      ]
     },
     "execution_count": 268,
     "metadata": {},
     "output_type": "execute_result"
    },
    {
     "data": {
      "text/plain": [
       "<Cell 'Sheet1'.V3>"
      ]
     },
     "execution_count": 268,
     "metadata": {},
     "output_type": "execute_result"
    },
    {
     "data": {
      "text/plain": [
       "<Cell 'Sheet1'.W3>"
      ]
     },
     "execution_count": 268,
     "metadata": {},
     "output_type": "execute_result"
    },
    {
     "data": {
      "text/plain": [
       "<Cell 'Sheet1'.X3>"
      ]
     },
     "execution_count": 268,
     "metadata": {},
     "output_type": "execute_result"
    },
    {
     "data": {
      "text/plain": [
       "<Cell 'Sheet1'.Y3>"
      ]
     },
     "execution_count": 268,
     "metadata": {},
     "output_type": "execute_result"
    },
    {
     "data": {
      "text/plain": [
       "<Cell 'Sheet1'.Z3>"
      ]
     },
     "execution_count": 268,
     "metadata": {},
     "output_type": "execute_result"
    },
    {
     "data": {
      "text/plain": [
       "<Cell 'Sheet1'.AA3>"
      ]
     },
     "execution_count": 268,
     "metadata": {},
     "output_type": "execute_result"
    },
    {
     "data": {
      "text/plain": [
       "<Cell 'Sheet1'.AB3>"
      ]
     },
     "execution_count": 268,
     "metadata": {},
     "output_type": "execute_result"
    },
    {
     "data": {
      "text/plain": [
       "<Cell 'Sheet1'.AC3>"
      ]
     },
     "execution_count": 268,
     "metadata": {},
     "output_type": "execute_result"
    },
    {
     "data": {
      "text/plain": [
       "<Cell 'Sheet1'.AD3>"
      ]
     },
     "execution_count": 268,
     "metadata": {},
     "output_type": "execute_result"
    },
    {
     "data": {
      "text/plain": [
       "<Cell 'Sheet1'.AE3>"
      ]
     },
     "execution_count": 268,
     "metadata": {},
     "output_type": "execute_result"
    },
    {
     "data": {
      "text/plain": [
       "<Cell 'Sheet1'.AF3>"
      ]
     },
     "execution_count": 268,
     "metadata": {},
     "output_type": "execute_result"
    },
    {
     "data": {
      "text/plain": [
       "<Cell 'Sheet1'.AG3>"
      ]
     },
     "execution_count": 268,
     "metadata": {},
     "output_type": "execute_result"
    },
    {
     "data": {
      "text/plain": [
       "<Cell 'Sheet1'.AH3>"
      ]
     },
     "execution_count": 268,
     "metadata": {},
     "output_type": "execute_result"
    },
    {
     "data": {
      "text/plain": [
       "<Cell 'Sheet1'.AI3>"
      ]
     },
     "execution_count": 268,
     "metadata": {},
     "output_type": "execute_result"
    },
    {
     "data": {
      "text/plain": [
       "<Cell 'Sheet1'.AJ3>"
      ]
     },
     "execution_count": 268,
     "metadata": {},
     "output_type": "execute_result"
    },
    {
     "data": {
      "text/plain": [
       "<Cell 'Sheet1'.AK3>"
      ]
     },
     "execution_count": 268,
     "metadata": {},
     "output_type": "execute_result"
    },
    {
     "data": {
      "text/plain": [
       "<Cell 'Sheet1'.AL3>"
      ]
     },
     "execution_count": 268,
     "metadata": {},
     "output_type": "execute_result"
    },
    {
     "data": {
      "text/plain": [
       "<Cell 'Sheet1'.AM3>"
      ]
     },
     "execution_count": 268,
     "metadata": {},
     "output_type": "execute_result"
    },
    {
     "data": {
      "text/plain": [
       "<Cell 'Sheet1'.AN3>"
      ]
     },
     "execution_count": 268,
     "metadata": {},
     "output_type": "execute_result"
    },
    {
     "data": {
      "text/plain": [
       "<Cell 'Sheet1'.AO3>"
      ]
     },
     "execution_count": 268,
     "metadata": {},
     "output_type": "execute_result"
    },
    {
     "data": {
      "text/plain": [
       "<Cell 'Sheet1'.AP3>"
      ]
     },
     "execution_count": 268,
     "metadata": {},
     "output_type": "execute_result"
    },
    {
     "data": {
      "text/plain": [
       "<Cell 'Sheet1'.AQ3>"
      ]
     },
     "execution_count": 268,
     "metadata": {},
     "output_type": "execute_result"
    },
    {
     "data": {
      "text/plain": [
       "<Cell 'Sheet1'.AR3>"
      ]
     },
     "execution_count": 268,
     "metadata": {},
     "output_type": "execute_result"
    },
    {
     "data": {
      "text/plain": [
       "<Cell 'Sheet1'.AS3>"
      ]
     },
     "execution_count": 268,
     "metadata": {},
     "output_type": "execute_result"
    },
    {
     "data": {
      "text/plain": [
       "<Cell 'Sheet1'.AT3>"
      ]
     },
     "execution_count": 268,
     "metadata": {},
     "output_type": "execute_result"
    },
    {
     "data": {
      "text/plain": [
       "<Cell 'Sheet1'.AU3>"
      ]
     },
     "execution_count": 268,
     "metadata": {},
     "output_type": "execute_result"
    },
    {
     "data": {
      "text/plain": [
       "<Cell 'Sheet1'.AV3>"
      ]
     },
     "execution_count": 268,
     "metadata": {},
     "output_type": "execute_result"
    },
    {
     "data": {
      "text/plain": [
       "<Cell 'Sheet1'.AW3>"
      ]
     },
     "execution_count": 268,
     "metadata": {},
     "output_type": "execute_result"
    },
    {
     "data": {
      "text/plain": [
       "<Cell 'Sheet1'.AX3>"
      ]
     },
     "execution_count": 268,
     "metadata": {},
     "output_type": "execute_result"
    },
    {
     "data": {
      "text/plain": [
       "<Cell 'Sheet1'.AY3>"
      ]
     },
     "execution_count": 268,
     "metadata": {},
     "output_type": "execute_result"
    },
    {
     "data": {
      "text/plain": [
       "<Cell 'Sheet1'.AZ3>"
      ]
     },
     "execution_count": 268,
     "metadata": {},
     "output_type": "execute_result"
    },
    {
     "data": {
      "text/plain": [
       "<Cell 'Sheet1'.BA3>"
      ]
     },
     "execution_count": 268,
     "metadata": {},
     "output_type": "execute_result"
    },
    {
     "data": {
      "text/plain": [
       "<Cell 'Sheet1'.BB3>"
      ]
     },
     "execution_count": 268,
     "metadata": {},
     "output_type": "execute_result"
    },
    {
     "data": {
      "text/plain": [
       "<Cell 'Sheet1'.A4>"
      ]
     },
     "execution_count": 268,
     "metadata": {},
     "output_type": "execute_result"
    },
    {
     "data": {
      "text/plain": [
       "<Cell 'Sheet1'.B4>"
      ]
     },
     "execution_count": 268,
     "metadata": {},
     "output_type": "execute_result"
    },
    {
     "data": {
      "text/plain": [
       "<Cell 'Sheet1'.C4>"
      ]
     },
     "execution_count": 268,
     "metadata": {},
     "output_type": "execute_result"
    },
    {
     "data": {
      "text/plain": [
       "<Cell 'Sheet1'.D4>"
      ]
     },
     "execution_count": 268,
     "metadata": {},
     "output_type": "execute_result"
    },
    {
     "data": {
      "text/plain": [
       "<Cell 'Sheet1'.E4>"
      ]
     },
     "execution_count": 268,
     "metadata": {},
     "output_type": "execute_result"
    },
    {
     "data": {
      "text/plain": [
       "<Cell 'Sheet1'.F4>"
      ]
     },
     "execution_count": 268,
     "metadata": {},
     "output_type": "execute_result"
    },
    {
     "data": {
      "text/plain": [
       "<Cell 'Sheet1'.G4>"
      ]
     },
     "execution_count": 268,
     "metadata": {},
     "output_type": "execute_result"
    },
    {
     "data": {
      "text/plain": [
       "<Cell 'Sheet1'.H4>"
      ]
     },
     "execution_count": 268,
     "metadata": {},
     "output_type": "execute_result"
    },
    {
     "data": {
      "text/plain": [
       "<Cell 'Sheet1'.I4>"
      ]
     },
     "execution_count": 268,
     "metadata": {},
     "output_type": "execute_result"
    },
    {
     "data": {
      "text/plain": [
       "<Cell 'Sheet1'.J4>"
      ]
     },
     "execution_count": 268,
     "metadata": {},
     "output_type": "execute_result"
    },
    {
     "data": {
      "text/plain": [
       "<Cell 'Sheet1'.K4>"
      ]
     },
     "execution_count": 268,
     "metadata": {},
     "output_type": "execute_result"
    },
    {
     "data": {
      "text/plain": [
       "<Cell 'Sheet1'.L4>"
      ]
     },
     "execution_count": 268,
     "metadata": {},
     "output_type": "execute_result"
    },
    {
     "data": {
      "text/plain": [
       "<Cell 'Sheet1'.M4>"
      ]
     },
     "execution_count": 268,
     "metadata": {},
     "output_type": "execute_result"
    },
    {
     "data": {
      "text/plain": [
       "<Cell 'Sheet1'.N4>"
      ]
     },
     "execution_count": 268,
     "metadata": {},
     "output_type": "execute_result"
    },
    {
     "data": {
      "text/plain": [
       "<Cell 'Sheet1'.O4>"
      ]
     },
     "execution_count": 268,
     "metadata": {},
     "output_type": "execute_result"
    },
    {
     "data": {
      "text/plain": [
       "<Cell 'Sheet1'.P4>"
      ]
     },
     "execution_count": 268,
     "metadata": {},
     "output_type": "execute_result"
    },
    {
     "data": {
      "text/plain": [
       "<Cell 'Sheet1'.Q4>"
      ]
     },
     "execution_count": 268,
     "metadata": {},
     "output_type": "execute_result"
    },
    {
     "data": {
      "text/plain": [
       "<Cell 'Sheet1'.R4>"
      ]
     },
     "execution_count": 268,
     "metadata": {},
     "output_type": "execute_result"
    },
    {
     "data": {
      "text/plain": [
       "<Cell 'Sheet1'.S4>"
      ]
     },
     "execution_count": 268,
     "metadata": {},
     "output_type": "execute_result"
    },
    {
     "data": {
      "text/plain": [
       "<Cell 'Sheet1'.T4>"
      ]
     },
     "execution_count": 268,
     "metadata": {},
     "output_type": "execute_result"
    },
    {
     "data": {
      "text/plain": [
       "<Cell 'Sheet1'.U4>"
      ]
     },
     "execution_count": 268,
     "metadata": {},
     "output_type": "execute_result"
    },
    {
     "data": {
      "text/plain": [
       "<Cell 'Sheet1'.V4>"
      ]
     },
     "execution_count": 268,
     "metadata": {},
     "output_type": "execute_result"
    },
    {
     "data": {
      "text/plain": [
       "<Cell 'Sheet1'.W4>"
      ]
     },
     "execution_count": 268,
     "metadata": {},
     "output_type": "execute_result"
    },
    {
     "data": {
      "text/plain": [
       "<Cell 'Sheet1'.X4>"
      ]
     },
     "execution_count": 268,
     "metadata": {},
     "output_type": "execute_result"
    },
    {
     "data": {
      "text/plain": [
       "<Cell 'Sheet1'.Y4>"
      ]
     },
     "execution_count": 268,
     "metadata": {},
     "output_type": "execute_result"
    },
    {
     "data": {
      "text/plain": [
       "<Cell 'Sheet1'.Z4>"
      ]
     },
     "execution_count": 268,
     "metadata": {},
     "output_type": "execute_result"
    },
    {
     "data": {
      "text/plain": [
       "<Cell 'Sheet1'.AA4>"
      ]
     },
     "execution_count": 268,
     "metadata": {},
     "output_type": "execute_result"
    },
    {
     "data": {
      "text/plain": [
       "<Cell 'Sheet1'.AB4>"
      ]
     },
     "execution_count": 268,
     "metadata": {},
     "output_type": "execute_result"
    },
    {
     "data": {
      "text/plain": [
       "<Cell 'Sheet1'.AC4>"
      ]
     },
     "execution_count": 268,
     "metadata": {},
     "output_type": "execute_result"
    },
    {
     "data": {
      "text/plain": [
       "<Cell 'Sheet1'.AD4>"
      ]
     },
     "execution_count": 268,
     "metadata": {},
     "output_type": "execute_result"
    },
    {
     "data": {
      "text/plain": [
       "<Cell 'Sheet1'.AE4>"
      ]
     },
     "execution_count": 268,
     "metadata": {},
     "output_type": "execute_result"
    },
    {
     "data": {
      "text/plain": [
       "<Cell 'Sheet1'.AF4>"
      ]
     },
     "execution_count": 268,
     "metadata": {},
     "output_type": "execute_result"
    },
    {
     "data": {
      "text/plain": [
       "<Cell 'Sheet1'.AG4>"
      ]
     },
     "execution_count": 268,
     "metadata": {},
     "output_type": "execute_result"
    },
    {
     "data": {
      "text/plain": [
       "<Cell 'Sheet1'.AH4>"
      ]
     },
     "execution_count": 268,
     "metadata": {},
     "output_type": "execute_result"
    },
    {
     "data": {
      "text/plain": [
       "<Cell 'Sheet1'.AI4>"
      ]
     },
     "execution_count": 268,
     "metadata": {},
     "output_type": "execute_result"
    },
    {
     "data": {
      "text/plain": [
       "<Cell 'Sheet1'.AJ4>"
      ]
     },
     "execution_count": 268,
     "metadata": {},
     "output_type": "execute_result"
    },
    {
     "data": {
      "text/plain": [
       "<Cell 'Sheet1'.AK4>"
      ]
     },
     "execution_count": 268,
     "metadata": {},
     "output_type": "execute_result"
    },
    {
     "data": {
      "text/plain": [
       "<Cell 'Sheet1'.AL4>"
      ]
     },
     "execution_count": 268,
     "metadata": {},
     "output_type": "execute_result"
    },
    {
     "data": {
      "text/plain": [
       "<Cell 'Sheet1'.AM4>"
      ]
     },
     "execution_count": 268,
     "metadata": {},
     "output_type": "execute_result"
    },
    {
     "data": {
      "text/plain": [
       "<Cell 'Sheet1'.AN4>"
      ]
     },
     "execution_count": 268,
     "metadata": {},
     "output_type": "execute_result"
    },
    {
     "data": {
      "text/plain": [
       "<Cell 'Sheet1'.AO4>"
      ]
     },
     "execution_count": 268,
     "metadata": {},
     "output_type": "execute_result"
    },
    {
     "data": {
      "text/plain": [
       "<Cell 'Sheet1'.AP4>"
      ]
     },
     "execution_count": 268,
     "metadata": {},
     "output_type": "execute_result"
    },
    {
     "data": {
      "text/plain": [
       "<Cell 'Sheet1'.AQ4>"
      ]
     },
     "execution_count": 268,
     "metadata": {},
     "output_type": "execute_result"
    },
    {
     "data": {
      "text/plain": [
       "<Cell 'Sheet1'.AR4>"
      ]
     },
     "execution_count": 268,
     "metadata": {},
     "output_type": "execute_result"
    },
    {
     "data": {
      "text/plain": [
       "<Cell 'Sheet1'.AS4>"
      ]
     },
     "execution_count": 268,
     "metadata": {},
     "output_type": "execute_result"
    },
    {
     "data": {
      "text/plain": [
       "<Cell 'Sheet1'.AT4>"
      ]
     },
     "execution_count": 268,
     "metadata": {},
     "output_type": "execute_result"
    },
    {
     "data": {
      "text/plain": [
       "<Cell 'Sheet1'.AU4>"
      ]
     },
     "execution_count": 268,
     "metadata": {},
     "output_type": "execute_result"
    },
    {
     "data": {
      "text/plain": [
       "<Cell 'Sheet1'.AV4>"
      ]
     },
     "execution_count": 268,
     "metadata": {},
     "output_type": "execute_result"
    },
    {
     "data": {
      "text/plain": [
       "<Cell 'Sheet1'.AW4>"
      ]
     },
     "execution_count": 268,
     "metadata": {},
     "output_type": "execute_result"
    },
    {
     "data": {
      "text/plain": [
       "<Cell 'Sheet1'.AX4>"
      ]
     },
     "execution_count": 268,
     "metadata": {},
     "output_type": "execute_result"
    },
    {
     "data": {
      "text/plain": [
       "<Cell 'Sheet1'.AY4>"
      ]
     },
     "execution_count": 268,
     "metadata": {},
     "output_type": "execute_result"
    },
    {
     "data": {
      "text/plain": [
       "<Cell 'Sheet1'.AZ4>"
      ]
     },
     "execution_count": 268,
     "metadata": {},
     "output_type": "execute_result"
    },
    {
     "data": {
      "text/plain": [
       "<Cell 'Sheet1'.BA4>"
      ]
     },
     "execution_count": 268,
     "metadata": {},
     "output_type": "execute_result"
    },
    {
     "data": {
      "text/plain": [
       "<Cell 'Sheet1'.BB4>"
      ]
     },
     "execution_count": 268,
     "metadata": {},
     "output_type": "execute_result"
    }
   ],
   "source": [
    "# Load the file\n",
    "wb = openpyxl.load_workbook(\"data/results_template.xlsx\")\n",
    "ws = wb.active\n",
    "\n",
    "# Convert the dataframe into rows\n",
    "rows = dataframe_to_rows(df_final, index=False, header=False)\n",
    "\n",
    "# Write the rows to the worksheet\n",
    "for r_idx, row in enumerate(rows, 2):\n",
    "    for c_idx, value in enumerate(row, 1):\n",
    "        ws.cell(row=r_idx, column=c_idx, value=value)\n",
    "\n",
    "# Save the worksheet as a (*.xlsx) file\n",
    "wb.template = False\n",
    "wb.save(f\"data/final/{data_filter.date_str}.xlsx\")"
   ]
  },
  {
   "cell_type": "markdown",
   "id": "ca871792-da74-4fed-8dd7-1f3bd1d512e8",
   "metadata": {
    "heading_collapsed": "true",
    "tags": []
   },
   "source": [
    "# Testing & Validation"
   ]
  },
  {
   "cell_type": "code",
   "execution_count": null,
   "id": "6b3ffc69-f968-4338-9807-e85fe049c3b3",
   "metadata": {},
   "outputs": [],
   "source": []
  },
  {
   "cell_type": "code",
   "execution_count": 32,
   "id": "a1bececd-51b0-47a7-8909-9c57e07451e8",
   "metadata": {},
   "outputs": [],
   "source": [
    "# df_filtered_invalid = df_filtered.query(\"url.isna()\", engine=\"python\")\n",
    "# df_filtered_valid = df_filtered.query(\"url.notna()\", engine=\"python\")\n",
    "# df_filtered_invalid.to_excel(f\"data/filtered/df_invalid_{date_str}.xlsx\")\n",
    "# df_filtered_valid.to_excel(f\"data/filtered/df_valid_{date_str}.xlsx\")\n",
    "# df_filtered_invalid.to_excel(\"data/df_filtered_invalid.xlsx\")\n",
    "# df_filtered_valid.to_excel(\"data/df_filtered_valid.xlsx\")"
   ]
  },
  {
   "cell_type": "code",
   "execution_count": 86,
   "id": "e8949df5-874e-4f11-af6d-f3354d6d3758",
   "metadata": {},
   "outputs": [
    {
     "data": {
      "text/html": [
       "<div>\n",
       "<style scoped>\n",
       "    .dataframe tbody tr th:only-of-type {\n",
       "        vertical-align: middle;\n",
       "    }\n",
       "\n",
       "    .dataframe tbody tr th {\n",
       "        vertical-align: top;\n",
       "    }\n",
       "\n",
       "    .dataframe thead th {\n",
       "        text-align: right;\n",
       "    }\n",
       "</style>\n",
       "<table border=\"1\" class=\"dataframe\">\n",
       "  <thead>\n",
       "    <tr style=\"text-align: right;\">\n",
       "      <th></th>\n",
       "      <th>symbol</th>\n",
       "      <th>isin</th>\n",
       "      <th>exchange</th>\n",
       "      <th>date</th>\n",
       "      <th>open</th>\n",
       "      <th>high</th>\n",
       "      <th>low</th>\n",
       "      <th>close</th>\n",
       "      <th>volume</th>\n",
       "      <th>year</th>\n",
       "      <th>month</th>\n",
       "      <th>day</th>\n",
       "      <th>ym</th>\n",
       "      <th>quarter</th>\n",
       "    </tr>\n",
       "  </thead>\n",
       "  <tbody>\n",
       "    <tr>\n",
       "      <th>353</th>\n",
       "      <td>KAYCEE IND</td>\n",
       "      <td>504084</td>\n",
       "      <td>BSE</td>\n",
       "      <td>2021-08-06</td>\n",
       "      <td>4000.0</td>\n",
       "      <td>4170.00</td>\n",
       "      <td>3936.00</td>\n",
       "      <td>3938.40</td>\n",
       "      <td>34</td>\n",
       "      <td>2021</td>\n",
       "      <td>8</td>\n",
       "      <td>6</td>\n",
       "      <td>202108</td>\n",
       "      <td>3</td>\n",
       "    </tr>\n",
       "    <tr>\n",
       "      <th>351</th>\n",
       "      <td>KAYCEE IND</td>\n",
       "      <td>504084</td>\n",
       "      <td>BSE</td>\n",
       "      <td>2021-07-23</td>\n",
       "      <td>4393.6</td>\n",
       "      <td>4393.60</td>\n",
       "      <td>4151.00</td>\n",
       "      <td>4151.00</td>\n",
       "      <td>7</td>\n",
       "      <td>2021</td>\n",
       "      <td>7</td>\n",
       "      <td>23</td>\n",
       "      <td>202107</td>\n",
       "      <td>3</td>\n",
       "    </tr>\n",
       "    <tr>\n",
       "      <th>350</th>\n",
       "      <td>KAYCEE IND</td>\n",
       "      <td>504084</td>\n",
       "      <td>BSE</td>\n",
       "      <td>2021-08-31</td>\n",
       "      <td>3935.0</td>\n",
       "      <td>3935.00</td>\n",
       "      <td>3745.05</td>\n",
       "      <td>3745.05</td>\n",
       "      <td>11</td>\n",
       "      <td>2021</td>\n",
       "      <td>8</td>\n",
       "      <td>31</td>\n",
       "      <td>202108</td>\n",
       "      <td>3</td>\n",
       "    </tr>\n",
       "    <tr>\n",
       "      <th>356</th>\n",
       "      <td>KAYCEE IND</td>\n",
       "      <td>504084</td>\n",
       "      <td>BSE</td>\n",
       "      <td>2021-10-05</td>\n",
       "      <td>3703.0</td>\n",
       "      <td>4040.00</td>\n",
       "      <td>3701.00</td>\n",
       "      <td>4040.00</td>\n",
       "      <td>29</td>\n",
       "      <td>2021</td>\n",
       "      <td>10</td>\n",
       "      <td>5</td>\n",
       "      <td>202110</td>\n",
       "      <td>4</td>\n",
       "    </tr>\n",
       "    <tr>\n",
       "      <th>344</th>\n",
       "      <td>KAYCEE IND</td>\n",
       "      <td>504084</td>\n",
       "      <td>BSE</td>\n",
       "      <td>2020-12-17</td>\n",
       "      <td>2960.0</td>\n",
       "      <td>2960.00</td>\n",
       "      <td>2750.00</td>\n",
       "      <td>2750.00</td>\n",
       "      <td>11</td>\n",
       "      <td>2020</td>\n",
       "      <td>12</td>\n",
       "      <td>17</td>\n",
       "      <td>202012</td>\n",
       "      <td>4</td>\n",
       "    </tr>\n",
       "    <tr>\n",
       "      <th>...</th>\n",
       "      <td>...</td>\n",
       "      <td>...</td>\n",
       "      <td>...</td>\n",
       "      <td>...</td>\n",
       "      <td>...</td>\n",
       "      <td>...</td>\n",
       "      <td>...</td>\n",
       "      <td>...</td>\n",
       "      <td>...</td>\n",
       "      <td>...</td>\n",
       "      <td>...</td>\n",
       "      <td>...</td>\n",
       "      <td>...</td>\n",
       "      <td>...</td>\n",
       "    </tr>\n",
       "    <tr>\n",
       "      <th>353</th>\n",
       "      <td>KAYCEE IND</td>\n",
       "      <td>504084</td>\n",
       "      <td>BSE</td>\n",
       "      <td>2021-08-05</td>\n",
       "      <td>4075.0</td>\n",
       "      <td>4076.95</td>\n",
       "      <td>4050.00</td>\n",
       "      <td>4050.00</td>\n",
       "      <td>6</td>\n",
       "      <td>2021</td>\n",
       "      <td>8</td>\n",
       "      <td>5</td>\n",
       "      <td>202108</td>\n",
       "      <td>3</td>\n",
       "    </tr>\n",
       "    <tr>\n",
       "      <th>352</th>\n",
       "      <td>KAYCEE IND</td>\n",
       "      <td>504084</td>\n",
       "      <td>BSE</td>\n",
       "      <td>2021-09-29</td>\n",
       "      <td>3851.0</td>\n",
       "      <td>4044.00</td>\n",
       "      <td>3851.00</td>\n",
       "      <td>4044.00</td>\n",
       "      <td>4</td>\n",
       "      <td>2021</td>\n",
       "      <td>9</td>\n",
       "      <td>29</td>\n",
       "      <td>202109</td>\n",
       "      <td>3</td>\n",
       "    </tr>\n",
       "    <tr>\n",
       "      <th>358</th>\n",
       "      <td>KAYCEE IND</td>\n",
       "      <td>504084</td>\n",
       "      <td>BSE</td>\n",
       "      <td>2021-06-25</td>\n",
       "      <td>3849.9</td>\n",
       "      <td>3854.55</td>\n",
       "      <td>3849.90</td>\n",
       "      <td>3854.55</td>\n",
       "      <td>23</td>\n",
       "      <td>2021</td>\n",
       "      <td>6</td>\n",
       "      <td>25</td>\n",
       "      <td>202106</td>\n",
       "      <td>2</td>\n",
       "    </tr>\n",
       "    <tr>\n",
       "      <th>355</th>\n",
       "      <td>KAYCEE IND</td>\n",
       "      <td>504084</td>\n",
       "      <td>BSE</td>\n",
       "      <td>2021-05-17</td>\n",
       "      <td>3000.0</td>\n",
       "      <td>3044.00</td>\n",
       "      <td>2900.00</td>\n",
       "      <td>3030.00</td>\n",
       "      <td>29</td>\n",
       "      <td>2021</td>\n",
       "      <td>5</td>\n",
       "      <td>17</td>\n",
       "      <td>202105</td>\n",
       "      <td>2</td>\n",
       "    </tr>\n",
       "    <tr>\n",
       "      <th>350</th>\n",
       "      <td>KAYCEE IND</td>\n",
       "      <td>504084</td>\n",
       "      <td>BSE</td>\n",
       "      <td>2021-12-14</td>\n",
       "      <td>3750.0</td>\n",
       "      <td>3849.95</td>\n",
       "      <td>3651.05</td>\n",
       "      <td>3750.00</td>\n",
       "      <td>20</td>\n",
       "      <td>2021</td>\n",
       "      <td>12</td>\n",
       "      <td>14</td>\n",
       "      <td>202112</td>\n",
       "      <td>4</td>\n",
       "    </tr>\n",
       "  </tbody>\n",
       "</table>\n",
       "<p>322 rows × 14 columns</p>\n",
       "</div>"
      ],
      "text/plain": [
       "           symbol    isin exchange       date    open     high      low  \\\n",
       "353  KAYCEE IND    504084      BSE 2021-08-06  4000.0  4170.00  3936.00   \n",
       "351  KAYCEE IND    504084      BSE 2021-07-23  4393.6  4393.60  4151.00   \n",
       "350  KAYCEE IND    504084      BSE 2021-08-31  3935.0  3935.00  3745.05   \n",
       "356  KAYCEE IND    504084      BSE 2021-10-05  3703.0  4040.00  3701.00   \n",
       "344  KAYCEE IND    504084      BSE 2020-12-17  2960.0  2960.00  2750.00   \n",
       "..            ...     ...      ...        ...     ...      ...      ...   \n",
       "353  KAYCEE IND    504084      BSE 2021-08-05  4075.0  4076.95  4050.00   \n",
       "352  KAYCEE IND    504084      BSE 2021-09-29  3851.0  4044.00  3851.00   \n",
       "358  KAYCEE IND    504084      BSE 2021-06-25  3849.9  3854.55  3849.90   \n",
       "355  KAYCEE IND    504084      BSE 2021-05-17  3000.0  3044.00  2900.00   \n",
       "350  KAYCEE IND    504084      BSE 2021-12-14  3750.0  3849.95  3651.05   \n",
       "\n",
       "       close  volume  year  month  day      ym  quarter  \n",
       "353  3938.40      34  2021      8    6  202108        3  \n",
       "351  4151.00       7  2021      7   23  202107        3  \n",
       "350  3745.05      11  2021      8   31  202108        3  \n",
       "356  4040.00      29  2021     10    5  202110        4  \n",
       "344  2750.00      11  2020     12   17  202012        4  \n",
       "..       ...     ...   ...    ...  ...     ...      ...  \n",
       "353  4050.00       6  2021      8    5  202108        3  \n",
       "352  4044.00       4  2021      9   29  202109        3  \n",
       "358  3854.55      23  2021      6   25  202106        2  \n",
       "355  3030.00      29  2021      5   17  202105        2  \n",
       "350  3750.00      20  2021     12   14  202112        4  \n",
       "\n",
       "[322 rows x 14 columns]"
      ]
     },
     "execution_count": 86,
     "metadata": {},
     "output_type": "execute_result"
    }
   ],
   "source": [
    "df_all.query(\"isin==504084\")"
   ]
  },
  {
   "cell_type": "code",
   "execution_count": 87,
   "id": "042e988b-05a6-44ae-b749-21f48cbc7d0d",
   "metadata": {},
   "outputs": [
    {
     "data": {
      "text/html": [
       "<div>\n",
       "<style scoped>\n",
       "    .dataframe tbody tr th:only-of-type {\n",
       "        vertical-align: middle;\n",
       "    }\n",
       "\n",
       "    .dataframe tbody tr th {\n",
       "        vertical-align: top;\n",
       "    }\n",
       "\n",
       "    .dataframe thead th {\n",
       "        text-align: right;\n",
       "    }\n",
       "</style>\n",
       "<table border=\"1\" class=\"dataframe\">\n",
       "  <thead>\n",
       "    <tr style=\"text-align: right;\">\n",
       "      <th></th>\n",
       "      <th>symbol</th>\n",
       "      <th>isin</th>\n",
       "    </tr>\n",
       "  </thead>\n",
       "  <tbody>\n",
       "    <tr>\n",
       "      <th>176</th>\n",
       "      <td>BDL</td>\n",
       "      <td>INE171Z01018</td>\n",
       "    </tr>\n",
       "    <tr>\n",
       "      <th>364</th>\n",
       "      <td>EIDPARRY</td>\n",
       "      <td>INE126A01031</td>\n",
       "    </tr>\n",
       "    <tr>\n",
       "      <th>369</th>\n",
       "      <td>ELECTCAST</td>\n",
       "      <td>INE086A01029</td>\n",
       "    </tr>\n",
       "    <tr>\n",
       "      <th>1246</th>\n",
       "      <td>SIS</td>\n",
       "      <td>INE285J01028</td>\n",
       "    </tr>\n",
       "    <tr>\n",
       "      <th>1474</th>\n",
       "      <td>VIPCLOTHNG</td>\n",
       "      <td>INE450G01024</td>\n",
       "    </tr>\n",
       "    <tr>\n",
       "      <th>1270</th>\n",
       "      <td>SRPL</td>\n",
       "      <td>INE008Z01012</td>\n",
       "    </tr>\n",
       "  </tbody>\n",
       "</table>\n",
       "</div>"
      ],
      "text/plain": [
       "          symbol          isin\n",
       "176          BDL  INE171Z01018\n",
       "364     EIDPARRY  INE126A01031\n",
       "369    ELECTCAST  INE086A01029\n",
       "1246         SIS  INE285J01028\n",
       "1474  VIPCLOTHNG  INE450G01024\n",
       "1270        SRPL  INE008Z01012"
      ]
     },
     "execution_count": 87,
     "metadata": {},
     "output_type": "execute_result"
    }
   ],
   "source": [
    "x = [\"ACCORD\", \"BDL\", \"EIDPARRY\", \"ELECTCAST\", \"SIS\", \"SRPL\", \"VINNY\", \"VIPCLOTHNG\"]\n",
    "df_all.query(\"symbol.isin(@x)\", engine=\"python\")[[\"symbol\", \"isin\"]].drop_duplicates()"
   ]
  },
  {
   "cell_type": "code",
   "execution_count": 92,
   "id": "60a50981-9ecd-4dbd-a3d5-d0586df186d2",
   "metadata": {},
   "outputs": [],
   "source": [
    "#  .assign(value=lambda df: df.close * df.volume)\n",
    "#     .sort_values(grouping_vars + [\"month\", \"day\"])\n",
    "#     .groupby(grouping_vars)\n",
    "#     .agg({\"value\": sum, \"volume\": sum, \"close\": lambda x: x.iloc[-1]})\n",
    "#     .reset_index()\n",
    "#     .sort_values(grouping_vars)\n",
    "#     .assign(\n",
    "#         value_lag=lambda df: df.groupby([\"symbol\", \"isin\"])[\"value\"].shift(1),\n",
    "#         volume_lag=lambda df: df.groupby([\"symbol\", \"isin\"])[\"volume\"].shift(1),\n",
    "#         close_lag=lambda df: df.groupby([\"symbol\", \"isin\"])[\"close\"].shift(1),\n",
    "#         value_ratio=lambda df: df.value / df.value_lag,\n",
    "#         volume_ratio=lambda df: df.volume / df.volume_lag,\n",
    "#         close_ratio=lambda df: df.close / df.close_lag,\n",
    "#     )"
   ]
  },
  {
   "cell_type": "code",
   "execution_count": 107,
   "id": "eac044af-d436-4080-a2a0-52aa26a2f46e",
   "metadata": {},
   "outputs": [
    {
     "data": {
      "text/html": [
       "<div>\n",
       "<style scoped>\n",
       "    .dataframe tbody tr th:only-of-type {\n",
       "        vertical-align: middle;\n",
       "    }\n",
       "\n",
       "    .dataframe tbody tr th {\n",
       "        vertical-align: top;\n",
       "    }\n",
       "\n",
       "    .dataframe thead th {\n",
       "        text-align: right;\n",
       "    }\n",
       "</style>\n",
       "<table border=\"1\" class=\"dataframe\">\n",
       "  <thead>\n",
       "    <tr style=\"text-align: right;\">\n",
       "      <th></th>\n",
       "      <th>year</th>\n",
       "      <th>quarter</th>\n",
       "      <th>value</th>\n",
       "      <th>volume</th>\n",
       "      <th>close</th>\n",
       "      <th>value_last_close</th>\n",
       "    </tr>\n",
       "  </thead>\n",
       "  <tbody>\n",
       "    <tr>\n",
       "      <th>0</th>\n",
       "      <td>2021</td>\n",
       "      <td>4</td>\n",
       "      <td>1448204.15</td>\n",
       "      <td>413</td>\n",
       "      <td>4016.15</td>\n",
       "      <td>1658669.95</td>\n",
       "    </tr>\n",
       "    <tr>\n",
       "      <th>1</th>\n",
       "      <td>2022</td>\n",
       "      <td>1</td>\n",
       "      <td>189562.00</td>\n",
       "      <td>44</td>\n",
       "      <td>4290.00</td>\n",
       "      <td>188760.00</td>\n",
       "    </tr>\n",
       "  </tbody>\n",
       "</table>\n",
       "</div>"
      ],
      "text/plain": [
       "   year  quarter       value  volume    close  value_last_close\n",
       "0  2021        4  1448204.15     413  4016.15        1658669.95\n",
       "1  2022        1   189562.00      44  4290.00         188760.00"
      ]
     },
     "execution_count": 107,
     "metadata": {},
     "output_type": "execute_result"
    },
    {
     "name": "stdout",
     "output_type": "stream",
     "text": [
      "ratios\n"
     ]
    },
    {
     "data": {
      "text/plain": [
       "year                1.000495\n",
       "quarter             0.250000\n",
       "value               0.130895\n",
       "volume              0.106538\n",
       "close               1.068187\n",
       "value_last_close    0.113802\n",
       "dtype: float64"
      ]
     },
     "execution_count": 107,
     "metadata": {},
     "output_type": "execute_result"
    }
   ],
   "source": [
    "df_tmp = (\n",
    "    df_all.query(\"isin==502901\")\n",
    "    .query(\"date>='2021-10-01'\")\n",
    "    .sort_values([\"year\", \"quarter\", \"month\", \"day\"])\n",
    "    .assign(value=lambda df: df.close * df.volume)\n",
    "    .groupby([\"year\", \"quarter\"])\n",
    "    .agg({\"value\": sum, \"volume\": sum, \"close\": lambda x: x.iloc[-1]})\n",
    "    .reset_index()\n",
    "    .assign(value_last_close=lambda df: df.close * df.volume)\n",
    ")\n",
    "\n",
    "df_tmp\n",
    "\n",
    "print(\"ratios\")\n",
    "df_tmp.iloc[1] / df_tmp.iloc[0]"
   ]
  },
  {
   "cell_type": "code",
   "execution_count": 108,
   "id": "b2fcd899-3370-4a9f-afda-913539943cf8",
   "metadata": {},
   "outputs": [
    {
     "data": {
      "text/plain": [
       "1.225929648241206"
      ]
     },
     "execution_count": 108,
     "metadata": {},
     "output_type": "execute_result"
    }
   ],
   "source": [
    "87825600 / 71640000"
   ]
  },
  {
   "cell_type": "code",
   "execution_count": 109,
   "id": "06f131c0-c379-426c-9597-87fdf234bd1a",
   "metadata": {},
   "outputs": [
    {
     "data": {
      "text/html": [
       "<div>\n",
       "<style scoped>\n",
       "    .dataframe tbody tr th:only-of-type {\n",
       "        vertical-align: middle;\n",
       "    }\n",
       "\n",
       "    .dataframe tbody tr th {\n",
       "        vertical-align: top;\n",
       "    }\n",
       "\n",
       "    .dataframe thead th {\n",
       "        text-align: right;\n",
       "    }\n",
       "</style>\n",
       "<table border=\"1\" class=\"dataframe\">\n",
       "  <thead>\n",
       "    <tr style=\"text-align: right;\">\n",
       "      <th></th>\n",
       "      <th>symbol</th>\n",
       "      <th>isin</th>\n",
       "      <th>exchange</th>\n",
       "      <th>date</th>\n",
       "      <th>open</th>\n",
       "      <th>high</th>\n",
       "      <th>low</th>\n",
       "      <th>close</th>\n",
       "      <th>volume</th>\n",
       "      <th>year</th>\n",
       "      <th>month</th>\n",
       "      <th>day</th>\n",
       "      <th>ym</th>\n",
       "      <th>quarter</th>\n",
       "    </tr>\n",
       "  </thead>\n",
       "  <tbody>\n",
       "    <tr>\n",
       "      <th>320</th>\n",
       "      <td>JAMSHRI</td>\n",
       "      <td>502901</td>\n",
       "      <td>BSE</td>\n",
       "      <td>2022-01-03</td>\n",
       "      <td>3815.5</td>\n",
       "      <td>4200.0</td>\n",
       "      <td>3815.5</td>\n",
       "      <td>4190.0</td>\n",
       "      <td>14</td>\n",
       "      <td>2022</td>\n",
       "      <td>1</td>\n",
       "      <td>3</td>\n",
       "      <td>202201</td>\n",
       "      <td>1</td>\n",
       "    </tr>\n",
       "    <tr>\n",
       "      <th>322</th>\n",
       "      <td>JAMSHRI</td>\n",
       "      <td>502901</td>\n",
       "      <td>BSE</td>\n",
       "      <td>2022-01-10</td>\n",
       "      <td>4390.0</td>\n",
       "      <td>4390.0</td>\n",
       "      <td>4200.0</td>\n",
       "      <td>4370.0</td>\n",
       "      <td>5</td>\n",
       "      <td>2022</td>\n",
       "      <td>1</td>\n",
       "      <td>10</td>\n",
       "      <td>202201</td>\n",
       "      <td>1</td>\n",
       "    </tr>\n",
       "    <tr>\n",
       "      <th>317</th>\n",
       "      <td>JAMSHRI</td>\n",
       "      <td>502901</td>\n",
       "      <td>BSE</td>\n",
       "      <td>2022-01-12</td>\n",
       "      <td>4151.5</td>\n",
       "      <td>4580.0</td>\n",
       "      <td>4151.5</td>\n",
       "      <td>4580.0</td>\n",
       "      <td>12</td>\n",
       "      <td>2022</td>\n",
       "      <td>1</td>\n",
       "      <td>12</td>\n",
       "      <td>202201</td>\n",
       "      <td>1</td>\n",
       "    </tr>\n",
       "    <tr>\n",
       "      <th>316</th>\n",
       "      <td>JAMSHRI</td>\n",
       "      <td>502901</td>\n",
       "      <td>BSE</td>\n",
       "      <td>2022-01-14</td>\n",
       "      <td>4580.0</td>\n",
       "      <td>4580.0</td>\n",
       "      <td>4351.0</td>\n",
       "      <td>4351.0</td>\n",
       "      <td>2</td>\n",
       "      <td>2022</td>\n",
       "      <td>1</td>\n",
       "      <td>14</td>\n",
       "      <td>202201</td>\n",
       "      <td>1</td>\n",
       "    </tr>\n",
       "    <tr>\n",
       "      <th>322</th>\n",
       "      <td>JAMSHRI</td>\n",
       "      <td>502901</td>\n",
       "      <td>BSE</td>\n",
       "      <td>2022-01-17</td>\n",
       "      <td>4140.0</td>\n",
       "      <td>4140.0</td>\n",
       "      <td>4140.0</td>\n",
       "      <td>4140.0</td>\n",
       "      <td>2</td>\n",
       "      <td>2022</td>\n",
       "      <td>1</td>\n",
       "      <td>17</td>\n",
       "      <td>202201</td>\n",
       "      <td>1</td>\n",
       "    </tr>\n",
       "    <tr>\n",
       "      <th>315</th>\n",
       "      <td>JAMSHRI</td>\n",
       "      <td>502901</td>\n",
       "      <td>BSE</td>\n",
       "      <td>2022-01-18</td>\n",
       "      <td>3933.0</td>\n",
       "      <td>3950.0</td>\n",
       "      <td>3933.0</td>\n",
       "      <td>3950.0</td>\n",
       "      <td>3</td>\n",
       "      <td>2022</td>\n",
       "      <td>1</td>\n",
       "      <td>18</td>\n",
       "      <td>202201</td>\n",
       "      <td>1</td>\n",
       "    </tr>\n",
       "    <tr>\n",
       "      <th>314</th>\n",
       "      <td>JAMSHRI</td>\n",
       "      <td>502901</td>\n",
       "      <td>BSE</td>\n",
       "      <td>2022-01-19</td>\n",
       "      <td>4147.0</td>\n",
       "      <td>4147.0</td>\n",
       "      <td>4147.0</td>\n",
       "      <td>4147.0</td>\n",
       "      <td>2</td>\n",
       "      <td>2022</td>\n",
       "      <td>1</td>\n",
       "      <td>19</td>\n",
       "      <td>202201</td>\n",
       "      <td>1</td>\n",
       "    </tr>\n",
       "    <tr>\n",
       "      <th>314</th>\n",
       "      <td>JAMSHRI</td>\n",
       "      <td>502901</td>\n",
       "      <td>BSE</td>\n",
       "      <td>2022-01-21</td>\n",
       "      <td>4300.0</td>\n",
       "      <td>4300.0</td>\n",
       "      <td>4300.0</td>\n",
       "      <td>4300.0</td>\n",
       "      <td>1</td>\n",
       "      <td>2022</td>\n",
       "      <td>1</td>\n",
       "      <td>21</td>\n",
       "      <td>202201</td>\n",
       "      <td>1</td>\n",
       "    </tr>\n",
       "    <tr>\n",
       "      <th>320</th>\n",
       "      <td>JAMSHRI</td>\n",
       "      <td>502901</td>\n",
       "      <td>BSE</td>\n",
       "      <td>2022-01-24</td>\n",
       "      <td>4086.0</td>\n",
       "      <td>4086.0</td>\n",
       "      <td>4086.0</td>\n",
       "      <td>4086.0</td>\n",
       "      <td>1</td>\n",
       "      <td>2022</td>\n",
       "      <td>1</td>\n",
       "      <td>24</td>\n",
       "      <td>202201</td>\n",
       "      <td>1</td>\n",
       "    </tr>\n",
       "    <tr>\n",
       "      <th>314</th>\n",
       "      <td>JAMSHRI</td>\n",
       "      <td>502901</td>\n",
       "      <td>BSE</td>\n",
       "      <td>2022-01-27</td>\n",
       "      <td>4290.0</td>\n",
       "      <td>4290.0</td>\n",
       "      <td>4290.0</td>\n",
       "      <td>4290.0</td>\n",
       "      <td>2</td>\n",
       "      <td>2022</td>\n",
       "      <td>1</td>\n",
       "      <td>27</td>\n",
       "      <td>202201</td>\n",
       "      <td>1</td>\n",
       "    </tr>\n",
       "  </tbody>\n",
       "</table>\n",
       "</div>"
      ],
      "text/plain": [
       "           symbol    isin exchange       date    open    high     low   close  \\\n",
       "320  JAMSHRI       502901      BSE 2022-01-03  3815.5  4200.0  3815.5  4190.0   \n",
       "322  JAMSHRI       502901      BSE 2022-01-10  4390.0  4390.0  4200.0  4370.0   \n",
       "317  JAMSHRI       502901      BSE 2022-01-12  4151.5  4580.0  4151.5  4580.0   \n",
       "316  JAMSHRI       502901      BSE 2022-01-14  4580.0  4580.0  4351.0  4351.0   \n",
       "322  JAMSHRI       502901      BSE 2022-01-17  4140.0  4140.0  4140.0  4140.0   \n",
       "315  JAMSHRI       502901      BSE 2022-01-18  3933.0  3950.0  3933.0  3950.0   \n",
       "314  JAMSHRI       502901      BSE 2022-01-19  4147.0  4147.0  4147.0  4147.0   \n",
       "314  JAMSHRI       502901      BSE 2022-01-21  4300.0  4300.0  4300.0  4300.0   \n",
       "320  JAMSHRI       502901      BSE 2022-01-24  4086.0  4086.0  4086.0  4086.0   \n",
       "314  JAMSHRI       502901      BSE 2022-01-27  4290.0  4290.0  4290.0  4290.0   \n",
       "\n",
       "     volume  year  month  day      ym  quarter  \n",
       "320      14  2022      1    3  202201        1  \n",
       "322       5  2022      1   10  202201        1  \n",
       "317      12  2022      1   12  202201        1  \n",
       "316       2  2022      1   14  202201        1  \n",
       "322       2  2022      1   17  202201        1  \n",
       "315       3  2022      1   18  202201        1  \n",
       "314       2  2022      1   19  202201        1  \n",
       "314       1  2022      1   21  202201        1  \n",
       "320       1  2022      1   24  202201        1  \n",
       "314       2  2022      1   27  202201        1  "
      ]
     },
     "execution_count": 109,
     "metadata": {},
     "output_type": "execute_result"
    },
    {
     "data": {
      "text/plain": [
       "('volume', '44')"
      ]
     },
     "execution_count": 109,
     "metadata": {},
     "output_type": "execute_result"
    },
    {
     "data": {
      "text/plain": [
       "('last close', '4,290.0')"
      ]
     },
     "execution_count": 109,
     "metadata": {},
     "output_type": "execute_result"
    },
    {
     "data": {
      "text/plain": [
       "('value', '188,760.0')"
      ]
     },
     "execution_count": 109,
     "metadata": {},
     "output_type": "execute_result"
    }
   ],
   "source": [
    "df = df_all.query(\"isin==502901\").query(\"year==2022 & quarter==1\").sort_values(\"date\")\n",
    "df\n",
    "\"volume\", f\"{df.volume.sum():,}\"\n",
    "\"last close\", f\"{df.close.iloc[-1]:,}\"\n",
    "\"value\", f\"{df.close.iloc[-1]*df.volume.sum():,}\""
   ]
  },
  {
   "cell_type": "code",
   "execution_count": null,
   "id": "c885e62b-72d4-4ae3-8651-2a7deb823258",
   "metadata": {},
   "outputs": [],
   "source": []
  },
  {
   "cell_type": "code",
   "execution_count": null,
   "id": "8ac0dcdd-11b6-4649-a9fb-c7d25edca5e3",
   "metadata": {},
   "outputs": [],
   "source": []
  }
 ],
 "metadata": {
  "kernelspec": {
   "display_name": "Python [conda env:investment_buddy]",
   "language": "python",
   "name": "conda-env-investment_buddy-py"
  },
  "language_info": {
   "codemirror_mode": {
    "name": "ipython",
    "version": 3
   },
   "file_extension": ".py",
   "mimetype": "text/x-python",
   "name": "python",
   "nbconvert_exporter": "python",
   "pygments_lexer": "ipython3",
   "version": "3.8.12"
  },
  "toc-autonumbering": true
 },
 "nbformat": 4,
 "nbformat_minor": 5
}
