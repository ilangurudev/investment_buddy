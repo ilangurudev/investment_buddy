{
 "cells": [
  {
   "cell_type": "markdown",
   "id": "668c485f-6500-42fa-986c-d527299d8112",
   "metadata": {},
   "source": [
    "# Setup"
   ]
  },
  {
   "cell_type": "markdown",
   "id": "364fbc53-94db-46b7-a875-55250757bb62",
   "metadata": {},
   "source": [
    "- typing\n",
    "- documentation and comments\n",
    "- test cases\n",
    "- requirements and versioning"
   ]
  },
  {
   "cell_type": "code",
   "execution_count": 1,
   "id": "a0d56644-f130-417b-b70f-1c2d48ff18e3",
   "metadata": {},
   "outputs": [],
   "source": [
    "import requests\n",
    "import pandas\n",
    "import pendulum\n",
    "from pendulum import today, Date\n",
    "from pathlib import Path\n",
    "from typing import Union\n",
    "import zipfile\n",
    "import tempfile\n",
    "import os\n",
    "import pandas as pd\n",
    "import numpy as np\n",
    "from concurrent.futures import ThreadPoolExecutor, ProcessPoolExecutor\n",
    "import logging\n",
    "from requests.exceptions import HTTPError, ReadTimeout, Timeout\n",
    "import glob\n",
    "from copy import copy\n",
    "\n",
    "# import scrapy\n",
    "# from scrapy.crawler import CrawlerProcess\n",
    "from bs4 import BeautifulSoup\n",
    "from selenium import webdriver\n",
    "from selenium.webdriver.chrome.service import Service\n",
    "from webdriver_manager.chrome import ChromeDriverManager\n",
    "\n",
    "# from webdriver_manager import logger\n",
    "from selenium.webdriver.remote.remote_connection import LOGGER as seleniumLogger\n",
    "\n",
    "from IPython.core.interactiveshell import InteractiveShell\n",
    "from tqdm import tqdm\n",
    "\n",
    "# from pandarallel import pandarallel\n",
    "\n",
    "import openpyxl\n",
    "from openpyxl.utils.dataframe import dataframe_to_rows"
   ]
  },
  {
   "cell_type": "code",
   "execution_count": 2,
   "id": "552deaec-e7f6-4b89-807c-e9d7f492d89f",
   "metadata": {},
   "outputs": [],
   "source": [
    "tqdm.pandas()\n",
    "# pandarallel.initialize(nb_workers=4)\n",
    "\n",
    "pd.set_option(\"display.max_columns\", None)\n",
    "\n",
    "InteractiveShell.ast_node_interactivity = \"all\"\n",
    "# %reload_ext lab_black\n",
    "\n",
    "# logging.getLogger().setLevel(logging.INFO)\n",
    "os.environ[\"WDM_LOG_LEVEL\"] = \"0\"\n",
    "# seleniumLogger.setLevel(logging.WARNING)"
   ]
  },
  {
   "cell_type": "markdown",
   "id": "819993b7-0c6a-4db2-9c0f-81165423d93d",
   "metadata": {
    "tags": []
   },
   "source": [
    "# Downloader"
   ]
  },
  {
   "cell_type": "code",
   "execution_count": 3,
   "id": "a38d13b8",
   "metadata": {},
   "outputs": [],
   "source": [
    "logger = logging.getLogger(__name__)"
   ]
  },
  {
   "cell_type": "code",
   "execution_count": null,
   "id": "6316f91c",
   "metadata": {},
   "outputs": [],
   "source": []
  },
  {
   "cell_type": "code",
   "execution_count": 102,
   "id": "fc39dada-bf3d-48a1-91dc-1fbfc07d452c",
   "metadata": {},
   "outputs": [],
   "source": [
    "class StockDownloader(object):\n",
    "    def __init__(self, timeout: int = 2):\n",
    "        self.timeout = timeout\n",
    "        if len(glob.glob(f\"{self.download_path}/*.csv\")) == 0:\n",
    "            self.download_past_two_years()\n",
    "\n",
    "    def download_data_for_date(self, date: Date, replace=False):\n",
    "        download_url = self.make_url_func(date)\n",
    "        file_name = date.format(\"YYYYMMDD\") + \".csv\"\n",
    "        if file_name not in os.listdir(self.download_path) or replace:\n",
    "            try:\n",
    "                r = requests.get(\n",
    "                    download_url,\n",
    "                    allow_redirects=True,\n",
    "                    timeout=self.timeout,\n",
    "                    headers={\"User-Agent\": \"firefox\"},\n",
    "                )\n",
    "                r.raise_for_status()\n",
    "\n",
    "                if self.exchange == \"NSE\":\n",
    "                    fd, name = tempfile.mkstemp(suffix=\".zip\")\n",
    "                    with open(name, \"wb\") as f:\n",
    "                        f.write(r.content)\n",
    "                    zipdata = zipfile.ZipFile(name)\n",
    "                    zipinfos = zipdata.infolist()\n",
    "                    for zipinfo in zipinfos:\n",
    "                        zipinfo.filename = file_name\n",
    "                        zipdata.extract(zipinfo, self.download_path)\n",
    "                else:\n",
    "                    with open(self.download_path / file_name, \"wb\") as f:\n",
    "                        f.write(r.content)\n",
    "\n",
    "                remap = {\n",
    "                    \"TckrSymb\": \"symbol\",\n",
    "                    \"ISIN\": \"isin\",\n",
    "                    \"Src\": \"exchange\",\n",
    "                    \"OpnPric\": \"open\",\n",
    "                    \"HghPric\": \"high\",\n",
    "                    \"LwPric\": \"low\",\n",
    "                    \"ClsPric\": \"close\",\n",
    "                    \"TtlTradgVol\": \"volume\",\n",
    "                }\n",
    "                col_order = [\n",
    "                    \"symbol\",\n",
    "                    \"isin\",\n",
    "                    \"exchange\",\n",
    "                    \"date\",\n",
    "                    \"open\",\n",
    "                    \"high\",\n",
    "                    \"low\",\n",
    "                    \"close\",\n",
    "                    \"volume\",\n",
    "                    \"year\",\n",
    "                    \"month\",\n",
    "                    \"day\",\n",
    "                    \"ym\",\n",
    "                ]\n",
    "\n",
    "                cond = (\n",
    "                    'sctysrs==\"EQ\"'\n",
    "                    if self.exchange == \"NSE\"\n",
    "                    else '~sctysrs.isin([\"E\", \"F\", \"G\", \"MT\"])'\n",
    "                )\n",
    "\n",
    "                df = (\n",
    "                    pd.read_csv(self.download_path / file_name)\n",
    "                    # .pipe(self.reformat)\n",
    "                    .rename(columns=remap)\n",
    "                    .assign(\n",
    "                        date=date.date(),\n",
    "                        year=date.year,\n",
    "                        month=date.month,\n",
    "                        day=date.day,\n",
    "                        ym=f\"{date.year}{date.month:02}\",\n",
    "                    )\n",
    "                    .rename(columns=str.lower)\n",
    "                    .query(cond)\n",
    "                    .loc[:, col_order]\n",
    "                )\n",
    "                df.to_csv(self.download_path / file_name, index=False)\n",
    "                logger.info(\n",
    "                    f\"Downloaded {self.exchange} data for {date.format('DD MMM, YYYY.')}\"\n",
    "                )\n",
    "\n",
    "            # except HTTPError as err:\n",
    "            #     if err.response.status_code == 404:\n",
    "            #         logger.info(\n",
    "            #             f\"No {self.exchange} data available on {date.format('DD MMM, YYYY.')}\"\n",
    "            #         )\n",
    "            # except (ReadTimeout, Timeout) as err:\n",
    "            #     logger.info(\n",
    "            #         f\"No {self.exchange} data available on {date.format('DD MMM, YYYY.')}\"\n",
    "            #     )\n",
    "            # except Exception as err:\n",
    "            #     logger.warning(\n",
    "            #         f\"{self.exchange} data not available on {date.format('DD MMM, YYYY.')}\"\n",
    "            #     )\n",
    "            #     logger.warning(err)\n",
    "            finally:\n",
    "                if self.exchange == \"NSE\":\n",
    "                    os.close(fd)\n",
    "        else:\n",
    "            logger.info(\n",
    "                f\"{self.exchange} data for {date.format('DD MMM, YYYY.')} already present\"\n",
    "            )\n",
    "\n",
    "    def prune_data(self, prune_weeks):\n",
    "        thresh = int(today().subtract(weeks=prune_weeks).format(\"YYYYMMDD\"))\n",
    "        files_to_prune = [\n",
    "            self.download_path / f\"{d}.csv\" for d in self.days_present if d < thresh\n",
    "        ]\n",
    "        for file in files_to_prune:\n",
    "            os.remove(file)\n",
    "\n",
    "    @property\n",
    "    def days_present(self):\n",
    "        return [\n",
    "            int(d.replace(\".csv\", \"\")) for d in glob.glob1(self.download_path, \"*.csv\")\n",
    "        ]\n",
    "\n",
    "    def update_data(self, prune_weeks=0):\n",
    "        start_date = pendulum.from_format(str(max(self.days_present)), \"YYYYMMDD\").add(\n",
    "            days=1\n",
    "        )\n",
    "        if start_date < today():\n",
    "            self.download_date_range(start_date, today())\n",
    "        if prune_weeks:\n",
    "            self.prune_data(prune_weeks)\n",
    "\n",
    "    def download_date_range(self, start_date: Date, end_date: Date):\n",
    "        assert start_date < end_date, \"Start must be before end\"\n",
    "        dates = pd.date_range(start_date.date(), end_date.date(), freq=\"B\").tolist()\n",
    "        dates = [\n",
    "            pendulum.DateTime(d.date().year, d.date().month, d.date().day)\n",
    "            for d in dates\n",
    "            if not d.strftime(\"%Y%m%d\") in self.exclude_days\n",
    "        ]\n",
    "        for dt in dates:\n",
    "            self.download_data_for_date(dt)\n",
    "\n",
    "        # Multiprocessing seems to be causing issues and might be overkill anyway considering bot is going\n",
    "        # to be running on a daily basis.\n",
    "        # with ProcessPoolExecutor() as executor:\n",
    "        #     executor.map(self.download_data_for_date, dates)\n",
    "\n",
    "    def download_past_two_years(self):\n",
    "        self.download_date_range(today().subtract(years=2), today())\n",
    "\n",
    "    def download_last_n_weeks(self, n_weeks):\n",
    "        self.download_date_range(today().subtract(weeks=n_weeks), today())"
   ]
  },
  {
   "cell_type": "code",
   "execution_count": 103,
   "id": "77673c16",
   "metadata": {},
   "outputs": [],
   "source": [
    "class NseDownloader(StockDownloader):\n",
    "    download_path = Path(\"data/nse\")\n",
    "    exchange = \"NSE\"\n",
    "    exclude_days = []\n",
    "\n",
    "    def make_url_func(self, date: Date):\n",
    "        date_str = date.format(\"YYYYMMDD\").upper()\n",
    "        return f\"https://nsearchives.nseindia.com/content/cm/BhavCopy_NSE_CM_0_0_0_{date_str}_F_0000.csv.zip\"\n",
    "\n",
    "    def reformat(self, df):\n",
    "        return df.rename(columns={\"TOTTRDQTY\": \"volume\"}).assign(exchange=self.exchange)"
   ]
  },
  {
   "cell_type": "code",
   "execution_count": 104,
   "id": "63206cef",
   "metadata": {},
   "outputs": [],
   "source": [
    "class BseDownloader(StockDownloader):\n",
    "    download_path = Path(\"data/bse\")\n",
    "    exchange = \"BSE\"\n",
    "    exclude_days = [\"20211229\"]\n",
    "\n",
    "    def make_url_func(self, date: Date):\n",
    "        date_str = date.format(\"YYYYMMDD\").upper()\n",
    "        return f\"https://www.bseindia.com/download/BhavCopy/Equity/BhavCopy_BSE_CM_0_0_0_{date_str}_F_0000.CSV\"\n",
    "\n",
    "    def reformat(self, df):\n",
    "        return df.rename(\n",
    "            columns={\n",
    "                \"NO_OF_SHRS\": \"volume\",\n",
    "                \"SC_NAME\": \"symbol\",\n",
    "                \"SC_CODE\": \"isin\",\n",
    "                \"SC_TYPE\": \"series\",\n",
    "            }\n",
    "        ).assign(\n",
    "            exchange=self.exchange,\n",
    "            series=lambda df: np.where(df.series == \"Q\", \"EQ\", df.series),\n",
    "        )"
   ]
  },
  {
   "cell_type": "code",
   "execution_count": 105,
   "id": "69e080f2-13f2-4125-81dc-d4873c267442",
   "metadata": {
    "scrolled": true,
    "tags": []
   },
   "outputs": [],
   "source": [
    "nse_downloader = NseDownloader()\n",
    "bse_downloader = BseDownloader()"
   ]
  },
  {
   "cell_type": "code",
   "execution_count": 106,
   "id": "de382879",
   "metadata": {},
   "outputs": [],
   "source": [
    "nse_downloader.download_data_for_date(pendulum.DateTime(2024, 7, 26), replace=True)"
   ]
  },
  {
   "cell_type": "code",
   "execution_count": 107,
   "id": "f36850f6",
   "metadata": {},
   "outputs": [],
   "source": [
    "bse_downloader.download_data_for_date(pendulum.DateTime(2024, 7, 26), replace=True)"
   ]
  },
  {
   "cell_type": "code",
   "execution_count": null,
   "id": "b0cd7593",
   "metadata": {},
   "outputs": [],
   "source": [
    "nse_downloader.update_data(prune_weeks=80)\n",
    "bse_downloader.update_data(prune_weeks=80)"
   ]
  },
  {
   "cell_type": "markdown",
   "id": "c4b024e3-62aa-4980-ae3d-1f8878fdc68f",
   "metadata": {
    "tags": []
   },
   "source": [
    "# Filters"
   ]
  },
  {
   "cell_type": "code",
   "execution_count": 6,
   "id": "4d6758c1-0543-4989-a0e6-e158ebe2120c",
   "metadata": {},
   "outputs": [],
   "source": [
    "class DataFilters(object):\n",
    "    def __init__(self, as_of_date):\n",
    "        df_all = pd.concat(\n",
    "            map(pd.read_csv, glob.glob(\"data/nse/*.csv\") + glob.glob(\"data/bse/*.csv\"))\n",
    "        ).assign(\n",
    "            date=lambda df: pd.to_datetime(df.date),\n",
    "            quarter=lambda df: df.date.dt.quarter,\n",
    "        )\n",
    "        self.as_of_date = pd.to_datetime(as_of_date.naive())\n",
    "        max_date = df_all.date.max()\n",
    "        self.filter_date = max_date if max_date < self.as_of_date else self.as_of_date\n",
    "        self.df_all = df_all.query(\"date <= @self.filter_date\")\n",
    "        self.date_str = f\"{self.filter_date.year}{self.filter_date.month:02}{self.filter_date.day:02}\"\n",
    "        logging.info(\n",
    "            f\"Filtering as of {self.date_str} (Either the date provided or the latest one available). \"\n",
    "        )\n",
    "\n",
    "    def get_prev_data(self):\n",
    "        quarter_start = self.current_quarter_start(self.filter_date).date()\n",
    "        quarter_end = self.filter_date.date() - pendulum.duration(days=1)\n",
    "        month_start = self.filter_date.replace(day=1).date()\n",
    "        month_end = self.filter_date.date() - pendulum.duration(days=1)\n",
    "        quarter_period = pendulum.period(quarter_start, quarter_end)\n",
    "        month_period = pendulum.period(month_start, month_end)\n",
    "        date_strs = [\n",
    "            f\"{dt.year}{dt.month:02}{dt.day:02}\" for dt in quarter_period.range(\"days\")\n",
    "        ]\n",
    "        month_days = [\n",
    "            int(f\"{dt.year}{dt.month:02}{dt.day:02}\")\n",
    "            for dt in month_period.range(\"days\")\n",
    "        ]\n",
    "        prev_days = [\n",
    "            f\"data/filtered/{d}.xlsx\"\n",
    "            for d in date_strs\n",
    "            if f\"data/filtered/{d}.xlsx\" in glob.glob(\"data/filtered/*.xlsx\")\n",
    "        ]\n",
    "        self.df_prev = (\n",
    "            pd.concat(map(pd.read_excel, prev_days)).assign(\n",
    "                is_month=lambda df: df.date_str.isin(month_days)\n",
    "            )\n",
    "            if prev_days\n",
    "            else None\n",
    "        )\n",
    "\n",
    "    def apply_all_filters(self):\n",
    "        self.get_prev_data()\n",
    "        self.apply_300p_month_filter()\n",
    "        self.apply_200p_quarter_filter()\n",
    "        self.apply_200p_twice_6mos()\n",
    "        self.apply_52week_high_filter()\n",
    "        self.df_all_filtered = (\n",
    "            pd.concat(\n",
    "                [\n",
    "                    self.df_300p_val_month.assign(filter=\"300% value over prior month\"),\n",
    "                    self.df_200p_val_quarter.assign(\n",
    "                        filter=\"200% value over prior quarter\"\n",
    "                    ),\n",
    "                    self.df_52_week_highs.assign(filter=\"52 week high\"),\n",
    "                    self.df_200p_val_twice.assign(filter=\"200% twice in 6 months\"),\n",
    "                ]\n",
    "            )\n",
    "            .groupby([\"symbol\", \"isin\", \"exchange\"])\n",
    "            .agg({\"filter\": lambda x: x.str.cat(sep=\", \")})\n",
    "            .reset_index()\n",
    "            .assign(date_str=self.date_str)\n",
    "        )\n",
    "        self.df_all_filtered.to_excel(\n",
    "            f\"data/filtered/{self.date_str}.xlsx\", index=False\n",
    "        )\n",
    "        logging.info(\n",
    "            f\"Exported results to data/filtered/{self.date_str}.xlsx. There are {self.df_all_filtered.shape[0]} scripts to scrape.\"\n",
    "        )\n",
    "\n",
    "    def current_quarter_start(self, ref):\n",
    "        if ref.month < 4:\n",
    "            return pendulum.DateTime(ref.year, 1, 1)\n",
    "        elif ref.month < 7:\n",
    "            return pendulum.DateTime(ref.year, 4, 1)\n",
    "        elif ref.month < 10:\n",
    "            return pendulum.DateTime(ref.year, 7, 1)\n",
    "        return pendulum.DateTime(ref.year, 10, 1)\n",
    "\n",
    "    def apply_300p_month_filter(self):\n",
    "        prev_month_first = (self.filter_date - pd.DateOffset(months=1)).replace(day=1)\n",
    "        grouping_vars = [\"symbol\", \"isin\", \"exchange\", \"year\", \"month\"]\n",
    "        self.df_300p_val_month = (\n",
    "            self.df_all.query(\"date >= @prev_month_first\")\n",
    "            .assign(value=lambda df: df.close * df.volume)\n",
    "            .sort_values(grouping_vars + [\"day\"])\n",
    "            .groupby(grouping_vars)\n",
    "            .agg({\"value\": sum, \"volume\": sum, \"close\": lambda x: x.iloc[-1]})\n",
    "            .reset_index()\n",
    "            .sort_values(grouping_vars)\n",
    "            .assign(\n",
    "                value_lag=lambda df: df.groupby([\"symbol\", \"isin\"])[\"value\"].shift(1),\n",
    "                volume_lag=lambda df: df.groupby([\"symbol\", \"isin\"])[\"volume\"].shift(1),\n",
    "                close_lag=lambda df: df.groupby([\"symbol\", \"isin\"])[\"close\"].shift(1),\n",
    "                value_ratio=lambda df: df.value / df.value_lag,\n",
    "                volume_ratio=lambda df: df.volume / df.volume_lag,\n",
    "                close_ratio=lambda df: df.close / df.close_lag,\n",
    "            )\n",
    "            .query(\"value_lag.notna()\", engine=\"python\")\n",
    "            .query(\"value_ratio>3 & close_ratio>1 & value>2_000_000\")\n",
    "        )\n",
    "        if self.df_prev is not None:\n",
    "            self.df_300p_val_month = (\n",
    "                self.df_300p_val_month.merge(\n",
    "                    self.df_prev.query(\n",
    "                        \"filter.str.contains('300% value over prior month') & is_month\",\n",
    "                        engine=\"python\",\n",
    "                    )\n",
    "                    .loc[:, [\"symbol\", \"isin\", \"exchange\"]]\n",
    "                    .assign(already_exists=True),\n",
    "                    \"left\",\n",
    "                )\n",
    "                .query(\"already_exists.isna()\", engine=\"python\")\n",
    "                .drop(columns=\"already_exists\")\n",
    "            )\n",
    "\n",
    "    def previous_quarter_start(self, ref):\n",
    "        if ref.month < 4:\n",
    "            return pendulum.DateTime(ref.year - 1, 10, 1)\n",
    "        elif ref.month < 7:\n",
    "            return pendulum.DateTime(ref.year, 1, 1)\n",
    "        elif ref.month < 10:\n",
    "            return pendulum.DateTime(ref.year, 4, 1)\n",
    "        return pendulum.DateTime(ref.year, 7, 1)\n",
    "\n",
    "    def apply_200p_quarter_filter(self):\n",
    "        prev_quarter_first = pd.to_datetime(\n",
    "            self.previous_quarter_start(self.filter_date)\n",
    "        )\n",
    "        grouping_vars = [\"symbol\", \"isin\", \"exchange\", \"year\", \"quarter\"]\n",
    "        self.df_200p_val_quarter = (\n",
    "            self.df_all.query(\"date >= @prev_quarter_first\")\n",
    "            .assign(value=lambda df: df.close * df.volume)\n",
    "            .sort_values(grouping_vars + [\"month\", \"day\"])\n",
    "            .groupby(grouping_vars)\n",
    "            .agg({\"value\": sum, \"volume\": sum, \"close\": lambda x: x.iloc[-1]})\n",
    "            .reset_index()\n",
    "            .sort_values(grouping_vars)\n",
    "            .assign(\n",
    "                value_lag=lambda df: df.groupby([\"symbol\", \"isin\"])[\"value\"].shift(1),\n",
    "                volume_lag=lambda df: df.groupby([\"symbol\", \"isin\"])[\"volume\"].shift(1),\n",
    "                close_lag=lambda df: df.groupby([\"symbol\", \"isin\"])[\"close\"].shift(1),\n",
    "                value_ratio=lambda df: df.value / df.value_lag,\n",
    "                volume_ratio=lambda df: df.volume / df.volume_lag,\n",
    "                close_ratio=lambda df: df.close / df.close_lag,\n",
    "            )\n",
    "            .query(\"value_lag.notna()\", engine=\"python\")\n",
    "            .query(\"value_ratio>2 & close_ratio>1 & value>6_000_000\")\n",
    "        )\n",
    "        if self.df_prev is not None:\n",
    "            self.df_200p_val_quarter = (\n",
    "                self.df_200p_val_quarter.merge(\n",
    "                    self.df_prev.query(\n",
    "                        \"filter.str.contains('200% value over prior quarter')\",\n",
    "                        engine=\"python\",\n",
    "                    )\n",
    "                    .loc[:, [\"symbol\", \"isin\", \"exchange\"]]\n",
    "                    .assign(already_exists=True),\n",
    "                    \"left\",\n",
    "                )\n",
    "                .query(\"already_exists.isna()\", engine=\"python\")\n",
    "                .drop(columns=\"already_exists\")\n",
    "            )\n",
    "\n",
    "    def apply_52week_high_filter(self):\n",
    "        date_52_weeks_prior = self.filter_date - pd.DateOffset(weeks=52)\n",
    "        grouping_vars = [\"symbol\", \"isin\", \"exchange\"]\n",
    "\n",
    "        df_52_week_high_vals = (\n",
    "            self.df_all.query(\"date >= @date_52_weeks_prior\")\n",
    "            .sort_values(grouping_vars + [\"year\", \"month\", \"day\"])\n",
    "            .groupby(grouping_vars)\n",
    "            .agg({\"high\": max})\n",
    "        )\n",
    "\n",
    "        self.df_52_week_highs = (\n",
    "            self.df_all.query(\"date == @self.filter_date\")\n",
    "            .merge(\n",
    "                df_52_week_high_vals,\n",
    "                how=\"left\",\n",
    "                on=grouping_vars,\n",
    "                suffixes=(\"\", \"_max\"),\n",
    "            )\n",
    "            .query(\"high==high_max\")\n",
    "            .drop(columns=\"high_max\")\n",
    "        )\n",
    "\n",
    "    def apply_200p_twice_6mos(self):\n",
    "        date_6mos_prior = (self.filter_date - pd.DateOffset(months=6)).replace(day=1)\n",
    "        grouping_vars = [\"symbol\", \"isin\", \"exchange\", \"year\", \"month\"]\n",
    "        df_200p_val_twice_filter = (\n",
    "            self.df_all.query(\"date >= @date_6mos_prior\")\n",
    "            .assign(value=lambda df: df.close * df.volume)\n",
    "            .sort_values(grouping_vars + [\"day\"])\n",
    "            .groupby(grouping_vars)\n",
    "            .agg({\"value\": sum, \"volume\": sum, \"close\": lambda x: x.iloc[-1]})\n",
    "            .reset_index()\n",
    "            .sort_values(grouping_vars)\n",
    "            .assign(\n",
    "                value_lag=lambda df: df.groupby([\"symbol\", \"isin\"])[\"value\"].shift(1),\n",
    "                volume_lag=lambda df: df.groupby([\"symbol\", \"isin\"])[\"volume\"].shift(1),\n",
    "                close_lag=lambda df: df.groupby([\"symbol\", \"isin\"])[\"close\"].shift(1),\n",
    "                value_ratio=lambda df: df.value / df.value_lag,\n",
    "                volume_ratio=lambda df: df.volume / df.volume_lag,\n",
    "                close_ratio=lambda df: df.close / df.close_lag,\n",
    "            )\n",
    "            .query(\"value_lag.notna()\", engine=\"python\")\n",
    "            .query(\"value_ratio>2 & close_ratio>1 & value>2_000_000\")\n",
    "            .groupby([\"symbol\", \"isin\", \"exchange\"])\n",
    "            .agg({\"close_ratio\": \"count\"})\n",
    "            .reset_index()\n",
    "            .rename(columns={\"close_ratio\": \"n_double\"})\n",
    "            .query(\"n_double>=2\")\n",
    "            .drop(columns=\"n_double\")\n",
    "        )\n",
    "        self.df_200p_val_twice = self.df_all.query(\"date == @self.filter_date\").merge(\n",
    "            df_200p_val_twice_filter, how=\"inner\"\n",
    "        )\n",
    "\n",
    "        if self.df_prev is not None:\n",
    "            self.df_200p_val_twice = (\n",
    "                self.df_200p_val_twice.merge(\n",
    "                    self.df_prev.query(\n",
    "                        \"filter.str.contains('200% twice in 6 months') & is_month\",\n",
    "                        engine=\"python\",\n",
    "                    )\n",
    "                    .loc[:, [\"symbol\", \"isin\", \"exchange\"]]\n",
    "                    .assign(already_exists=True),\n",
    "                    \"left\",\n",
    "                )\n",
    "                .query(\"already_exists.isna()\", engine=\"python\")\n",
    "                .drop(columns=\"already_exists\")\n",
    "            )\n",
    "\n",
    "    def __repr__(self):\n",
    "        return f\"DateFilter({self.date_str})\""
   ]
  },
  {
   "cell_type": "code",
   "execution_count": 7,
   "id": "620d3256-af97-47a6-a50e-95d8d418b5ee",
   "metadata": {},
   "outputs": [],
   "source": [
    "# for d in range(1, 26):\n",
    "#     as_of_date = pendulum.from_format(f\"202202{d:02}\", \"YYYYMMDD\")  # pendulum.today()\n",
    "#     data_filter = DataFilters(as_of_date)\n",
    "#     data_filter.apply_all_filters()"
   ]
  },
  {
   "cell_type": "code",
   "execution_count": 8,
   "id": "3e1facb2-6baa-4bf0-a595-f6ad3e620574",
   "metadata": {},
   "outputs": [],
   "source": [
    "as_of_date = pendulum.today()  # pendulum.from_format(f\"202202{d:02}\", \"YYYYMMDD\")\n",
    "data_filter = DataFilters(as_of_date)\n",
    "data_filter.apply_all_filters()"
   ]
  },
  {
   "cell_type": "markdown",
   "id": "2911dad9-443f-4b74-be27-a96534751c1f",
   "metadata": {
    "tags": []
   },
   "source": [
    "# Scraping"
   ]
  },
  {
   "cell_type": "code",
   "execution_count": 9,
   "id": "afbb4393-02c8-4d02-bd88-fd8389a465c2",
   "metadata": {},
   "outputs": [],
   "source": [
    "class PageFinder(object):\n",
    "    \"\"\" \"\"\"\n",
    "\n",
    "    base_search_url = \"http://www.moneycontrol.com/stocks/cptmarket/compsearchnew.php?topsearch_type=1&search_str=\"\n",
    "\n",
    "    keys_dict = pd.read_csv(\"data/keys.csv\").set_index(\"field\").to_dict(orient=\"index\")\n",
    "    keys_dict = {k: v[\"identifier\"] for k, v in keys_dict.items()}\n",
    "    check_element = keys_dict[\"market_cap\"].replace(\".\", \"\")\n",
    "\n",
    "    def __init__(self, isin, symbol):\n",
    "        self.isin, self.symbol = str(isin), str(symbol)\n",
    "        self.url = self.home_content = self.ratios_url = None\n",
    "        self.props = dict()\n",
    "\n",
    "        options = webdriver.ChromeOptions()\n",
    "        options.add_argument(\"--ignore-certificate-errors\")\n",
    "        options.add_argument(\"--incognito\")\n",
    "        options.add_argument(\"--headless\")\n",
    "        options.add_experimental_option(\"excludeSwitches\", [\"enable-logging\"])\n",
    "        self.browser = webdriver.Chrome(\n",
    "            service=Service(ChromeDriverManager().install()), options=options\n",
    "        )\n",
    "        self.try_finding_info()\n",
    "\n",
    "    def make_url(self, term):\n",
    "        return self.base_search_url + term\n",
    "\n",
    "    def get_parsed_content(self, url, wait_time=0):\n",
    "        self.browser.implicitly_wait(wait_time)\n",
    "        self.browser.get(url)\n",
    "        return BeautifulSoup(self.browser.page_source)\n",
    "\n",
    "    def validate_and_gather_info(self, term):\n",
    "        url = self.make_url(term)\n",
    "        content = requests.get(url).content\n",
    "        if self.check_element in str(content):\n",
    "            logging.info(f\"Gathering Data for {self.symbol}\")\n",
    "            self.url = url\n",
    "            soup_home = self.get_parsed_content(url, 5)\n",
    "            market_cap = soup_home.select_one(\n",
    "                self.keys_dict[\"market_cap\"].replace(\" \", \".\")\n",
    "            ).text.replace(\",\", \"\")\n",
    "            self.props[\"market_cap\"] = float(market_cap)\n",
    "            #             self.props[\"BLANK\"] = \"\"\n",
    "\n",
    "            self.get_ratios(soup_home)\n",
    "            self.get_financials()\n",
    "            return True\n",
    "        else:\n",
    "            return False\n",
    "\n",
    "    def parse_series(self, content, selector):\n",
    "        ls = []\n",
    "        for x in content.select(self.keys_dict[selector]):\n",
    "            try:\n",
    "                f = float(x.text.replace(\",\", \"\"))\n",
    "                ls.append(f)\n",
    "            except:\n",
    "                ls.append(None)\n",
    "        if len(ls) < 5:\n",
    "            ls += [None] * (5 - len(ls))\n",
    "        return ls\n",
    "\n",
    "    def get_ratios(self, soup):\n",
    "        self.standalone_ratios_url = soup.select_one(self.keys_dict[\"ratios_url\"])[\n",
    "            \"href\"\n",
    "        ]\n",
    "        self.consolidated_ratios_url = self.standalone_ratios_url.replace(\n",
    "            \"ratiosVI\", \"consolidated-ratiosVI\"\n",
    "        )\n",
    "        for name, url in zip(\n",
    "            [\"consolidated\", \"standalone\"],\n",
    "            [self.consolidated_ratios_url, self.standalone_ratios_url],\n",
    "        ):\n",
    "            content = self.get_parsed_content(url)\n",
    "            for metric in [\"rnw\", \"de\"]:\n",
    "                self.props[f\"{name}_{metric}\"] = self.parse_series(\n",
    "                    content, f\"{name}_{metric}\"\n",
    "                )\n",
    "\n",
    "    def get_financials(self):\n",
    "        self.standlone_financials_url = self.standalone_ratios_url.replace(\n",
    "            \"ratiosVI\", \"results/yearly\"\n",
    "        )\n",
    "        self.consolidated_financials_url = self.consolidated_ratios_url.replace(\n",
    "            \"consolidated-ratiosVI\", \"results/consolidated-yearly\"\n",
    "        )\n",
    "\n",
    "        for name, url in zip(\n",
    "            [\"consolidated\", \"standalone\"],\n",
    "            [self.consolidated_financials_url, self.standlone_financials_url],\n",
    "        ):\n",
    "            content = self.get_parsed_content(url)\n",
    "            for metric in [\"sr\", \"np\"]:\n",
    "                self.props[f\"{name}_{metric}\"] = self.parse_series(\n",
    "                    content, f\"{name}_{metric}\"\n",
    "                )\n",
    "\n",
    "    def try_finding_info(self):\n",
    "        search_terms = [self.isin] + [\n",
    "            self.symbol[:i] for i in range(len(self.symbol), 3, -1)\n",
    "        ]\n",
    "        for term in search_terms:\n",
    "            if self.validate_and_gather_info(term):\n",
    "                logging.info(f\"Found data for {self.symbol}\")\n",
    "                return\n",
    "        logging.warning(f\"Could not find data for {self.symbol}\")\n",
    "        self.browser.close()\n",
    "\n",
    "    def __repr__(self):\n",
    "        return f\"PageFinder({self.isin}, {self.symbol}, {self.url})\""
   ]
  },
  {
   "cell_type": "code",
   "execution_count": 10,
   "id": "042b9bf6-487a-4863-9850-11e0837e8ca6",
   "metadata": {},
   "outputs": [],
   "source": [
    "df_filtered = data_filter.df_all_filtered"
   ]
  },
  {
   "cell_type": "code",
   "execution_count": 12,
   "id": "d1009000-03fb-4bbe-9fd7-b115629de089",
   "metadata": {
    "scrolled": true,
    "tags": []
   },
   "outputs": [
    {
     "name": "stderr",
     "output_type": "stream",
     "text": [
      " 40%|█████████████████▌                          | 2/5 [00:16<00:24,  8.04s/it]WARNING:root:Could not find data for ABMTSPRG    \n",
      "100%|████████████████████████████████████████████| 5/5 [01:24<00:00, 16.89s/it]\n"
     ]
    }
   ],
   "source": [
    "# def scrape_metrics(df_filtered):\n",
    "df_filtered = df_filtered.iloc[:5].assign(\n",
    "    pf=lambda df: df.progress_apply(\n",
    "        lambda row: PageFinder(row[\"isin\"], row[\"symbol\"]), axis=1\n",
    "    ),\n",
    ")"
   ]
  },
  {
   "cell_type": "code",
   "execution_count": 13,
   "id": "0ce03a0d-9dc4-4cc4-9961-5f311cffc365",
   "metadata": {},
   "outputs": [
    {
     "data": {
      "text/html": [
       "<div>\n",
       "<style scoped>\n",
       "    .dataframe tbody tr th:only-of-type {\n",
       "        vertical-align: middle;\n",
       "    }\n",
       "\n",
       "    .dataframe tbody tr th {\n",
       "        vertical-align: top;\n",
       "    }\n",
       "\n",
       "    .dataframe thead th {\n",
       "        text-align: right;\n",
       "    }\n",
       "</style>\n",
       "<table border=\"1\" class=\"dataframe\">\n",
       "  <thead>\n",
       "    <tr style=\"text-align: right;\">\n",
       "      <th></th>\n",
       "      <th>symbol</th>\n",
       "      <th>isin</th>\n",
       "      <th>exchange</th>\n",
       "      <th>filter</th>\n",
       "      <th>date_str</th>\n",
       "      <th>pf</th>\n",
       "    </tr>\n",
       "  </thead>\n",
       "  <tbody>\n",
       "    <tr>\n",
       "      <th>0</th>\n",
       "      <td>ABHIFIN</td>\n",
       "      <td>538935</td>\n",
       "      <td>BSE</td>\n",
       "      <td>52 week high</td>\n",
       "      <td>20220225</td>\n",
       "      <td>PageFinder(538935, ABHIFIN     , http://www.mo...</td>\n",
       "    </tr>\n",
       "    <tr>\n",
       "      <th>1</th>\n",
       "      <td>ABMTSPRG</td>\n",
       "      <td>542887</td>\n",
       "      <td>BSE</td>\n",
       "      <td>52 week high</td>\n",
       "      <td>20220225</td>\n",
       "      <td>PageFinder(542887, ABMTSPRG    , None)</td>\n",
       "    </tr>\n",
       "    <tr>\n",
       "      <th>2</th>\n",
       "      <td>ACTIVE</td>\n",
       "      <td>541144</td>\n",
       "      <td>BSE</td>\n",
       "      <td>52 week high</td>\n",
       "      <td>20220225</td>\n",
       "      <td>PageFinder(541144, ACTIVE      , http://www.mo...</td>\n",
       "    </tr>\n",
       "    <tr>\n",
       "      <th>3</th>\n",
       "      <td>AMANI TRAD</td>\n",
       "      <td>512008</td>\n",
       "      <td>BSE</td>\n",
       "      <td>52 week high</td>\n",
       "      <td>20220225</td>\n",
       "      <td>PageFinder(512008, AMANI TRAD  , http://www.mo...</td>\n",
       "    </tr>\n",
       "    <tr>\n",
       "      <th>4</th>\n",
       "      <td>AVIVA INDS</td>\n",
       "      <td>512109</td>\n",
       "      <td>BSE</td>\n",
       "      <td>52 week high</td>\n",
       "      <td>20220225</td>\n",
       "      <td>PageFinder(512109, AVIVA INDS  , http://www.mo...</td>\n",
       "    </tr>\n",
       "  </tbody>\n",
       "</table>\n",
       "</div>"
      ],
      "text/plain": [
       "         symbol    isin exchange        filter  date_str  \\\n",
       "0  ABHIFIN       538935      BSE  52 week high  20220225   \n",
       "1  ABMTSPRG      542887      BSE  52 week high  20220225   \n",
       "2  ACTIVE        541144      BSE  52 week high  20220225   \n",
       "3  AMANI TRAD    512008      BSE  52 week high  20220225   \n",
       "4  AVIVA INDS    512109      BSE  52 week high  20220225   \n",
       "\n",
       "                                                  pf  \n",
       "0  PageFinder(538935, ABHIFIN     , http://www.mo...  \n",
       "1             PageFinder(542887, ABMTSPRG    , None)  \n",
       "2  PageFinder(541144, ACTIVE      , http://www.mo...  \n",
       "3  PageFinder(512008, AMANI TRAD  , http://www.mo...  \n",
       "4  PageFinder(512109, AVIVA INDS  , http://www.mo...  "
      ]
     },
     "execution_count": 13,
     "metadata": {},
     "output_type": "execute_result"
    }
   ],
   "source": [
    "df_filtered"
   ]
  },
  {
   "cell_type": "code",
   "execution_count": 15,
   "id": "139919ed-8c14-4dae-94e4-6e650101690c",
   "metadata": {
    "scrolled": true,
    "tags": []
   },
   "outputs": [],
   "source": [
    "df = (\n",
    "    df_filtered.pf.apply(lambda pf: pf.props)\n",
    "    .apply(pd.Series)\n",
    "    .query(\"market_cap.notna()\", engine=\"python\")\n",
    ")\n",
    "cols = [\n",
    "    \"consolidated_rnw\",\n",
    "    \"standalone_rnw\",\n",
    "    \"consolidated_sr\",\n",
    "    \"consolidated_np\",\n",
    "    \"standalone_sr\",\n",
    "    \"standalone_np\",\n",
    "    \"consolidated_de\",\n",
    "    \"standalone_de\",\n",
    "]\n",
    "for b, col in enumerate(cols):\n",
    "    names = [f\"{col.replace('_', ' ')}{i}\" for i in range(5, 0, -1)]\n",
    "    df[names] = pd.DataFrame(df[col].tolist(), index=df.index)\n",
    "    df[f\"BLANK {b}\"] = \"\"\n",
    "df = df.drop(columns=cols)"
   ]
  },
  {
   "cell_type": "code",
   "execution_count": 17,
   "id": "19db7535-57dc-48e2-90b1-6dc5de53a976",
   "metadata": {},
   "outputs": [
    {
     "data": {
      "text/html": [
       "<div>\n",
       "<style scoped>\n",
       "    .dataframe tbody tr th:only-of-type {\n",
       "        vertical-align: middle;\n",
       "    }\n",
       "\n",
       "    .dataframe tbody tr th {\n",
       "        vertical-align: top;\n",
       "    }\n",
       "\n",
       "    .dataframe thead th {\n",
       "        text-align: right;\n",
       "    }\n",
       "</style>\n",
       "<table border=\"1\" class=\"dataframe\">\n",
       "  <thead>\n",
       "    <tr style=\"text-align: right;\">\n",
       "      <th></th>\n",
       "      <th>market_cap</th>\n",
       "      <th>consolidated rnw5</th>\n",
       "      <th>consolidated rnw4</th>\n",
       "      <th>consolidated rnw3</th>\n",
       "      <th>consolidated rnw2</th>\n",
       "      <th>consolidated rnw1</th>\n",
       "      <th>BLANK 0</th>\n",
       "      <th>standalone rnw5</th>\n",
       "      <th>standalone rnw4</th>\n",
       "      <th>standalone rnw3</th>\n",
       "      <th>standalone rnw2</th>\n",
       "      <th>standalone rnw1</th>\n",
       "      <th>BLANK 1</th>\n",
       "      <th>consolidated sr5</th>\n",
       "      <th>consolidated sr4</th>\n",
       "      <th>consolidated sr3</th>\n",
       "      <th>consolidated sr2</th>\n",
       "      <th>consolidated sr1</th>\n",
       "      <th>BLANK 2</th>\n",
       "      <th>consolidated np5</th>\n",
       "      <th>consolidated np4</th>\n",
       "      <th>consolidated np3</th>\n",
       "      <th>consolidated np2</th>\n",
       "      <th>consolidated np1</th>\n",
       "      <th>BLANK 3</th>\n",
       "      <th>standalone sr5</th>\n",
       "      <th>standalone sr4</th>\n",
       "      <th>standalone sr3</th>\n",
       "      <th>standalone sr2</th>\n",
       "      <th>standalone sr1</th>\n",
       "      <th>BLANK 4</th>\n",
       "      <th>standalone np5</th>\n",
       "      <th>standalone np4</th>\n",
       "      <th>standalone np3</th>\n",
       "      <th>standalone np2</th>\n",
       "      <th>standalone np1</th>\n",
       "      <th>BLANK 5</th>\n",
       "      <th>consolidated de5</th>\n",
       "      <th>consolidated de4</th>\n",
       "      <th>consolidated de3</th>\n",
       "      <th>consolidated de2</th>\n",
       "      <th>consolidated de1</th>\n",
       "      <th>BLANK 6</th>\n",
       "      <th>standalone de5</th>\n",
       "      <th>standalone de4</th>\n",
       "      <th>standalone de3</th>\n",
       "      <th>standalone de2</th>\n",
       "      <th>standalone de1</th>\n",
       "      <th>BLANK 7</th>\n",
       "    </tr>\n",
       "  </thead>\n",
       "  <tbody>\n",
       "    <tr>\n",
       "      <th>0</th>\n",
       "      <td>0.0</td>\n",
       "      <td>None</td>\n",
       "      <td>None</td>\n",
       "      <td>None</td>\n",
       "      <td>None</td>\n",
       "      <td>None</td>\n",
       "      <td></td>\n",
       "      <td>2.09</td>\n",
       "      <td>-2.23</td>\n",
       "      <td>1.00</td>\n",
       "      <td>1.59</td>\n",
       "      <td>1.54</td>\n",
       "      <td></td>\n",
       "      <td>None</td>\n",
       "      <td>None</td>\n",
       "      <td>None</td>\n",
       "      <td>None</td>\n",
       "      <td>None</td>\n",
       "      <td></td>\n",
       "      <td>None</td>\n",
       "      <td>None</td>\n",
       "      <td>None</td>\n",
       "      <td>None</td>\n",
       "      <td>None</td>\n",
       "      <td></td>\n",
       "      <td>0.51</td>\n",
       "      <td>0.33</td>\n",
       "      <td>0.71</td>\n",
       "      <td>3.01</td>\n",
       "      <td>0.47</td>\n",
       "      <td></td>\n",
       "      <td>0.08</td>\n",
       "      <td>-0.09</td>\n",
       "      <td>0.03</td>\n",
       "      <td>0.05</td>\n",
       "      <td>0.05</td>\n",
       "      <td></td>\n",
       "      <td>None</td>\n",
       "      <td>None</td>\n",
       "      <td>None</td>\n",
       "      <td>None</td>\n",
       "      <td>None</td>\n",
       "      <td></td>\n",
       "      <td>0.02</td>\n",
       "      <td>0.02</td>\n",
       "      <td>0.00</td>\n",
       "      <td>0.00</td>\n",
       "      <td>0.00</td>\n",
       "      <td></td>\n",
       "    </tr>\n",
       "    <tr>\n",
       "      <th>2</th>\n",
       "      <td>44.0</td>\n",
       "      <td>None</td>\n",
       "      <td>None</td>\n",
       "      <td>None</td>\n",
       "      <td>None</td>\n",
       "      <td>None</td>\n",
       "      <td></td>\n",
       "      <td>0.08</td>\n",
       "      <td>1.39</td>\n",
       "      <td>5.03</td>\n",
       "      <td>4.15</td>\n",
       "      <td>5.43</td>\n",
       "      <td></td>\n",
       "      <td>None</td>\n",
       "      <td>None</td>\n",
       "      <td>None</td>\n",
       "      <td>None</td>\n",
       "      <td>None</td>\n",
       "      <td></td>\n",
       "      <td>None</td>\n",
       "      <td>None</td>\n",
       "      <td>None</td>\n",
       "      <td>None</td>\n",
       "      <td>None</td>\n",
       "      <td></td>\n",
       "      <td>73.14</td>\n",
       "      <td>147.96</td>\n",
       "      <td>154.49</td>\n",
       "      <td>127.35</td>\n",
       "      <td>119.98</td>\n",
       "      <td></td>\n",
       "      <td>0.06</td>\n",
       "      <td>0.86</td>\n",
       "      <td>3.06</td>\n",
       "      <td>2.37</td>\n",
       "      <td>1.86</td>\n",
       "      <td></td>\n",
       "      <td>None</td>\n",
       "      <td>None</td>\n",
       "      <td>None</td>\n",
       "      <td>None</td>\n",
       "      <td>None</td>\n",
       "      <td></td>\n",
       "      <td>0.87</td>\n",
       "      <td>0.99</td>\n",
       "      <td>0.99</td>\n",
       "      <td>0.90</td>\n",
       "      <td>2.08</td>\n",
       "      <td></td>\n",
       "    </tr>\n",
       "    <tr>\n",
       "      <th>3</th>\n",
       "      <td>8.0</td>\n",
       "      <td>None</td>\n",
       "      <td>None</td>\n",
       "      <td>None</td>\n",
       "      <td>None</td>\n",
       "      <td>None</td>\n",
       "      <td></td>\n",
       "      <td>4.34</td>\n",
       "      <td>9.46</td>\n",
       "      <td>-1.73</td>\n",
       "      <td>5.02</td>\n",
       "      <td>3.13</td>\n",
       "      <td></td>\n",
       "      <td>None</td>\n",
       "      <td>None</td>\n",
       "      <td>None</td>\n",
       "      <td>None</td>\n",
       "      <td>None</td>\n",
       "      <td></td>\n",
       "      <td>None</td>\n",
       "      <td>None</td>\n",
       "      <td>None</td>\n",
       "      <td>None</td>\n",
       "      <td>None</td>\n",
       "      <td></td>\n",
       "      <td>NaN</td>\n",
       "      <td>0.04</td>\n",
       "      <td>2.13</td>\n",
       "      <td>2.84</td>\n",
       "      <td>5.36</td>\n",
       "      <td></td>\n",
       "      <td>0.07</td>\n",
       "      <td>0.15</td>\n",
       "      <td>-0.02</td>\n",
       "      <td>0.07</td>\n",
       "      <td>0.03</td>\n",
       "      <td></td>\n",
       "      <td>None</td>\n",
       "      <td>None</td>\n",
       "      <td>None</td>\n",
       "      <td>None</td>\n",
       "      <td>None</td>\n",
       "      <td></td>\n",
       "      <td>0.00</td>\n",
       "      <td>0.00</td>\n",
       "      <td>0.00</td>\n",
       "      <td>0.00</td>\n",
       "      <td>0.00</td>\n",
       "      <td></td>\n",
       "    </tr>\n",
       "    <tr>\n",
       "      <th>4</th>\n",
       "      <td>2.0</td>\n",
       "      <td>None</td>\n",
       "      <td>None</td>\n",
       "      <td>None</td>\n",
       "      <td>None</td>\n",
       "      <td>None</td>\n",
       "      <td></td>\n",
       "      <td>0.07</td>\n",
       "      <td>0.03</td>\n",
       "      <td>1.90</td>\n",
       "      <td>0.56</td>\n",
       "      <td>0.15</td>\n",
       "      <td></td>\n",
       "      <td>None</td>\n",
       "      <td>None</td>\n",
       "      <td>None</td>\n",
       "      <td>None</td>\n",
       "      <td>None</td>\n",
       "      <td></td>\n",
       "      <td>None</td>\n",
       "      <td>None</td>\n",
       "      <td>None</td>\n",
       "      <td>None</td>\n",
       "      <td>None</td>\n",
       "      <td></td>\n",
       "      <td>0.10</td>\n",
       "      <td>NaN</td>\n",
       "      <td>NaN</td>\n",
       "      <td>1.36</td>\n",
       "      <td>NaN</td>\n",
       "      <td></td>\n",
       "      <td>0.00</td>\n",
       "      <td>0.00</td>\n",
       "      <td>0.08</td>\n",
       "      <td>0.02</td>\n",
       "      <td>0.01</td>\n",
       "      <td></td>\n",
       "      <td>None</td>\n",
       "      <td>None</td>\n",
       "      <td>None</td>\n",
       "      <td>None</td>\n",
       "      <td>None</td>\n",
       "      <td></td>\n",
       "      <td>0.04</td>\n",
       "      <td>0.04</td>\n",
       "      <td>0.04</td>\n",
       "      <td>0.02</td>\n",
       "      <td>0.04</td>\n",
       "      <td></td>\n",
       "    </tr>\n",
       "  </tbody>\n",
       "</table>\n",
       "</div>"
      ],
      "text/plain": [
       "   market_cap consolidated rnw5 consolidated rnw4 consolidated rnw3  \\\n",
       "0         0.0              None              None              None   \n",
       "2        44.0              None              None              None   \n",
       "3         8.0              None              None              None   \n",
       "4         2.0              None              None              None   \n",
       "\n",
       "  consolidated rnw2 consolidated rnw1 BLANK 0  standalone rnw5  \\\n",
       "0              None              None                     2.09   \n",
       "2              None              None                     0.08   \n",
       "3              None              None                     4.34   \n",
       "4              None              None                     0.07   \n",
       "\n",
       "   standalone rnw4  standalone rnw3  standalone rnw2  standalone rnw1 BLANK 1  \\\n",
       "0            -2.23             1.00             1.59             1.54           \n",
       "2             1.39             5.03             4.15             5.43           \n",
       "3             9.46            -1.73             5.02             3.13           \n",
       "4             0.03             1.90             0.56             0.15           \n",
       "\n",
       "  consolidated sr5 consolidated sr4 consolidated sr3 consolidated sr2  \\\n",
       "0             None             None             None             None   \n",
       "2             None             None             None             None   \n",
       "3             None             None             None             None   \n",
       "4             None             None             None             None   \n",
       "\n",
       "  consolidated sr1 BLANK 2 consolidated np5 consolidated np4 consolidated np3  \\\n",
       "0             None                     None             None             None   \n",
       "2             None                     None             None             None   \n",
       "3             None                     None             None             None   \n",
       "4             None                     None             None             None   \n",
       "\n",
       "  consolidated np2 consolidated np1 BLANK 3  standalone sr5  standalone sr4  \\\n",
       "0             None             None                    0.51            0.33   \n",
       "2             None             None                   73.14          147.96   \n",
       "3             None             None                     NaN            0.04   \n",
       "4             None             None                    0.10             NaN   \n",
       "\n",
       "   standalone sr3  standalone sr2  standalone sr1 BLANK 4  standalone np5  \\\n",
       "0            0.71            3.01            0.47                    0.08   \n",
       "2          154.49          127.35          119.98                    0.06   \n",
       "3            2.13            2.84            5.36                    0.07   \n",
       "4             NaN            1.36             NaN                    0.00   \n",
       "\n",
       "   standalone np4  standalone np3  standalone np2  standalone np1 BLANK 5  \\\n",
       "0           -0.09            0.03            0.05            0.05           \n",
       "2            0.86            3.06            2.37            1.86           \n",
       "3            0.15           -0.02            0.07            0.03           \n",
       "4            0.00            0.08            0.02            0.01           \n",
       "\n",
       "  consolidated de5 consolidated de4 consolidated de3 consolidated de2  \\\n",
       "0             None             None             None             None   \n",
       "2             None             None             None             None   \n",
       "3             None             None             None             None   \n",
       "4             None             None             None             None   \n",
       "\n",
       "  consolidated de1 BLANK 6  standalone de5  standalone de4  standalone de3  \\\n",
       "0             None                    0.02            0.02            0.00   \n",
       "2             None                    0.87            0.99            0.99   \n",
       "3             None                    0.00            0.00            0.00   \n",
       "4             None                    0.04            0.04            0.04   \n",
       "\n",
       "   standalone de2  standalone de1 BLANK 7  \n",
       "0            0.00            0.00          \n",
       "2            0.90            2.08          \n",
       "3            0.00            0.00          \n",
       "4            0.02            0.04          "
      ]
     },
     "execution_count": 17,
     "metadata": {},
     "output_type": "execute_result"
    }
   ],
   "source": [
    "df"
   ]
  },
  {
   "cell_type": "code",
   "execution_count": 20,
   "id": "5edce002-5961-4b61-b809-a5646355b622",
   "metadata": {},
   "outputs": [
    {
     "data": {
      "text/html": [
       "<div>\n",
       "<style scoped>\n",
       "    .dataframe tbody tr th:only-of-type {\n",
       "        vertical-align: middle;\n",
       "    }\n",
       "\n",
       "    .dataframe tbody tr th {\n",
       "        vertical-align: top;\n",
       "    }\n",
       "\n",
       "    .dataframe thead th {\n",
       "        text-align: right;\n",
       "    }\n",
       "</style>\n",
       "<table border=\"1\" class=\"dataframe\">\n",
       "  <thead>\n",
       "    <tr style=\"text-align: right;\">\n",
       "      <th></th>\n",
       "      <th>symbol</th>\n",
       "      <th>isin</th>\n",
       "      <th>exchange</th>\n",
       "      <th>filter</th>\n",
       "    </tr>\n",
       "  </thead>\n",
       "  <tbody>\n",
       "    <tr>\n",
       "      <th>0</th>\n",
       "      <td>ABHIFIN</td>\n",
       "      <td>538935</td>\n",
       "      <td>BSE</td>\n",
       "      <td>52 week high</td>\n",
       "    </tr>\n",
       "    <tr>\n",
       "      <th>1</th>\n",
       "      <td>ABMTSPRG</td>\n",
       "      <td>542887</td>\n",
       "      <td>BSE</td>\n",
       "      <td>52 week high</td>\n",
       "    </tr>\n",
       "    <tr>\n",
       "      <th>2</th>\n",
       "      <td>ACTIVE</td>\n",
       "      <td>541144</td>\n",
       "      <td>BSE</td>\n",
       "      <td>52 week high</td>\n",
       "    </tr>\n",
       "    <tr>\n",
       "      <th>3</th>\n",
       "      <td>AMANI TRAD</td>\n",
       "      <td>512008</td>\n",
       "      <td>BSE</td>\n",
       "      <td>52 week high</td>\n",
       "    </tr>\n",
       "    <tr>\n",
       "      <th>4</th>\n",
       "      <td>AVIVA INDS</td>\n",
       "      <td>512109</td>\n",
       "      <td>BSE</td>\n",
       "      <td>52 week high</td>\n",
       "    </tr>\n",
       "  </tbody>\n",
       "</table>\n",
       "</div>"
      ],
      "text/plain": [
       "         symbol    isin exchange        filter\n",
       "0  ABHIFIN       538935      BSE  52 week high\n",
       "1  ABMTSPRG      542887      BSE  52 week high\n",
       "2  ACTIVE        541144      BSE  52 week high\n",
       "3  AMANI TRAD    512008      BSE  52 week high\n",
       "4  AVIVA INDS    512109      BSE  52 week high"
      ]
     },
     "execution_count": 20,
     "metadata": {},
     "output_type": "execute_result"
    }
   ],
   "source": [
    "df_filtered[[\"symbol\", \"isin\", \"exchange\", \"filter\"]]"
   ]
  },
  {
   "cell_type": "code",
   "execution_count": 21,
   "id": "84ef1aec-fdb3-47b2-85cd-4a53a350e164",
   "metadata": {},
   "outputs": [
    {
     "data": {
      "text/html": [
       "<div>\n",
       "<style scoped>\n",
       "    .dataframe tbody tr th:only-of-type {\n",
       "        vertical-align: middle;\n",
       "    }\n",
       "\n",
       "    .dataframe tbody tr th {\n",
       "        vertical-align: top;\n",
       "    }\n",
       "\n",
       "    .dataframe thead th {\n",
       "        text-align: right;\n",
       "    }\n",
       "</style>\n",
       "<table border=\"1\" class=\"dataframe\">\n",
       "  <thead>\n",
       "    <tr style=\"text-align: right;\">\n",
       "      <th></th>\n",
       "      <th>market_cap</th>\n",
       "      <th>consolidated rnw5</th>\n",
       "      <th>consolidated rnw4</th>\n",
       "      <th>consolidated rnw3</th>\n",
       "      <th>consolidated rnw2</th>\n",
       "      <th>consolidated rnw1</th>\n",
       "      <th>BLANK 0</th>\n",
       "      <th>standalone rnw5</th>\n",
       "      <th>standalone rnw4</th>\n",
       "      <th>standalone rnw3</th>\n",
       "      <th>standalone rnw2</th>\n",
       "      <th>standalone rnw1</th>\n",
       "      <th>BLANK 1</th>\n",
       "      <th>consolidated sr5</th>\n",
       "      <th>consolidated sr4</th>\n",
       "      <th>consolidated sr3</th>\n",
       "      <th>consolidated sr2</th>\n",
       "      <th>consolidated sr1</th>\n",
       "      <th>BLANK 2</th>\n",
       "      <th>consolidated np5</th>\n",
       "      <th>consolidated np4</th>\n",
       "      <th>consolidated np3</th>\n",
       "      <th>consolidated np2</th>\n",
       "      <th>consolidated np1</th>\n",
       "      <th>BLANK 3</th>\n",
       "      <th>standalone sr5</th>\n",
       "      <th>standalone sr4</th>\n",
       "      <th>standalone sr3</th>\n",
       "      <th>standalone sr2</th>\n",
       "      <th>standalone sr1</th>\n",
       "      <th>BLANK 4</th>\n",
       "      <th>standalone np5</th>\n",
       "      <th>standalone np4</th>\n",
       "      <th>standalone np3</th>\n",
       "      <th>standalone np2</th>\n",
       "      <th>standalone np1</th>\n",
       "      <th>BLANK 5</th>\n",
       "      <th>consolidated de5</th>\n",
       "      <th>consolidated de4</th>\n",
       "      <th>consolidated de3</th>\n",
       "      <th>consolidated de2</th>\n",
       "      <th>consolidated de1</th>\n",
       "      <th>BLANK 6</th>\n",
       "      <th>standalone de5</th>\n",
       "      <th>standalone de4</th>\n",
       "      <th>standalone de3</th>\n",
       "      <th>standalone de2</th>\n",
       "      <th>standalone de1</th>\n",
       "      <th>BLANK 7</th>\n",
       "    </tr>\n",
       "  </thead>\n",
       "  <tbody>\n",
       "    <tr>\n",
       "      <th>0</th>\n",
       "      <td>0.0</td>\n",
       "      <td>None</td>\n",
       "      <td>None</td>\n",
       "      <td>None</td>\n",
       "      <td>None</td>\n",
       "      <td>None</td>\n",
       "      <td></td>\n",
       "      <td>2.09</td>\n",
       "      <td>-2.23</td>\n",
       "      <td>1.00</td>\n",
       "      <td>1.59</td>\n",
       "      <td>1.54</td>\n",
       "      <td></td>\n",
       "      <td>None</td>\n",
       "      <td>None</td>\n",
       "      <td>None</td>\n",
       "      <td>None</td>\n",
       "      <td>None</td>\n",
       "      <td></td>\n",
       "      <td>None</td>\n",
       "      <td>None</td>\n",
       "      <td>None</td>\n",
       "      <td>None</td>\n",
       "      <td>None</td>\n",
       "      <td></td>\n",
       "      <td>0.51</td>\n",
       "      <td>0.33</td>\n",
       "      <td>0.71</td>\n",
       "      <td>3.01</td>\n",
       "      <td>0.47</td>\n",
       "      <td></td>\n",
       "      <td>0.08</td>\n",
       "      <td>-0.09</td>\n",
       "      <td>0.03</td>\n",
       "      <td>0.05</td>\n",
       "      <td>0.05</td>\n",
       "      <td></td>\n",
       "      <td>None</td>\n",
       "      <td>None</td>\n",
       "      <td>None</td>\n",
       "      <td>None</td>\n",
       "      <td>None</td>\n",
       "      <td></td>\n",
       "      <td>0.02</td>\n",
       "      <td>0.02</td>\n",
       "      <td>0.00</td>\n",
       "      <td>0.00</td>\n",
       "      <td>0.00</td>\n",
       "      <td></td>\n",
       "    </tr>\n",
       "    <tr>\n",
       "      <th>2</th>\n",
       "      <td>44.0</td>\n",
       "      <td>None</td>\n",
       "      <td>None</td>\n",
       "      <td>None</td>\n",
       "      <td>None</td>\n",
       "      <td>None</td>\n",
       "      <td></td>\n",
       "      <td>0.08</td>\n",
       "      <td>1.39</td>\n",
       "      <td>5.03</td>\n",
       "      <td>4.15</td>\n",
       "      <td>5.43</td>\n",
       "      <td></td>\n",
       "      <td>None</td>\n",
       "      <td>None</td>\n",
       "      <td>None</td>\n",
       "      <td>None</td>\n",
       "      <td>None</td>\n",
       "      <td></td>\n",
       "      <td>None</td>\n",
       "      <td>None</td>\n",
       "      <td>None</td>\n",
       "      <td>None</td>\n",
       "      <td>None</td>\n",
       "      <td></td>\n",
       "      <td>73.14</td>\n",
       "      <td>147.96</td>\n",
       "      <td>154.49</td>\n",
       "      <td>127.35</td>\n",
       "      <td>119.98</td>\n",
       "      <td></td>\n",
       "      <td>0.06</td>\n",
       "      <td>0.86</td>\n",
       "      <td>3.06</td>\n",
       "      <td>2.37</td>\n",
       "      <td>1.86</td>\n",
       "      <td></td>\n",
       "      <td>None</td>\n",
       "      <td>None</td>\n",
       "      <td>None</td>\n",
       "      <td>None</td>\n",
       "      <td>None</td>\n",
       "      <td></td>\n",
       "      <td>0.87</td>\n",
       "      <td>0.99</td>\n",
       "      <td>0.99</td>\n",
       "      <td>0.90</td>\n",
       "      <td>2.08</td>\n",
       "      <td></td>\n",
       "    </tr>\n",
       "    <tr>\n",
       "      <th>3</th>\n",
       "      <td>8.0</td>\n",
       "      <td>None</td>\n",
       "      <td>None</td>\n",
       "      <td>None</td>\n",
       "      <td>None</td>\n",
       "      <td>None</td>\n",
       "      <td></td>\n",
       "      <td>4.34</td>\n",
       "      <td>9.46</td>\n",
       "      <td>-1.73</td>\n",
       "      <td>5.02</td>\n",
       "      <td>3.13</td>\n",
       "      <td></td>\n",
       "      <td>None</td>\n",
       "      <td>None</td>\n",
       "      <td>None</td>\n",
       "      <td>None</td>\n",
       "      <td>None</td>\n",
       "      <td></td>\n",
       "      <td>None</td>\n",
       "      <td>None</td>\n",
       "      <td>None</td>\n",
       "      <td>None</td>\n",
       "      <td>None</td>\n",
       "      <td></td>\n",
       "      <td>NaN</td>\n",
       "      <td>0.04</td>\n",
       "      <td>2.13</td>\n",
       "      <td>2.84</td>\n",
       "      <td>5.36</td>\n",
       "      <td></td>\n",
       "      <td>0.07</td>\n",
       "      <td>0.15</td>\n",
       "      <td>-0.02</td>\n",
       "      <td>0.07</td>\n",
       "      <td>0.03</td>\n",
       "      <td></td>\n",
       "      <td>None</td>\n",
       "      <td>None</td>\n",
       "      <td>None</td>\n",
       "      <td>None</td>\n",
       "      <td>None</td>\n",
       "      <td></td>\n",
       "      <td>0.00</td>\n",
       "      <td>0.00</td>\n",
       "      <td>0.00</td>\n",
       "      <td>0.00</td>\n",
       "      <td>0.00</td>\n",
       "      <td></td>\n",
       "    </tr>\n",
       "    <tr>\n",
       "      <th>4</th>\n",
       "      <td>2.0</td>\n",
       "      <td>None</td>\n",
       "      <td>None</td>\n",
       "      <td>None</td>\n",
       "      <td>None</td>\n",
       "      <td>None</td>\n",
       "      <td></td>\n",
       "      <td>0.07</td>\n",
       "      <td>0.03</td>\n",
       "      <td>1.90</td>\n",
       "      <td>0.56</td>\n",
       "      <td>0.15</td>\n",
       "      <td></td>\n",
       "      <td>None</td>\n",
       "      <td>None</td>\n",
       "      <td>None</td>\n",
       "      <td>None</td>\n",
       "      <td>None</td>\n",
       "      <td></td>\n",
       "      <td>None</td>\n",
       "      <td>None</td>\n",
       "      <td>None</td>\n",
       "      <td>None</td>\n",
       "      <td>None</td>\n",
       "      <td></td>\n",
       "      <td>0.10</td>\n",
       "      <td>NaN</td>\n",
       "      <td>NaN</td>\n",
       "      <td>1.36</td>\n",
       "      <td>NaN</td>\n",
       "      <td></td>\n",
       "      <td>0.00</td>\n",
       "      <td>0.00</td>\n",
       "      <td>0.08</td>\n",
       "      <td>0.02</td>\n",
       "      <td>0.01</td>\n",
       "      <td></td>\n",
       "      <td>None</td>\n",
       "      <td>None</td>\n",
       "      <td>None</td>\n",
       "      <td>None</td>\n",
       "      <td>None</td>\n",
       "      <td></td>\n",
       "      <td>0.04</td>\n",
       "      <td>0.04</td>\n",
       "      <td>0.04</td>\n",
       "      <td>0.02</td>\n",
       "      <td>0.04</td>\n",
       "      <td></td>\n",
       "    </tr>\n",
       "  </tbody>\n",
       "</table>\n",
       "</div>"
      ],
      "text/plain": [
       "   market_cap consolidated rnw5 consolidated rnw4 consolidated rnw3  \\\n",
       "0         0.0              None              None              None   \n",
       "2        44.0              None              None              None   \n",
       "3         8.0              None              None              None   \n",
       "4         2.0              None              None              None   \n",
       "\n",
       "  consolidated rnw2 consolidated rnw1 BLANK 0  standalone rnw5  \\\n",
       "0              None              None                     2.09   \n",
       "2              None              None                     0.08   \n",
       "3              None              None                     4.34   \n",
       "4              None              None                     0.07   \n",
       "\n",
       "   standalone rnw4  standalone rnw3  standalone rnw2  standalone rnw1 BLANK 1  \\\n",
       "0            -2.23             1.00             1.59             1.54           \n",
       "2             1.39             5.03             4.15             5.43           \n",
       "3             9.46            -1.73             5.02             3.13           \n",
       "4             0.03             1.90             0.56             0.15           \n",
       "\n",
       "  consolidated sr5 consolidated sr4 consolidated sr3 consolidated sr2  \\\n",
       "0             None             None             None             None   \n",
       "2             None             None             None             None   \n",
       "3             None             None             None             None   \n",
       "4             None             None             None             None   \n",
       "\n",
       "  consolidated sr1 BLANK 2 consolidated np5 consolidated np4 consolidated np3  \\\n",
       "0             None                     None             None             None   \n",
       "2             None                     None             None             None   \n",
       "3             None                     None             None             None   \n",
       "4             None                     None             None             None   \n",
       "\n",
       "  consolidated np2 consolidated np1 BLANK 3  standalone sr5  standalone sr4  \\\n",
       "0             None             None                    0.51            0.33   \n",
       "2             None             None                   73.14          147.96   \n",
       "3             None             None                     NaN            0.04   \n",
       "4             None             None                    0.10             NaN   \n",
       "\n",
       "   standalone sr3  standalone sr2  standalone sr1 BLANK 4  standalone np5  \\\n",
       "0            0.71            3.01            0.47                    0.08   \n",
       "2          154.49          127.35          119.98                    0.06   \n",
       "3            2.13            2.84            5.36                    0.07   \n",
       "4             NaN            1.36             NaN                    0.00   \n",
       "\n",
       "   standalone np4  standalone np3  standalone np2  standalone np1 BLANK 5  \\\n",
       "0           -0.09            0.03            0.05            0.05           \n",
       "2            0.86            3.06            2.37            1.86           \n",
       "3            0.15           -0.02            0.07            0.03           \n",
       "4            0.00            0.08            0.02            0.01           \n",
       "\n",
       "  consolidated de5 consolidated de4 consolidated de3 consolidated de2  \\\n",
       "0             None             None             None             None   \n",
       "2             None             None             None             None   \n",
       "3             None             None             None             None   \n",
       "4             None             None             None             None   \n",
       "\n",
       "  consolidated de1 BLANK 6  standalone de5  standalone de4  standalone de3  \\\n",
       "0             None                    0.02            0.02            0.00   \n",
       "2             None                    0.87            0.99            0.99   \n",
       "3             None                    0.00            0.00            0.00   \n",
       "4             None                    0.04            0.04            0.04   \n",
       "\n",
       "   standalone de2  standalone de1 BLANK 7  \n",
       "0            0.00            0.00          \n",
       "2            0.90            2.08          \n",
       "3            0.00            0.00          \n",
       "4            0.02            0.04          "
      ]
     },
     "execution_count": 21,
     "metadata": {},
     "output_type": "execute_result"
    }
   ],
   "source": [
    "df"
   ]
  },
  {
   "cell_type": "code",
   "execution_count": 19,
   "id": "a4a32f80-9dc3-40b3-a4d2-6d060b892365",
   "metadata": {},
   "outputs": [
    {
     "data": {
      "text/html": [
       "<div>\n",
       "<style scoped>\n",
       "    .dataframe tbody tr th:only-of-type {\n",
       "        vertical-align: middle;\n",
       "    }\n",
       "\n",
       "    .dataframe tbody tr th {\n",
       "        vertical-align: top;\n",
       "    }\n",
       "\n",
       "    .dataframe thead th {\n",
       "        text-align: right;\n",
       "    }\n",
       "</style>\n",
       "<table border=\"1\" class=\"dataframe\">\n",
       "  <thead>\n",
       "    <tr style=\"text-align: right;\">\n",
       "      <th></th>\n",
       "      <th>symbol</th>\n",
       "      <th>isin</th>\n",
       "      <th>exchange</th>\n",
       "      <th>filter</th>\n",
       "      <th>market_cap</th>\n",
       "      <th>consolidated rnw5</th>\n",
       "      <th>consolidated rnw4</th>\n",
       "      <th>consolidated rnw3</th>\n",
       "      <th>consolidated rnw2</th>\n",
       "      <th>consolidated rnw1</th>\n",
       "      <th>BLANK 0</th>\n",
       "      <th>standalone rnw5</th>\n",
       "      <th>standalone rnw4</th>\n",
       "      <th>standalone rnw3</th>\n",
       "      <th>standalone rnw2</th>\n",
       "      <th>standalone rnw1</th>\n",
       "      <th>BLANK 1</th>\n",
       "      <th>consolidated sr5</th>\n",
       "      <th>consolidated sr4</th>\n",
       "      <th>consolidated sr3</th>\n",
       "      <th>consolidated sr2</th>\n",
       "      <th>consolidated sr1</th>\n",
       "      <th>BLANK 2</th>\n",
       "      <th>consolidated np5</th>\n",
       "      <th>consolidated np4</th>\n",
       "      <th>consolidated np3</th>\n",
       "      <th>consolidated np2</th>\n",
       "      <th>consolidated np1</th>\n",
       "      <th>BLANK 3</th>\n",
       "      <th>standalone sr5</th>\n",
       "      <th>standalone sr4</th>\n",
       "      <th>standalone sr3</th>\n",
       "      <th>standalone sr2</th>\n",
       "      <th>standalone sr1</th>\n",
       "      <th>BLANK 4</th>\n",
       "      <th>standalone np5</th>\n",
       "      <th>standalone np4</th>\n",
       "      <th>standalone np3</th>\n",
       "      <th>standalone np2</th>\n",
       "      <th>standalone np1</th>\n",
       "      <th>BLANK 5</th>\n",
       "      <th>consolidated de5</th>\n",
       "      <th>consolidated de4</th>\n",
       "      <th>consolidated de3</th>\n",
       "      <th>consolidated de2</th>\n",
       "      <th>consolidated de1</th>\n",
       "      <th>BLANK 6</th>\n",
       "      <th>standalone de5</th>\n",
       "      <th>standalone de4</th>\n",
       "      <th>standalone de3</th>\n",
       "      <th>standalone de2</th>\n",
       "      <th>standalone de1</th>\n",
       "      <th>BLANK 7</th>\n",
       "      <th>date_str</th>\n",
       "    </tr>\n",
       "  </thead>\n",
       "  <tbody>\n",
       "    <tr>\n",
       "      <th>0</th>\n",
       "      <td>ABHIFIN</td>\n",
       "      <td>538935</td>\n",
       "      <td>BSE</td>\n",
       "      <td>52 week high</td>\n",
       "      <td>0.0</td>\n",
       "      <td>None</td>\n",
       "      <td>None</td>\n",
       "      <td>None</td>\n",
       "      <td>None</td>\n",
       "      <td>None</td>\n",
       "      <td></td>\n",
       "      <td>2.09</td>\n",
       "      <td>-2.23</td>\n",
       "      <td>1.00</td>\n",
       "      <td>1.59</td>\n",
       "      <td>1.54</td>\n",
       "      <td></td>\n",
       "      <td>None</td>\n",
       "      <td>None</td>\n",
       "      <td>None</td>\n",
       "      <td>None</td>\n",
       "      <td>None</td>\n",
       "      <td></td>\n",
       "      <td>None</td>\n",
       "      <td>None</td>\n",
       "      <td>None</td>\n",
       "      <td>None</td>\n",
       "      <td>None</td>\n",
       "      <td></td>\n",
       "      <td>0.51</td>\n",
       "      <td>0.33</td>\n",
       "      <td>0.71</td>\n",
       "      <td>3.01</td>\n",
       "      <td>0.47</td>\n",
       "      <td></td>\n",
       "      <td>0.08</td>\n",
       "      <td>-0.09</td>\n",
       "      <td>0.03</td>\n",
       "      <td>0.05</td>\n",
       "      <td>0.05</td>\n",
       "      <td></td>\n",
       "      <td>None</td>\n",
       "      <td>None</td>\n",
       "      <td>None</td>\n",
       "      <td>None</td>\n",
       "      <td>None</td>\n",
       "      <td></td>\n",
       "      <td>0.02</td>\n",
       "      <td>0.02</td>\n",
       "      <td>0.00</td>\n",
       "      <td>0.00</td>\n",
       "      <td>0.00</td>\n",
       "      <td></td>\n",
       "      <td>20220225</td>\n",
       "    </tr>\n",
       "    <tr>\n",
       "      <th>1</th>\n",
       "      <td>ABMTSPRG</td>\n",
       "      <td>542887</td>\n",
       "      <td>BSE</td>\n",
       "      <td>52 week high</td>\n",
       "      <td>NaN</td>\n",
       "      <td>NaN</td>\n",
       "      <td>NaN</td>\n",
       "      <td>NaN</td>\n",
       "      <td>NaN</td>\n",
       "      <td>NaN</td>\n",
       "      <td>NaN</td>\n",
       "      <td>NaN</td>\n",
       "      <td>NaN</td>\n",
       "      <td>NaN</td>\n",
       "      <td>NaN</td>\n",
       "      <td>NaN</td>\n",
       "      <td>NaN</td>\n",
       "      <td>NaN</td>\n",
       "      <td>NaN</td>\n",
       "      <td>NaN</td>\n",
       "      <td>NaN</td>\n",
       "      <td>NaN</td>\n",
       "      <td>NaN</td>\n",
       "      <td>NaN</td>\n",
       "      <td>NaN</td>\n",
       "      <td>NaN</td>\n",
       "      <td>NaN</td>\n",
       "      <td>NaN</td>\n",
       "      <td>NaN</td>\n",
       "      <td>NaN</td>\n",
       "      <td>NaN</td>\n",
       "      <td>NaN</td>\n",
       "      <td>NaN</td>\n",
       "      <td>NaN</td>\n",
       "      <td>NaN</td>\n",
       "      <td>NaN</td>\n",
       "      <td>NaN</td>\n",
       "      <td>NaN</td>\n",
       "      <td>NaN</td>\n",
       "      <td>NaN</td>\n",
       "      <td>NaN</td>\n",
       "      <td>NaN</td>\n",
       "      <td>NaN</td>\n",
       "      <td>NaN</td>\n",
       "      <td>NaN</td>\n",
       "      <td>NaN</td>\n",
       "      <td>NaN</td>\n",
       "      <td>NaN</td>\n",
       "      <td>NaN</td>\n",
       "      <td>NaN</td>\n",
       "      <td>NaN</td>\n",
       "      <td>NaN</td>\n",
       "      <td>NaN</td>\n",
       "      <td>20220225</td>\n",
       "    </tr>\n",
       "    <tr>\n",
       "      <th>2</th>\n",
       "      <td>ACTIVE</td>\n",
       "      <td>541144</td>\n",
       "      <td>BSE</td>\n",
       "      <td>52 week high</td>\n",
       "      <td>44.0</td>\n",
       "      <td>None</td>\n",
       "      <td>None</td>\n",
       "      <td>None</td>\n",
       "      <td>None</td>\n",
       "      <td>None</td>\n",
       "      <td></td>\n",
       "      <td>0.08</td>\n",
       "      <td>1.39</td>\n",
       "      <td>5.03</td>\n",
       "      <td>4.15</td>\n",
       "      <td>5.43</td>\n",
       "      <td></td>\n",
       "      <td>None</td>\n",
       "      <td>None</td>\n",
       "      <td>None</td>\n",
       "      <td>None</td>\n",
       "      <td>None</td>\n",
       "      <td></td>\n",
       "      <td>None</td>\n",
       "      <td>None</td>\n",
       "      <td>None</td>\n",
       "      <td>None</td>\n",
       "      <td>None</td>\n",
       "      <td></td>\n",
       "      <td>73.14</td>\n",
       "      <td>147.96</td>\n",
       "      <td>154.49</td>\n",
       "      <td>127.35</td>\n",
       "      <td>119.98</td>\n",
       "      <td></td>\n",
       "      <td>0.06</td>\n",
       "      <td>0.86</td>\n",
       "      <td>3.06</td>\n",
       "      <td>2.37</td>\n",
       "      <td>1.86</td>\n",
       "      <td></td>\n",
       "      <td>None</td>\n",
       "      <td>None</td>\n",
       "      <td>None</td>\n",
       "      <td>None</td>\n",
       "      <td>None</td>\n",
       "      <td></td>\n",
       "      <td>0.87</td>\n",
       "      <td>0.99</td>\n",
       "      <td>0.99</td>\n",
       "      <td>0.90</td>\n",
       "      <td>2.08</td>\n",
       "      <td></td>\n",
       "      <td>20220225</td>\n",
       "    </tr>\n",
       "    <tr>\n",
       "      <th>3</th>\n",
       "      <td>AMANI TRAD</td>\n",
       "      <td>512008</td>\n",
       "      <td>BSE</td>\n",
       "      <td>52 week high</td>\n",
       "      <td>8.0</td>\n",
       "      <td>None</td>\n",
       "      <td>None</td>\n",
       "      <td>None</td>\n",
       "      <td>None</td>\n",
       "      <td>None</td>\n",
       "      <td></td>\n",
       "      <td>4.34</td>\n",
       "      <td>9.46</td>\n",
       "      <td>-1.73</td>\n",
       "      <td>5.02</td>\n",
       "      <td>3.13</td>\n",
       "      <td></td>\n",
       "      <td>None</td>\n",
       "      <td>None</td>\n",
       "      <td>None</td>\n",
       "      <td>None</td>\n",
       "      <td>None</td>\n",
       "      <td></td>\n",
       "      <td>None</td>\n",
       "      <td>None</td>\n",
       "      <td>None</td>\n",
       "      <td>None</td>\n",
       "      <td>None</td>\n",
       "      <td></td>\n",
       "      <td>NaN</td>\n",
       "      <td>0.04</td>\n",
       "      <td>2.13</td>\n",
       "      <td>2.84</td>\n",
       "      <td>5.36</td>\n",
       "      <td></td>\n",
       "      <td>0.07</td>\n",
       "      <td>0.15</td>\n",
       "      <td>-0.02</td>\n",
       "      <td>0.07</td>\n",
       "      <td>0.03</td>\n",
       "      <td></td>\n",
       "      <td>None</td>\n",
       "      <td>None</td>\n",
       "      <td>None</td>\n",
       "      <td>None</td>\n",
       "      <td>None</td>\n",
       "      <td></td>\n",
       "      <td>0.00</td>\n",
       "      <td>0.00</td>\n",
       "      <td>0.00</td>\n",
       "      <td>0.00</td>\n",
       "      <td>0.00</td>\n",
       "      <td></td>\n",
       "      <td>20220225</td>\n",
       "    </tr>\n",
       "    <tr>\n",
       "      <th>4</th>\n",
       "      <td>AVIVA INDS</td>\n",
       "      <td>512109</td>\n",
       "      <td>BSE</td>\n",
       "      <td>52 week high</td>\n",
       "      <td>2.0</td>\n",
       "      <td>None</td>\n",
       "      <td>None</td>\n",
       "      <td>None</td>\n",
       "      <td>None</td>\n",
       "      <td>None</td>\n",
       "      <td></td>\n",
       "      <td>0.07</td>\n",
       "      <td>0.03</td>\n",
       "      <td>1.90</td>\n",
       "      <td>0.56</td>\n",
       "      <td>0.15</td>\n",
       "      <td></td>\n",
       "      <td>None</td>\n",
       "      <td>None</td>\n",
       "      <td>None</td>\n",
       "      <td>None</td>\n",
       "      <td>None</td>\n",
       "      <td></td>\n",
       "      <td>None</td>\n",
       "      <td>None</td>\n",
       "      <td>None</td>\n",
       "      <td>None</td>\n",
       "      <td>None</td>\n",
       "      <td></td>\n",
       "      <td>0.10</td>\n",
       "      <td>NaN</td>\n",
       "      <td>NaN</td>\n",
       "      <td>1.36</td>\n",
       "      <td>NaN</td>\n",
       "      <td></td>\n",
       "      <td>0.00</td>\n",
       "      <td>0.00</td>\n",
       "      <td>0.08</td>\n",
       "      <td>0.02</td>\n",
       "      <td>0.01</td>\n",
       "      <td></td>\n",
       "      <td>None</td>\n",
       "      <td>None</td>\n",
       "      <td>None</td>\n",
       "      <td>None</td>\n",
       "      <td>None</td>\n",
       "      <td></td>\n",
       "      <td>0.04</td>\n",
       "      <td>0.04</td>\n",
       "      <td>0.04</td>\n",
       "      <td>0.02</td>\n",
       "      <td>0.04</td>\n",
       "      <td></td>\n",
       "      <td>20220225</td>\n",
       "    </tr>\n",
       "  </tbody>\n",
       "</table>\n",
       "</div>"
      ],
      "text/plain": [
       "         symbol    isin exchange        filter  market_cap consolidated rnw5  \\\n",
       "0  ABHIFIN       538935      BSE  52 week high         0.0              None   \n",
       "1  ABMTSPRG      542887      BSE  52 week high         NaN               NaN   \n",
       "2  ACTIVE        541144      BSE  52 week high        44.0              None   \n",
       "3  AMANI TRAD    512008      BSE  52 week high         8.0              None   \n",
       "4  AVIVA INDS    512109      BSE  52 week high         2.0              None   \n",
       "\n",
       "  consolidated rnw4 consolidated rnw3 consolidated rnw2 consolidated rnw1  \\\n",
       "0              None              None              None              None   \n",
       "1               NaN               NaN               NaN               NaN   \n",
       "2              None              None              None              None   \n",
       "3              None              None              None              None   \n",
       "4              None              None              None              None   \n",
       "\n",
       "  BLANK 0  standalone rnw5  standalone rnw4  standalone rnw3  standalone rnw2  \\\n",
       "0                     2.09            -2.23             1.00             1.59   \n",
       "1     NaN              NaN              NaN              NaN              NaN   \n",
       "2                     0.08             1.39             5.03             4.15   \n",
       "3                     4.34             9.46            -1.73             5.02   \n",
       "4                     0.07             0.03             1.90             0.56   \n",
       "\n",
       "   standalone rnw1 BLANK 1 consolidated sr5 consolidated sr4 consolidated sr3  \\\n",
       "0             1.54                     None             None             None   \n",
       "1              NaN     NaN              NaN              NaN              NaN   \n",
       "2             5.43                     None             None             None   \n",
       "3             3.13                     None             None             None   \n",
       "4             0.15                     None             None             None   \n",
       "\n",
       "  consolidated sr2 consolidated sr1 BLANK 2 consolidated np5 consolidated np4  \\\n",
       "0             None             None                     None             None   \n",
       "1              NaN              NaN     NaN              NaN              NaN   \n",
       "2             None             None                     None             None   \n",
       "3             None             None                     None             None   \n",
       "4             None             None                     None             None   \n",
       "\n",
       "  consolidated np3 consolidated np2 consolidated np1 BLANK 3  standalone sr5  \\\n",
       "0             None             None             None                    0.51   \n",
       "1              NaN              NaN              NaN     NaN             NaN   \n",
       "2             None             None             None                   73.14   \n",
       "3             None             None             None                     NaN   \n",
       "4             None             None             None                    0.10   \n",
       "\n",
       "   standalone sr4  standalone sr3  standalone sr2  standalone sr1 BLANK 4  \\\n",
       "0            0.33            0.71            3.01            0.47           \n",
       "1             NaN             NaN             NaN             NaN     NaN   \n",
       "2          147.96          154.49          127.35          119.98           \n",
       "3            0.04            2.13            2.84            5.36           \n",
       "4             NaN             NaN            1.36             NaN           \n",
       "\n",
       "   standalone np5  standalone np4  standalone np3  standalone np2  \\\n",
       "0            0.08           -0.09            0.03            0.05   \n",
       "1             NaN             NaN             NaN             NaN   \n",
       "2            0.06            0.86            3.06            2.37   \n",
       "3            0.07            0.15           -0.02            0.07   \n",
       "4            0.00            0.00            0.08            0.02   \n",
       "\n",
       "   standalone np1 BLANK 5 consolidated de5 consolidated de4 consolidated de3  \\\n",
       "0            0.05                     None             None             None   \n",
       "1             NaN     NaN              NaN              NaN              NaN   \n",
       "2            1.86                     None             None             None   \n",
       "3            0.03                     None             None             None   \n",
       "4            0.01                     None             None             None   \n",
       "\n",
       "  consolidated de2 consolidated de1 BLANK 6  standalone de5  standalone de4  \\\n",
       "0             None             None                    0.02            0.02   \n",
       "1              NaN              NaN     NaN             NaN             NaN   \n",
       "2             None             None                    0.87            0.99   \n",
       "3             None             None                    0.00            0.00   \n",
       "4             None             None                    0.04            0.04   \n",
       "\n",
       "   standalone de3  standalone de2  standalone de1 BLANK 7  date_str  \n",
       "0            0.00            0.00            0.00          20220225  \n",
       "1             NaN             NaN             NaN     NaN  20220225  \n",
       "2            0.99            0.90            2.08          20220225  \n",
       "3            0.00            0.00            0.00          20220225  \n",
       "4            0.04            0.02            0.04          20220225  "
      ]
     },
     "execution_count": 19,
     "metadata": {},
     "output_type": "execute_result"
    }
   ],
   "source": [
    "pd.concat(\n",
    "    [\n",
    "        df_filtered[[\"symbol\", \"isin\", \"exchange\", \"filter\"]],\n",
    "        df,\n",
    "        df_filtered[[\"date_str\"]],\n",
    "    ],\n",
    "    axis=1,\n",
    ")"
   ]
  },
  {
   "cell_type": "code",
   "execution_count": 15,
   "id": "5fc21cec-4b48-4267-9586-b4ada916a68a",
   "metadata": {
    "scrolled": true,
    "tags": []
   },
   "outputs": [],
   "source": [
    "df_final = (\n",
    "    pd.concat(\n",
    "        [\n",
    "            df_filtered[[\"symbol\", \"isin\", \"exchange\", \"filter\"]],\n",
    "            df,\n",
    "            df_filtered[[\"date_str\"]],\n",
    "        ],\n",
    "        axis=1,\n",
    "    )\n",
    "    .assign(no_data=lambda df: df.market_cap.isna())\n",
    "    .sort_values(\"no_data\")\n",
    ")\n",
    "\n",
    "df_final.loc[~df_final.no_data] = df_final.loc[~df_final.no_data].fillna(\"\")\n",
    "df_final.loc[df_final.no_data] = df_final.loc[df_final.no_data].fillna(\n",
    "    \"No Match in Money Control\"\n",
    ")\n",
    "df_final = df_final.drop(columns=\"no_data\").rename(columns=str.upper)\n",
    "\n",
    "# # Load the file\n",
    "# wb = openpyxl.load_workbook(\"data/results_template.xlsx\")\n",
    "# ws = wb.active\n",
    "\n",
    "# # Convert the dataframe into rows\n",
    "# rows = dataframe_to_rows(df_final, index=False, header=False)\n",
    "\n",
    "# # Write the rows to the worksheet\n",
    "# for r_idx, row in enumerate(rows, 2):\n",
    "#     for c_idx, value in enumerate(row, 1):\n",
    "#         ws.cell(row=r_idx, column=c_idx, value=value)\n",
    "\n",
    "# # Save the worksheet as a (*.xlsx) file\n",
    "# wb.template = False\n",
    "# wb.save(f\"data/final/{data_filter.date_str}.xlsx\")"
   ]
  },
  {
   "cell_type": "code",
   "execution_count": 16,
   "id": "a1496c5d-54a7-4f3e-9639-f372c4245c90",
   "metadata": {},
   "outputs": [
    {
     "data": {
      "text/html": [
       "<div>\n",
       "<style scoped>\n",
       "    .dataframe tbody tr th:only-of-type {\n",
       "        vertical-align: middle;\n",
       "    }\n",
       "\n",
       "    .dataframe tbody tr th {\n",
       "        vertical-align: top;\n",
       "    }\n",
       "\n",
       "    .dataframe thead th {\n",
       "        text-align: right;\n",
       "    }\n",
       "</style>\n",
       "<table border=\"1\" class=\"dataframe\">\n",
       "  <thead>\n",
       "    <tr style=\"text-align: right;\">\n",
       "      <th></th>\n",
       "      <th>SYMBOL</th>\n",
       "      <th>ISIN</th>\n",
       "      <th>EXCHANGE</th>\n",
       "      <th>FILTER</th>\n",
       "      <th>MARKET_CAP</th>\n",
       "      <th>CONSOLIDATED RNW5</th>\n",
       "      <th>CONSOLIDATED RNW4</th>\n",
       "      <th>CONSOLIDATED RNW3</th>\n",
       "      <th>CONSOLIDATED RNW2</th>\n",
       "      <th>CONSOLIDATED RNW1</th>\n",
       "      <th>BLANK 0</th>\n",
       "      <th>STANDALONE RNW5</th>\n",
       "      <th>STANDALONE RNW4</th>\n",
       "      <th>STANDALONE RNW3</th>\n",
       "      <th>STANDALONE RNW2</th>\n",
       "      <th>STANDALONE RNW1</th>\n",
       "      <th>BLANK 1</th>\n",
       "      <th>CONSOLIDATED SR5</th>\n",
       "      <th>CONSOLIDATED SR4</th>\n",
       "      <th>CONSOLIDATED SR3</th>\n",
       "      <th>CONSOLIDATED SR2</th>\n",
       "      <th>CONSOLIDATED SR1</th>\n",
       "      <th>BLANK 2</th>\n",
       "      <th>CONSOLIDATED NP5</th>\n",
       "      <th>CONSOLIDATED NP4</th>\n",
       "      <th>CONSOLIDATED NP3</th>\n",
       "      <th>CONSOLIDATED NP2</th>\n",
       "      <th>CONSOLIDATED NP1</th>\n",
       "      <th>BLANK 3</th>\n",
       "      <th>STANDALONE SR5</th>\n",
       "      <th>STANDALONE SR4</th>\n",
       "      <th>STANDALONE SR3</th>\n",
       "      <th>STANDALONE SR2</th>\n",
       "      <th>STANDALONE SR1</th>\n",
       "      <th>BLANK 4</th>\n",
       "      <th>STANDALONE NP5</th>\n",
       "      <th>STANDALONE NP4</th>\n",
       "      <th>STANDALONE NP3</th>\n",
       "      <th>STANDALONE NP2</th>\n",
       "      <th>STANDALONE NP1</th>\n",
       "      <th>BLANK 5</th>\n",
       "      <th>CONSOLIDATED DE5</th>\n",
       "      <th>CONSOLIDATED DE4</th>\n",
       "      <th>CONSOLIDATED DE3</th>\n",
       "      <th>CONSOLIDATED DE2</th>\n",
       "      <th>CONSOLIDATED DE1</th>\n",
       "      <th>BLANK 6</th>\n",
       "      <th>STANDALONE DE5</th>\n",
       "      <th>STANDALONE DE4</th>\n",
       "      <th>STANDALONE DE3</th>\n",
       "      <th>STANDALONE DE2</th>\n",
       "      <th>STANDALONE DE1</th>\n",
       "      <th>BLANK 7</th>\n",
       "      <th>DATE_STR</th>\n",
       "    </tr>\n",
       "  </thead>\n",
       "  <tbody>\n",
       "    <tr>\n",
       "      <th>0</th>\n",
       "      <td>ABHIFIN</td>\n",
       "      <td>538935</td>\n",
       "      <td>BSE</td>\n",
       "      <td>52 week high</td>\n",
       "      <td>0.0</td>\n",
       "      <td></td>\n",
       "      <td></td>\n",
       "      <td></td>\n",
       "      <td></td>\n",
       "      <td></td>\n",
       "      <td></td>\n",
       "      <td>2.09</td>\n",
       "      <td>-2.23</td>\n",
       "      <td>1.0</td>\n",
       "      <td>1.59</td>\n",
       "      <td>1.54</td>\n",
       "      <td></td>\n",
       "      <td></td>\n",
       "      <td></td>\n",
       "      <td></td>\n",
       "      <td></td>\n",
       "      <td></td>\n",
       "      <td></td>\n",
       "      <td></td>\n",
       "      <td></td>\n",
       "      <td></td>\n",
       "      <td></td>\n",
       "      <td></td>\n",
       "      <td></td>\n",
       "      <td>0.51</td>\n",
       "      <td>0.33</td>\n",
       "      <td>0.71</td>\n",
       "      <td>3.01</td>\n",
       "      <td>0.47</td>\n",
       "      <td></td>\n",
       "      <td>0.08</td>\n",
       "      <td>-0.09</td>\n",
       "      <td>0.03</td>\n",
       "      <td>0.05</td>\n",
       "      <td>0.05</td>\n",
       "      <td></td>\n",
       "      <td></td>\n",
       "      <td></td>\n",
       "      <td></td>\n",
       "      <td></td>\n",
       "      <td></td>\n",
       "      <td></td>\n",
       "      <td>0.02</td>\n",
       "      <td>0.02</td>\n",
       "      <td>0.0</td>\n",
       "      <td>0.0</td>\n",
       "      <td>0.0</td>\n",
       "      <td></td>\n",
       "      <td>20220225</td>\n",
       "    </tr>\n",
       "    <tr>\n",
       "      <th>2</th>\n",
       "      <td>ACTIVE</td>\n",
       "      <td>541144</td>\n",
       "      <td>BSE</td>\n",
       "      <td>52 week high</td>\n",
       "      <td>44.0</td>\n",
       "      <td></td>\n",
       "      <td></td>\n",
       "      <td></td>\n",
       "      <td></td>\n",
       "      <td></td>\n",
       "      <td></td>\n",
       "      <td>0.08</td>\n",
       "      <td>1.39</td>\n",
       "      <td>5.03</td>\n",
       "      <td>4.15</td>\n",
       "      <td>5.43</td>\n",
       "      <td></td>\n",
       "      <td></td>\n",
       "      <td></td>\n",
       "      <td></td>\n",
       "      <td></td>\n",
       "      <td></td>\n",
       "      <td></td>\n",
       "      <td></td>\n",
       "      <td></td>\n",
       "      <td></td>\n",
       "      <td></td>\n",
       "      <td></td>\n",
       "      <td></td>\n",
       "      <td>73.14</td>\n",
       "      <td>147.96</td>\n",
       "      <td>154.49</td>\n",
       "      <td>127.35</td>\n",
       "      <td>119.98</td>\n",
       "      <td></td>\n",
       "      <td>0.06</td>\n",
       "      <td>0.86</td>\n",
       "      <td>3.06</td>\n",
       "      <td>2.37</td>\n",
       "      <td>1.86</td>\n",
       "      <td></td>\n",
       "      <td></td>\n",
       "      <td></td>\n",
       "      <td></td>\n",
       "      <td></td>\n",
       "      <td></td>\n",
       "      <td></td>\n",
       "      <td>0.87</td>\n",
       "      <td>0.99</td>\n",
       "      <td>0.99</td>\n",
       "      <td>0.9</td>\n",
       "      <td>2.08</td>\n",
       "      <td></td>\n",
       "      <td>20220225</td>\n",
       "    </tr>\n",
       "    <tr>\n",
       "      <th>3</th>\n",
       "      <td>AMANI TRAD</td>\n",
       "      <td>512008</td>\n",
       "      <td>BSE</td>\n",
       "      <td>52 week high</td>\n",
       "      <td>8.0</td>\n",
       "      <td></td>\n",
       "      <td></td>\n",
       "      <td></td>\n",
       "      <td></td>\n",
       "      <td></td>\n",
       "      <td></td>\n",
       "      <td>4.34</td>\n",
       "      <td>9.46</td>\n",
       "      <td>-1.73</td>\n",
       "      <td>5.02</td>\n",
       "      <td>3.13</td>\n",
       "      <td></td>\n",
       "      <td></td>\n",
       "      <td></td>\n",
       "      <td></td>\n",
       "      <td></td>\n",
       "      <td></td>\n",
       "      <td></td>\n",
       "      <td></td>\n",
       "      <td></td>\n",
       "      <td></td>\n",
       "      <td></td>\n",
       "      <td></td>\n",
       "      <td></td>\n",
       "      <td></td>\n",
       "      <td>0.04</td>\n",
       "      <td>2.13</td>\n",
       "      <td>2.84</td>\n",
       "      <td>5.36</td>\n",
       "      <td></td>\n",
       "      <td>0.07</td>\n",
       "      <td>0.15</td>\n",
       "      <td>-0.02</td>\n",
       "      <td>0.07</td>\n",
       "      <td>0.03</td>\n",
       "      <td></td>\n",
       "      <td></td>\n",
       "      <td></td>\n",
       "      <td></td>\n",
       "      <td></td>\n",
       "      <td></td>\n",
       "      <td></td>\n",
       "      <td>0.0</td>\n",
       "      <td>0.0</td>\n",
       "      <td>0.0</td>\n",
       "      <td>0.0</td>\n",
       "      <td>0.0</td>\n",
       "      <td></td>\n",
       "      <td>20220225</td>\n",
       "    </tr>\n",
       "    <tr>\n",
       "      <th>4</th>\n",
       "      <td>AVIVA INDS</td>\n",
       "      <td>512109</td>\n",
       "      <td>BSE</td>\n",
       "      <td>52 week high</td>\n",
       "      <td>2.0</td>\n",
       "      <td></td>\n",
       "      <td></td>\n",
       "      <td></td>\n",
       "      <td></td>\n",
       "      <td></td>\n",
       "      <td></td>\n",
       "      <td>0.07</td>\n",
       "      <td>0.03</td>\n",
       "      <td>1.9</td>\n",
       "      <td>0.56</td>\n",
       "      <td>0.15</td>\n",
       "      <td></td>\n",
       "      <td></td>\n",
       "      <td></td>\n",
       "      <td></td>\n",
       "      <td></td>\n",
       "      <td></td>\n",
       "      <td></td>\n",
       "      <td></td>\n",
       "      <td></td>\n",
       "      <td></td>\n",
       "      <td></td>\n",
       "      <td></td>\n",
       "      <td></td>\n",
       "      <td>0.1</td>\n",
       "      <td></td>\n",
       "      <td></td>\n",
       "      <td>1.36</td>\n",
       "      <td></td>\n",
       "      <td></td>\n",
       "      <td>0.0</td>\n",
       "      <td>0.0</td>\n",
       "      <td>0.08</td>\n",
       "      <td>0.02</td>\n",
       "      <td>0.01</td>\n",
       "      <td></td>\n",
       "      <td></td>\n",
       "      <td></td>\n",
       "      <td></td>\n",
       "      <td></td>\n",
       "      <td></td>\n",
       "      <td></td>\n",
       "      <td>0.04</td>\n",
       "      <td>0.04</td>\n",
       "      <td>0.04</td>\n",
       "      <td>0.02</td>\n",
       "      <td>0.04</td>\n",
       "      <td></td>\n",
       "      <td>20220225</td>\n",
       "    </tr>\n",
       "    <tr>\n",
       "      <th>1</th>\n",
       "      <td>ABMTSPRG</td>\n",
       "      <td>542887</td>\n",
       "      <td>BSE</td>\n",
       "      <td>52 week high</td>\n",
       "      <td>No Match in Money Control</td>\n",
       "      <td>No Match in Money Control</td>\n",
       "      <td>No Match in Money Control</td>\n",
       "      <td>No Match in Money Control</td>\n",
       "      <td>No Match in Money Control</td>\n",
       "      <td>No Match in Money Control</td>\n",
       "      <td>No Match in Money Control</td>\n",
       "      <td>No Match in Money Control</td>\n",
       "      <td>No Match in Money Control</td>\n",
       "      <td>No Match in Money Control</td>\n",
       "      <td>No Match in Money Control</td>\n",
       "      <td>No Match in Money Control</td>\n",
       "      <td>No Match in Money Control</td>\n",
       "      <td>No Match in Money Control</td>\n",
       "      <td>No Match in Money Control</td>\n",
       "      <td>No Match in Money Control</td>\n",
       "      <td>No Match in Money Control</td>\n",
       "      <td>No Match in Money Control</td>\n",
       "      <td>No Match in Money Control</td>\n",
       "      <td>No Match in Money Control</td>\n",
       "      <td>No Match in Money Control</td>\n",
       "      <td>No Match in Money Control</td>\n",
       "      <td>No Match in Money Control</td>\n",
       "      <td>No Match in Money Control</td>\n",
       "      <td>No Match in Money Control</td>\n",
       "      <td>No Match in Money Control</td>\n",
       "      <td>No Match in Money Control</td>\n",
       "      <td>No Match in Money Control</td>\n",
       "      <td>No Match in Money Control</td>\n",
       "      <td>No Match in Money Control</td>\n",
       "      <td>No Match in Money Control</td>\n",
       "      <td>No Match in Money Control</td>\n",
       "      <td>No Match in Money Control</td>\n",
       "      <td>No Match in Money Control</td>\n",
       "      <td>No Match in Money Control</td>\n",
       "      <td>No Match in Money Control</td>\n",
       "      <td>No Match in Money Control</td>\n",
       "      <td>No Match in Money Control</td>\n",
       "      <td>No Match in Money Control</td>\n",
       "      <td>No Match in Money Control</td>\n",
       "      <td>No Match in Money Control</td>\n",
       "      <td>No Match in Money Control</td>\n",
       "      <td>No Match in Money Control</td>\n",
       "      <td>No Match in Money Control</td>\n",
       "      <td>No Match in Money Control</td>\n",
       "      <td>No Match in Money Control</td>\n",
       "      <td>No Match in Money Control</td>\n",
       "      <td>No Match in Money Control</td>\n",
       "      <td>No Match in Money Control</td>\n",
       "      <td>20220225</td>\n",
       "    </tr>\n",
       "  </tbody>\n",
       "</table>\n",
       "</div>"
      ],
      "text/plain": [
       "         SYMBOL    ISIN EXCHANGE        FILTER                 MARKET_CAP  \\\n",
       "0  ABHIFIN       538935      BSE  52 week high                        0.0   \n",
       "2  ACTIVE        541144      BSE  52 week high                       44.0   \n",
       "3  AMANI TRAD    512008      BSE  52 week high                        8.0   \n",
       "4  AVIVA INDS    512109      BSE  52 week high                        2.0   \n",
       "1  ABMTSPRG      542887      BSE  52 week high  No Match in Money Control   \n",
       "\n",
       "           CONSOLIDATED RNW5          CONSOLIDATED RNW4  \\\n",
       "0                                                         \n",
       "2                                                         \n",
       "3                                                         \n",
       "4                                                         \n",
       "1  No Match in Money Control  No Match in Money Control   \n",
       "\n",
       "           CONSOLIDATED RNW3          CONSOLIDATED RNW2  \\\n",
       "0                                                         \n",
       "2                                                         \n",
       "3                                                         \n",
       "4                                                         \n",
       "1  No Match in Money Control  No Match in Money Control   \n",
       "\n",
       "           CONSOLIDATED RNW1                    BLANK 0  \\\n",
       "0                                                         \n",
       "2                                                         \n",
       "3                                                         \n",
       "4                                                         \n",
       "1  No Match in Money Control  No Match in Money Control   \n",
       "\n",
       "             STANDALONE RNW5            STANDALONE RNW4  \\\n",
       "0                       2.09                      -2.23   \n",
       "2                       0.08                       1.39   \n",
       "3                       4.34                       9.46   \n",
       "4                       0.07                       0.03   \n",
       "1  No Match in Money Control  No Match in Money Control   \n",
       "\n",
       "             STANDALONE RNW3            STANDALONE RNW2  \\\n",
       "0                        1.0                       1.59   \n",
       "2                       5.03                       4.15   \n",
       "3                      -1.73                       5.02   \n",
       "4                        1.9                       0.56   \n",
       "1  No Match in Money Control  No Match in Money Control   \n",
       "\n",
       "             STANDALONE RNW1                    BLANK 1  \\\n",
       "0                       1.54                              \n",
       "2                       5.43                              \n",
       "3                       3.13                              \n",
       "4                       0.15                              \n",
       "1  No Match in Money Control  No Match in Money Control   \n",
       "\n",
       "            CONSOLIDATED SR5           CONSOLIDATED SR4  \\\n",
       "0                                                         \n",
       "2                                                         \n",
       "3                                                         \n",
       "4                                                         \n",
       "1  No Match in Money Control  No Match in Money Control   \n",
       "\n",
       "            CONSOLIDATED SR3           CONSOLIDATED SR2  \\\n",
       "0                                                         \n",
       "2                                                         \n",
       "3                                                         \n",
       "4                                                         \n",
       "1  No Match in Money Control  No Match in Money Control   \n",
       "\n",
       "            CONSOLIDATED SR1                    BLANK 2  \\\n",
       "0                                                         \n",
       "2                                                         \n",
       "3                                                         \n",
       "4                                                         \n",
       "1  No Match in Money Control  No Match in Money Control   \n",
       "\n",
       "            CONSOLIDATED NP5           CONSOLIDATED NP4  \\\n",
       "0                                                         \n",
       "2                                                         \n",
       "3                                                         \n",
       "4                                                         \n",
       "1  No Match in Money Control  No Match in Money Control   \n",
       "\n",
       "            CONSOLIDATED NP3           CONSOLIDATED NP2  \\\n",
       "0                                                         \n",
       "2                                                         \n",
       "3                                                         \n",
       "4                                                         \n",
       "1  No Match in Money Control  No Match in Money Control   \n",
       "\n",
       "            CONSOLIDATED NP1                    BLANK 3  \\\n",
       "0                                                         \n",
       "2                                                         \n",
       "3                                                         \n",
       "4                                                         \n",
       "1  No Match in Money Control  No Match in Money Control   \n",
       "\n",
       "              STANDALONE SR5             STANDALONE SR4  \\\n",
       "0                       0.51                       0.33   \n",
       "2                      73.14                     147.96   \n",
       "3                                                  0.04   \n",
       "4                        0.1                              \n",
       "1  No Match in Money Control  No Match in Money Control   \n",
       "\n",
       "              STANDALONE SR3             STANDALONE SR2  \\\n",
       "0                       0.71                       3.01   \n",
       "2                     154.49                     127.35   \n",
       "3                       2.13                       2.84   \n",
       "4                                                  1.36   \n",
       "1  No Match in Money Control  No Match in Money Control   \n",
       "\n",
       "              STANDALONE SR1                    BLANK 4  \\\n",
       "0                       0.47                              \n",
       "2                     119.98                              \n",
       "3                       5.36                              \n",
       "4                                                         \n",
       "1  No Match in Money Control  No Match in Money Control   \n",
       "\n",
       "              STANDALONE NP5             STANDALONE NP4  \\\n",
       "0                       0.08                      -0.09   \n",
       "2                       0.06                       0.86   \n",
       "3                       0.07                       0.15   \n",
       "4                        0.0                        0.0   \n",
       "1  No Match in Money Control  No Match in Money Control   \n",
       "\n",
       "              STANDALONE NP3             STANDALONE NP2  \\\n",
       "0                       0.03                       0.05   \n",
       "2                       3.06                       2.37   \n",
       "3                      -0.02                       0.07   \n",
       "4                       0.08                       0.02   \n",
       "1  No Match in Money Control  No Match in Money Control   \n",
       "\n",
       "              STANDALONE NP1                    BLANK 5  \\\n",
       "0                       0.05                              \n",
       "2                       1.86                              \n",
       "3                       0.03                              \n",
       "4                       0.01                              \n",
       "1  No Match in Money Control  No Match in Money Control   \n",
       "\n",
       "            CONSOLIDATED DE5           CONSOLIDATED DE4  \\\n",
       "0                                                         \n",
       "2                                                         \n",
       "3                                                         \n",
       "4                                                         \n",
       "1  No Match in Money Control  No Match in Money Control   \n",
       "\n",
       "            CONSOLIDATED DE3           CONSOLIDATED DE2  \\\n",
       "0                                                         \n",
       "2                                                         \n",
       "3                                                         \n",
       "4                                                         \n",
       "1  No Match in Money Control  No Match in Money Control   \n",
       "\n",
       "            CONSOLIDATED DE1                    BLANK 6  \\\n",
       "0                                                         \n",
       "2                                                         \n",
       "3                                                         \n",
       "4                                                         \n",
       "1  No Match in Money Control  No Match in Money Control   \n",
       "\n",
       "              STANDALONE DE5             STANDALONE DE4  \\\n",
       "0                       0.02                       0.02   \n",
       "2                       0.87                       0.99   \n",
       "3                        0.0                        0.0   \n",
       "4                       0.04                       0.04   \n",
       "1  No Match in Money Control  No Match in Money Control   \n",
       "\n",
       "              STANDALONE DE3             STANDALONE DE2  \\\n",
       "0                        0.0                        0.0   \n",
       "2                       0.99                        0.9   \n",
       "3                        0.0                        0.0   \n",
       "4                       0.04                       0.02   \n",
       "1  No Match in Money Control  No Match in Money Control   \n",
       "\n",
       "              STANDALONE DE1                    BLANK 7  DATE_STR  \n",
       "0                        0.0                             20220225  \n",
       "2                       2.08                             20220225  \n",
       "3                        0.0                             20220225  \n",
       "4                       0.04                             20220225  \n",
       "1  No Match in Money Control  No Match in Money Control  20220225  "
      ]
     },
     "execution_count": 16,
     "metadata": {},
     "output_type": "execute_result"
    }
   ],
   "source": [
    "df_final"
   ]
  },
  {
   "cell_type": "code",
   "execution_count": 228,
   "id": "087e8330-a417-49a0-a718-a5d7badc3909",
   "metadata": {},
   "outputs": [],
   "source": []
  },
  {
   "cell_type": "code",
   "execution_count": 229,
   "id": "1905c640-23b6-483f-b416-5739782177aa",
   "metadata": {},
   "outputs": [],
   "source": []
  },
  {
   "cell_type": "markdown",
   "id": "2c78a276-0f32-4a87-857d-f96f64f9487c",
   "metadata": {},
   "source": [
    "Deal with \n",
    "\n",
    "1. ~Unequal number of elements for metrics~\n",
    "2. Stock not found. Have an exception  url csv? \n",
    "3. ~Wait for page to load to get elementslike market cap~\n",
    "4. ~Add the right css codes to scrape~\n",
    "4. Formatting - freeze panes, stripes, tables, sort by absence,"
   ]
  },
  {
   "cell_type": "code",
   "execution_count": 230,
   "id": "595e8a8e-eacd-433d-aabb-aa8c17e2cea9",
   "metadata": {},
   "outputs": [
    {
     "data": {
      "text/html": [
       "<div>\n",
       "<style scoped>\n",
       "    .dataframe tbody tr th:only-of-type {\n",
       "        vertical-align: middle;\n",
       "    }\n",
       "\n",
       "    .dataframe tbody tr th {\n",
       "        vertical-align: top;\n",
       "    }\n",
       "\n",
       "    .dataframe thead th {\n",
       "        text-align: right;\n",
       "    }\n",
       "</style>\n",
       "<table border=\"1\" class=\"dataframe\">\n",
       "  <thead>\n",
       "    <tr style=\"text-align: right;\">\n",
       "      <th></th>\n",
       "      <th>market_cap</th>\n",
       "      <th>consolidated rnw5</th>\n",
       "      <th>consolidated rnw4</th>\n",
       "      <th>consolidated rnw3</th>\n",
       "      <th>consolidated rnw2</th>\n",
       "      <th>consolidated rnw1</th>\n",
       "      <th>BLANK 0</th>\n",
       "      <th>standalone rnw5</th>\n",
       "      <th>standalone rnw4</th>\n",
       "      <th>standalone rnw3</th>\n",
       "      <th>standalone rnw2</th>\n",
       "      <th>standalone rnw1</th>\n",
       "      <th>BLANK 1</th>\n",
       "      <th>consolidated sr5</th>\n",
       "      <th>consolidated sr4</th>\n",
       "      <th>consolidated sr3</th>\n",
       "      <th>consolidated sr2</th>\n",
       "      <th>consolidated sr1</th>\n",
       "      <th>BLANK 2</th>\n",
       "      <th>consolidated np5</th>\n",
       "      <th>consolidated np4</th>\n",
       "      <th>consolidated np3</th>\n",
       "      <th>consolidated np2</th>\n",
       "      <th>consolidated np1</th>\n",
       "      <th>BLANK 3</th>\n",
       "      <th>standalone sr5</th>\n",
       "      <th>standalone sr4</th>\n",
       "      <th>standalone sr3</th>\n",
       "      <th>standalone sr2</th>\n",
       "      <th>standalone sr1</th>\n",
       "      <th>BLANK 4</th>\n",
       "      <th>standalone np5</th>\n",
       "      <th>standalone np4</th>\n",
       "      <th>standalone np3</th>\n",
       "      <th>standalone np2</th>\n",
       "      <th>standalone np1</th>\n",
       "      <th>BLANK 5</th>\n",
       "      <th>consolidated de5</th>\n",
       "      <th>consolidated de4</th>\n",
       "      <th>consolidated de3</th>\n",
       "      <th>consolidated de2</th>\n",
       "      <th>consolidated de1</th>\n",
       "      <th>BLANK 6</th>\n",
       "      <th>standalone de5</th>\n",
       "      <th>standalone de4</th>\n",
       "      <th>standalone de3</th>\n",
       "      <th>standalone de2</th>\n",
       "      <th>standalone de1</th>\n",
       "      <th>BLANK 7</th>\n",
       "    </tr>\n",
       "  </thead>\n",
       "  <tbody>\n",
       "    <tr>\n",
       "      <th>0</th>\n",
       "      <td>10.0</td>\n",
       "      <td>None</td>\n",
       "      <td>None</td>\n",
       "      <td>None</td>\n",
       "      <td>None</td>\n",
       "      <td>None</td>\n",
       "      <td></td>\n",
       "      <td>2.09</td>\n",
       "      <td>-2.23</td>\n",
       "      <td>1.00</td>\n",
       "      <td>1.59</td>\n",
       "      <td>1.54</td>\n",
       "      <td></td>\n",
       "      <td>None</td>\n",
       "      <td>None</td>\n",
       "      <td>None</td>\n",
       "      <td>None</td>\n",
       "      <td>None</td>\n",
       "      <td></td>\n",
       "      <td>None</td>\n",
       "      <td>None</td>\n",
       "      <td>None</td>\n",
       "      <td>None</td>\n",
       "      <td>None</td>\n",
       "      <td></td>\n",
       "      <td>0.51</td>\n",
       "      <td>0.33</td>\n",
       "      <td>0.71</td>\n",
       "      <td>3.01</td>\n",
       "      <td>0.47</td>\n",
       "      <td></td>\n",
       "      <td>0.08</td>\n",
       "      <td>-0.09</td>\n",
       "      <td>0.03</td>\n",
       "      <td>0.05</td>\n",
       "      <td>0.05</td>\n",
       "      <td></td>\n",
       "      <td>None</td>\n",
       "      <td>None</td>\n",
       "      <td>None</td>\n",
       "      <td>None</td>\n",
       "      <td>None</td>\n",
       "      <td></td>\n",
       "      <td>0.02</td>\n",
       "      <td>0.02</td>\n",
       "      <td>0.00</td>\n",
       "      <td>0.0</td>\n",
       "      <td>0.00</td>\n",
       "      <td></td>\n",
       "    </tr>\n",
       "    <tr>\n",
       "      <th>2</th>\n",
       "      <td>44.0</td>\n",
       "      <td>None</td>\n",
       "      <td>None</td>\n",
       "      <td>None</td>\n",
       "      <td>None</td>\n",
       "      <td>None</td>\n",
       "      <td></td>\n",
       "      <td>0.08</td>\n",
       "      <td>1.39</td>\n",
       "      <td>5.03</td>\n",
       "      <td>4.15</td>\n",
       "      <td>5.43</td>\n",
       "      <td></td>\n",
       "      <td>None</td>\n",
       "      <td>None</td>\n",
       "      <td>None</td>\n",
       "      <td>None</td>\n",
       "      <td>None</td>\n",
       "      <td></td>\n",
       "      <td>None</td>\n",
       "      <td>None</td>\n",
       "      <td>None</td>\n",
       "      <td>None</td>\n",
       "      <td>None</td>\n",
       "      <td></td>\n",
       "      <td>73.14</td>\n",
       "      <td>147.96</td>\n",
       "      <td>154.49</td>\n",
       "      <td>127.35</td>\n",
       "      <td>119.98</td>\n",
       "      <td></td>\n",
       "      <td>0.06</td>\n",
       "      <td>0.86</td>\n",
       "      <td>3.06</td>\n",
       "      <td>2.37</td>\n",
       "      <td>1.86</td>\n",
       "      <td></td>\n",
       "      <td>None</td>\n",
       "      <td>None</td>\n",
       "      <td>None</td>\n",
       "      <td>None</td>\n",
       "      <td>None</td>\n",
       "      <td></td>\n",
       "      <td>0.87</td>\n",
       "      <td>0.99</td>\n",
       "      <td>0.99</td>\n",
       "      <td>0.9</td>\n",
       "      <td>2.08</td>\n",
       "      <td></td>\n",
       "    </tr>\n",
       "  </tbody>\n",
       "</table>\n",
       "</div>"
      ],
      "text/plain": [
       "   market_cap consolidated rnw5 consolidated rnw4 consolidated rnw3  \\\n",
       "0        10.0              None              None              None   \n",
       "2        44.0              None              None              None   \n",
       "\n",
       "  consolidated rnw2 consolidated rnw1 BLANK 0  standalone rnw5  \\\n",
       "0              None              None                     2.09   \n",
       "2              None              None                     0.08   \n",
       "\n",
       "   standalone rnw4  standalone rnw3  standalone rnw2  standalone rnw1 BLANK 1  \\\n",
       "0            -2.23             1.00             1.59             1.54           \n",
       "2             1.39             5.03             4.15             5.43           \n",
       "\n",
       "  consolidated sr5 consolidated sr4 consolidated sr3 consolidated sr2  \\\n",
       "0             None             None             None             None   \n",
       "2             None             None             None             None   \n",
       "\n",
       "  consolidated sr1 BLANK 2 consolidated np5 consolidated np4 consolidated np3  \\\n",
       "0             None                     None             None             None   \n",
       "2             None                     None             None             None   \n",
       "\n",
       "  consolidated np2 consolidated np1 BLANK 3  standalone sr5  standalone sr4  \\\n",
       "0             None             None                    0.51            0.33   \n",
       "2             None             None                   73.14          147.96   \n",
       "\n",
       "   standalone sr3  standalone sr2  standalone sr1 BLANK 4  standalone np5  \\\n",
       "0            0.71            3.01            0.47                    0.08   \n",
       "2          154.49          127.35          119.98                    0.06   \n",
       "\n",
       "   standalone np4  standalone np3  standalone np2  standalone np1 BLANK 5  \\\n",
       "0           -0.09            0.03            0.05            0.05           \n",
       "2            0.86            3.06            2.37            1.86           \n",
       "\n",
       "  consolidated de5 consolidated de4 consolidated de3 consolidated de2  \\\n",
       "0             None             None             None             None   \n",
       "2             None             None             None             None   \n",
       "\n",
       "  consolidated de1 BLANK 6  standalone de5  standalone de4  standalone de3  \\\n",
       "0             None                    0.02            0.02            0.00   \n",
       "2             None                    0.87            0.99            0.99   \n",
       "\n",
       "   standalone de2  standalone de1 BLANK 7  \n",
       "0             0.0            0.00          \n",
       "2             0.9            2.08          "
      ]
     },
     "execution_count": 230,
     "metadata": {},
     "output_type": "execute_result"
    }
   ],
   "source": [
    "df"
   ]
  },
  {
   "cell_type": "code",
   "execution_count": 231,
   "id": "cac6537b-297d-4c19-97ae-cb70280015b8",
   "metadata": {},
   "outputs": [],
   "source": []
  },
  {
   "cell_type": "code",
   "execution_count": 266,
   "id": "d33698e3-dd50-4120-b732-38b8276c2e78",
   "metadata": {},
   "outputs": [],
   "source": []
  },
  {
   "cell_type": "code",
   "execution_count": 257,
   "id": "f937b5cb-1dea-4d36-88f1-242586f29406",
   "metadata": {},
   "outputs": [
    {
     "data": {
      "text/plain": [
       "'data/final/20220225.xlsx'"
      ]
     },
     "execution_count": 257,
     "metadata": {},
     "output_type": "execute_result"
    }
   ],
   "source": [
    "shutil.copy(\"data/results_template.xlsx\", f\"data/final/{data_filter.date_str}.xlsx\")"
   ]
  },
  {
   "cell_type": "code",
   "execution_count": 262,
   "id": "460cf8a2-d545-439b-9983-2a4c1e5dfdb1",
   "metadata": {},
   "outputs": [],
   "source": []
  },
  {
   "cell_type": "code",
   "execution_count": 268,
   "id": "e2b28b81-2559-479d-a313-32802145163c",
   "metadata": {},
   "outputs": [
    {
     "data": {
      "text/plain": [
       "<Cell 'Sheet1'.A2>"
      ]
     },
     "execution_count": 268,
     "metadata": {},
     "output_type": "execute_result"
    },
    {
     "data": {
      "text/plain": [
       "<Cell 'Sheet1'.B2>"
      ]
     },
     "execution_count": 268,
     "metadata": {},
     "output_type": "execute_result"
    },
    {
     "data": {
      "text/plain": [
       "<Cell 'Sheet1'.C2>"
      ]
     },
     "execution_count": 268,
     "metadata": {},
     "output_type": "execute_result"
    },
    {
     "data": {
      "text/plain": [
       "<Cell 'Sheet1'.D2>"
      ]
     },
     "execution_count": 268,
     "metadata": {},
     "output_type": "execute_result"
    },
    {
     "data": {
      "text/plain": [
       "<Cell 'Sheet1'.E2>"
      ]
     },
     "execution_count": 268,
     "metadata": {},
     "output_type": "execute_result"
    },
    {
     "data": {
      "text/plain": [
       "<Cell 'Sheet1'.F2>"
      ]
     },
     "execution_count": 268,
     "metadata": {},
     "output_type": "execute_result"
    },
    {
     "data": {
      "text/plain": [
       "<Cell 'Sheet1'.G2>"
      ]
     },
     "execution_count": 268,
     "metadata": {},
     "output_type": "execute_result"
    },
    {
     "data": {
      "text/plain": [
       "<Cell 'Sheet1'.H2>"
      ]
     },
     "execution_count": 268,
     "metadata": {},
     "output_type": "execute_result"
    },
    {
     "data": {
      "text/plain": [
       "<Cell 'Sheet1'.I2>"
      ]
     },
     "execution_count": 268,
     "metadata": {},
     "output_type": "execute_result"
    },
    {
     "data": {
      "text/plain": [
       "<Cell 'Sheet1'.J2>"
      ]
     },
     "execution_count": 268,
     "metadata": {},
     "output_type": "execute_result"
    },
    {
     "data": {
      "text/plain": [
       "<Cell 'Sheet1'.K2>"
      ]
     },
     "execution_count": 268,
     "metadata": {},
     "output_type": "execute_result"
    },
    {
     "data": {
      "text/plain": [
       "<Cell 'Sheet1'.L2>"
      ]
     },
     "execution_count": 268,
     "metadata": {},
     "output_type": "execute_result"
    },
    {
     "data": {
      "text/plain": [
       "<Cell 'Sheet1'.M2>"
      ]
     },
     "execution_count": 268,
     "metadata": {},
     "output_type": "execute_result"
    },
    {
     "data": {
      "text/plain": [
       "<Cell 'Sheet1'.N2>"
      ]
     },
     "execution_count": 268,
     "metadata": {},
     "output_type": "execute_result"
    },
    {
     "data": {
      "text/plain": [
       "<Cell 'Sheet1'.O2>"
      ]
     },
     "execution_count": 268,
     "metadata": {},
     "output_type": "execute_result"
    },
    {
     "data": {
      "text/plain": [
       "<Cell 'Sheet1'.P2>"
      ]
     },
     "execution_count": 268,
     "metadata": {},
     "output_type": "execute_result"
    },
    {
     "data": {
      "text/plain": [
       "<Cell 'Sheet1'.Q2>"
      ]
     },
     "execution_count": 268,
     "metadata": {},
     "output_type": "execute_result"
    },
    {
     "data": {
      "text/plain": [
       "<Cell 'Sheet1'.R2>"
      ]
     },
     "execution_count": 268,
     "metadata": {},
     "output_type": "execute_result"
    },
    {
     "data": {
      "text/plain": [
       "<Cell 'Sheet1'.S2>"
      ]
     },
     "execution_count": 268,
     "metadata": {},
     "output_type": "execute_result"
    },
    {
     "data": {
      "text/plain": [
       "<Cell 'Sheet1'.T2>"
      ]
     },
     "execution_count": 268,
     "metadata": {},
     "output_type": "execute_result"
    },
    {
     "data": {
      "text/plain": [
       "<Cell 'Sheet1'.U2>"
      ]
     },
     "execution_count": 268,
     "metadata": {},
     "output_type": "execute_result"
    },
    {
     "data": {
      "text/plain": [
       "<Cell 'Sheet1'.V2>"
      ]
     },
     "execution_count": 268,
     "metadata": {},
     "output_type": "execute_result"
    },
    {
     "data": {
      "text/plain": [
       "<Cell 'Sheet1'.W2>"
      ]
     },
     "execution_count": 268,
     "metadata": {},
     "output_type": "execute_result"
    },
    {
     "data": {
      "text/plain": [
       "<Cell 'Sheet1'.X2>"
      ]
     },
     "execution_count": 268,
     "metadata": {},
     "output_type": "execute_result"
    },
    {
     "data": {
      "text/plain": [
       "<Cell 'Sheet1'.Y2>"
      ]
     },
     "execution_count": 268,
     "metadata": {},
     "output_type": "execute_result"
    },
    {
     "data": {
      "text/plain": [
       "<Cell 'Sheet1'.Z2>"
      ]
     },
     "execution_count": 268,
     "metadata": {},
     "output_type": "execute_result"
    },
    {
     "data": {
      "text/plain": [
       "<Cell 'Sheet1'.AA2>"
      ]
     },
     "execution_count": 268,
     "metadata": {},
     "output_type": "execute_result"
    },
    {
     "data": {
      "text/plain": [
       "<Cell 'Sheet1'.AB2>"
      ]
     },
     "execution_count": 268,
     "metadata": {},
     "output_type": "execute_result"
    },
    {
     "data": {
      "text/plain": [
       "<Cell 'Sheet1'.AC2>"
      ]
     },
     "execution_count": 268,
     "metadata": {},
     "output_type": "execute_result"
    },
    {
     "data": {
      "text/plain": [
       "<Cell 'Sheet1'.AD2>"
      ]
     },
     "execution_count": 268,
     "metadata": {},
     "output_type": "execute_result"
    },
    {
     "data": {
      "text/plain": [
       "<Cell 'Sheet1'.AE2>"
      ]
     },
     "execution_count": 268,
     "metadata": {},
     "output_type": "execute_result"
    },
    {
     "data": {
      "text/plain": [
       "<Cell 'Sheet1'.AF2>"
      ]
     },
     "execution_count": 268,
     "metadata": {},
     "output_type": "execute_result"
    },
    {
     "data": {
      "text/plain": [
       "<Cell 'Sheet1'.AG2>"
      ]
     },
     "execution_count": 268,
     "metadata": {},
     "output_type": "execute_result"
    },
    {
     "data": {
      "text/plain": [
       "<Cell 'Sheet1'.AH2>"
      ]
     },
     "execution_count": 268,
     "metadata": {},
     "output_type": "execute_result"
    },
    {
     "data": {
      "text/plain": [
       "<Cell 'Sheet1'.AI2>"
      ]
     },
     "execution_count": 268,
     "metadata": {},
     "output_type": "execute_result"
    },
    {
     "data": {
      "text/plain": [
       "<Cell 'Sheet1'.AJ2>"
      ]
     },
     "execution_count": 268,
     "metadata": {},
     "output_type": "execute_result"
    },
    {
     "data": {
      "text/plain": [
       "<Cell 'Sheet1'.AK2>"
      ]
     },
     "execution_count": 268,
     "metadata": {},
     "output_type": "execute_result"
    },
    {
     "data": {
      "text/plain": [
       "<Cell 'Sheet1'.AL2>"
      ]
     },
     "execution_count": 268,
     "metadata": {},
     "output_type": "execute_result"
    },
    {
     "data": {
      "text/plain": [
       "<Cell 'Sheet1'.AM2>"
      ]
     },
     "execution_count": 268,
     "metadata": {},
     "output_type": "execute_result"
    },
    {
     "data": {
      "text/plain": [
       "<Cell 'Sheet1'.AN2>"
      ]
     },
     "execution_count": 268,
     "metadata": {},
     "output_type": "execute_result"
    },
    {
     "data": {
      "text/plain": [
       "<Cell 'Sheet1'.AO2>"
      ]
     },
     "execution_count": 268,
     "metadata": {},
     "output_type": "execute_result"
    },
    {
     "data": {
      "text/plain": [
       "<Cell 'Sheet1'.AP2>"
      ]
     },
     "execution_count": 268,
     "metadata": {},
     "output_type": "execute_result"
    },
    {
     "data": {
      "text/plain": [
       "<Cell 'Sheet1'.AQ2>"
      ]
     },
     "execution_count": 268,
     "metadata": {},
     "output_type": "execute_result"
    },
    {
     "data": {
      "text/plain": [
       "<Cell 'Sheet1'.AR2>"
      ]
     },
     "execution_count": 268,
     "metadata": {},
     "output_type": "execute_result"
    },
    {
     "data": {
      "text/plain": [
       "<Cell 'Sheet1'.AS2>"
      ]
     },
     "execution_count": 268,
     "metadata": {},
     "output_type": "execute_result"
    },
    {
     "data": {
      "text/plain": [
       "<Cell 'Sheet1'.AT2>"
      ]
     },
     "execution_count": 268,
     "metadata": {},
     "output_type": "execute_result"
    },
    {
     "data": {
      "text/plain": [
       "<Cell 'Sheet1'.AU2>"
      ]
     },
     "execution_count": 268,
     "metadata": {},
     "output_type": "execute_result"
    },
    {
     "data": {
      "text/plain": [
       "<Cell 'Sheet1'.AV2>"
      ]
     },
     "execution_count": 268,
     "metadata": {},
     "output_type": "execute_result"
    },
    {
     "data": {
      "text/plain": [
       "<Cell 'Sheet1'.AW2>"
      ]
     },
     "execution_count": 268,
     "metadata": {},
     "output_type": "execute_result"
    },
    {
     "data": {
      "text/plain": [
       "<Cell 'Sheet1'.AX2>"
      ]
     },
     "execution_count": 268,
     "metadata": {},
     "output_type": "execute_result"
    },
    {
     "data": {
      "text/plain": [
       "<Cell 'Sheet1'.AY2>"
      ]
     },
     "execution_count": 268,
     "metadata": {},
     "output_type": "execute_result"
    },
    {
     "data": {
      "text/plain": [
       "<Cell 'Sheet1'.AZ2>"
      ]
     },
     "execution_count": 268,
     "metadata": {},
     "output_type": "execute_result"
    },
    {
     "data": {
      "text/plain": [
       "<Cell 'Sheet1'.BA2>"
      ]
     },
     "execution_count": 268,
     "metadata": {},
     "output_type": "execute_result"
    },
    {
     "data": {
      "text/plain": [
       "<Cell 'Sheet1'.BB2>"
      ]
     },
     "execution_count": 268,
     "metadata": {},
     "output_type": "execute_result"
    },
    {
     "data": {
      "text/plain": [
       "<Cell 'Sheet1'.A3>"
      ]
     },
     "execution_count": 268,
     "metadata": {},
     "output_type": "execute_result"
    },
    {
     "data": {
      "text/plain": [
       "<Cell 'Sheet1'.B3>"
      ]
     },
     "execution_count": 268,
     "metadata": {},
     "output_type": "execute_result"
    },
    {
     "data": {
      "text/plain": [
       "<Cell 'Sheet1'.C3>"
      ]
     },
     "execution_count": 268,
     "metadata": {},
     "output_type": "execute_result"
    },
    {
     "data": {
      "text/plain": [
       "<Cell 'Sheet1'.D3>"
      ]
     },
     "execution_count": 268,
     "metadata": {},
     "output_type": "execute_result"
    },
    {
     "data": {
      "text/plain": [
       "<Cell 'Sheet1'.E3>"
      ]
     },
     "execution_count": 268,
     "metadata": {},
     "output_type": "execute_result"
    },
    {
     "data": {
      "text/plain": [
       "<Cell 'Sheet1'.F3>"
      ]
     },
     "execution_count": 268,
     "metadata": {},
     "output_type": "execute_result"
    },
    {
     "data": {
      "text/plain": [
       "<Cell 'Sheet1'.G3>"
      ]
     },
     "execution_count": 268,
     "metadata": {},
     "output_type": "execute_result"
    },
    {
     "data": {
      "text/plain": [
       "<Cell 'Sheet1'.H3>"
      ]
     },
     "execution_count": 268,
     "metadata": {},
     "output_type": "execute_result"
    },
    {
     "data": {
      "text/plain": [
       "<Cell 'Sheet1'.I3>"
      ]
     },
     "execution_count": 268,
     "metadata": {},
     "output_type": "execute_result"
    },
    {
     "data": {
      "text/plain": [
       "<Cell 'Sheet1'.J3>"
      ]
     },
     "execution_count": 268,
     "metadata": {},
     "output_type": "execute_result"
    },
    {
     "data": {
      "text/plain": [
       "<Cell 'Sheet1'.K3>"
      ]
     },
     "execution_count": 268,
     "metadata": {},
     "output_type": "execute_result"
    },
    {
     "data": {
      "text/plain": [
       "<Cell 'Sheet1'.L3>"
      ]
     },
     "execution_count": 268,
     "metadata": {},
     "output_type": "execute_result"
    },
    {
     "data": {
      "text/plain": [
       "<Cell 'Sheet1'.M3>"
      ]
     },
     "execution_count": 268,
     "metadata": {},
     "output_type": "execute_result"
    },
    {
     "data": {
      "text/plain": [
       "<Cell 'Sheet1'.N3>"
      ]
     },
     "execution_count": 268,
     "metadata": {},
     "output_type": "execute_result"
    },
    {
     "data": {
      "text/plain": [
       "<Cell 'Sheet1'.O3>"
      ]
     },
     "execution_count": 268,
     "metadata": {},
     "output_type": "execute_result"
    },
    {
     "data": {
      "text/plain": [
       "<Cell 'Sheet1'.P3>"
      ]
     },
     "execution_count": 268,
     "metadata": {},
     "output_type": "execute_result"
    },
    {
     "data": {
      "text/plain": [
       "<Cell 'Sheet1'.Q3>"
      ]
     },
     "execution_count": 268,
     "metadata": {},
     "output_type": "execute_result"
    },
    {
     "data": {
      "text/plain": [
       "<Cell 'Sheet1'.R3>"
      ]
     },
     "execution_count": 268,
     "metadata": {},
     "output_type": "execute_result"
    },
    {
     "data": {
      "text/plain": [
       "<Cell 'Sheet1'.S3>"
      ]
     },
     "execution_count": 268,
     "metadata": {},
     "output_type": "execute_result"
    },
    {
     "data": {
      "text/plain": [
       "<Cell 'Sheet1'.T3>"
      ]
     },
     "execution_count": 268,
     "metadata": {},
     "output_type": "execute_result"
    },
    {
     "data": {
      "text/plain": [
       "<Cell 'Sheet1'.U3>"
      ]
     },
     "execution_count": 268,
     "metadata": {},
     "output_type": "execute_result"
    },
    {
     "data": {
      "text/plain": [
       "<Cell 'Sheet1'.V3>"
      ]
     },
     "execution_count": 268,
     "metadata": {},
     "output_type": "execute_result"
    },
    {
     "data": {
      "text/plain": [
       "<Cell 'Sheet1'.W3>"
      ]
     },
     "execution_count": 268,
     "metadata": {},
     "output_type": "execute_result"
    },
    {
     "data": {
      "text/plain": [
       "<Cell 'Sheet1'.X3>"
      ]
     },
     "execution_count": 268,
     "metadata": {},
     "output_type": "execute_result"
    },
    {
     "data": {
      "text/plain": [
       "<Cell 'Sheet1'.Y3>"
      ]
     },
     "execution_count": 268,
     "metadata": {},
     "output_type": "execute_result"
    },
    {
     "data": {
      "text/plain": [
       "<Cell 'Sheet1'.Z3>"
      ]
     },
     "execution_count": 268,
     "metadata": {},
     "output_type": "execute_result"
    },
    {
     "data": {
      "text/plain": [
       "<Cell 'Sheet1'.AA3>"
      ]
     },
     "execution_count": 268,
     "metadata": {},
     "output_type": "execute_result"
    },
    {
     "data": {
      "text/plain": [
       "<Cell 'Sheet1'.AB3>"
      ]
     },
     "execution_count": 268,
     "metadata": {},
     "output_type": "execute_result"
    },
    {
     "data": {
      "text/plain": [
       "<Cell 'Sheet1'.AC3>"
      ]
     },
     "execution_count": 268,
     "metadata": {},
     "output_type": "execute_result"
    },
    {
     "data": {
      "text/plain": [
       "<Cell 'Sheet1'.AD3>"
      ]
     },
     "execution_count": 268,
     "metadata": {},
     "output_type": "execute_result"
    },
    {
     "data": {
      "text/plain": [
       "<Cell 'Sheet1'.AE3>"
      ]
     },
     "execution_count": 268,
     "metadata": {},
     "output_type": "execute_result"
    },
    {
     "data": {
      "text/plain": [
       "<Cell 'Sheet1'.AF3>"
      ]
     },
     "execution_count": 268,
     "metadata": {},
     "output_type": "execute_result"
    },
    {
     "data": {
      "text/plain": [
       "<Cell 'Sheet1'.AG3>"
      ]
     },
     "execution_count": 268,
     "metadata": {},
     "output_type": "execute_result"
    },
    {
     "data": {
      "text/plain": [
       "<Cell 'Sheet1'.AH3>"
      ]
     },
     "execution_count": 268,
     "metadata": {},
     "output_type": "execute_result"
    },
    {
     "data": {
      "text/plain": [
       "<Cell 'Sheet1'.AI3>"
      ]
     },
     "execution_count": 268,
     "metadata": {},
     "output_type": "execute_result"
    },
    {
     "data": {
      "text/plain": [
       "<Cell 'Sheet1'.AJ3>"
      ]
     },
     "execution_count": 268,
     "metadata": {},
     "output_type": "execute_result"
    },
    {
     "data": {
      "text/plain": [
       "<Cell 'Sheet1'.AK3>"
      ]
     },
     "execution_count": 268,
     "metadata": {},
     "output_type": "execute_result"
    },
    {
     "data": {
      "text/plain": [
       "<Cell 'Sheet1'.AL3>"
      ]
     },
     "execution_count": 268,
     "metadata": {},
     "output_type": "execute_result"
    },
    {
     "data": {
      "text/plain": [
       "<Cell 'Sheet1'.AM3>"
      ]
     },
     "execution_count": 268,
     "metadata": {},
     "output_type": "execute_result"
    },
    {
     "data": {
      "text/plain": [
       "<Cell 'Sheet1'.AN3>"
      ]
     },
     "execution_count": 268,
     "metadata": {},
     "output_type": "execute_result"
    },
    {
     "data": {
      "text/plain": [
       "<Cell 'Sheet1'.AO3>"
      ]
     },
     "execution_count": 268,
     "metadata": {},
     "output_type": "execute_result"
    },
    {
     "data": {
      "text/plain": [
       "<Cell 'Sheet1'.AP3>"
      ]
     },
     "execution_count": 268,
     "metadata": {},
     "output_type": "execute_result"
    },
    {
     "data": {
      "text/plain": [
       "<Cell 'Sheet1'.AQ3>"
      ]
     },
     "execution_count": 268,
     "metadata": {},
     "output_type": "execute_result"
    },
    {
     "data": {
      "text/plain": [
       "<Cell 'Sheet1'.AR3>"
      ]
     },
     "execution_count": 268,
     "metadata": {},
     "output_type": "execute_result"
    },
    {
     "data": {
      "text/plain": [
       "<Cell 'Sheet1'.AS3>"
      ]
     },
     "execution_count": 268,
     "metadata": {},
     "output_type": "execute_result"
    },
    {
     "data": {
      "text/plain": [
       "<Cell 'Sheet1'.AT3>"
      ]
     },
     "execution_count": 268,
     "metadata": {},
     "output_type": "execute_result"
    },
    {
     "data": {
      "text/plain": [
       "<Cell 'Sheet1'.AU3>"
      ]
     },
     "execution_count": 268,
     "metadata": {},
     "output_type": "execute_result"
    },
    {
     "data": {
      "text/plain": [
       "<Cell 'Sheet1'.AV3>"
      ]
     },
     "execution_count": 268,
     "metadata": {},
     "output_type": "execute_result"
    },
    {
     "data": {
      "text/plain": [
       "<Cell 'Sheet1'.AW3>"
      ]
     },
     "execution_count": 268,
     "metadata": {},
     "output_type": "execute_result"
    },
    {
     "data": {
      "text/plain": [
       "<Cell 'Sheet1'.AX3>"
      ]
     },
     "execution_count": 268,
     "metadata": {},
     "output_type": "execute_result"
    },
    {
     "data": {
      "text/plain": [
       "<Cell 'Sheet1'.AY3>"
      ]
     },
     "execution_count": 268,
     "metadata": {},
     "output_type": "execute_result"
    },
    {
     "data": {
      "text/plain": [
       "<Cell 'Sheet1'.AZ3>"
      ]
     },
     "execution_count": 268,
     "metadata": {},
     "output_type": "execute_result"
    },
    {
     "data": {
      "text/plain": [
       "<Cell 'Sheet1'.BA3>"
      ]
     },
     "execution_count": 268,
     "metadata": {},
     "output_type": "execute_result"
    },
    {
     "data": {
      "text/plain": [
       "<Cell 'Sheet1'.BB3>"
      ]
     },
     "execution_count": 268,
     "metadata": {},
     "output_type": "execute_result"
    },
    {
     "data": {
      "text/plain": [
       "<Cell 'Sheet1'.A4>"
      ]
     },
     "execution_count": 268,
     "metadata": {},
     "output_type": "execute_result"
    },
    {
     "data": {
      "text/plain": [
       "<Cell 'Sheet1'.B4>"
      ]
     },
     "execution_count": 268,
     "metadata": {},
     "output_type": "execute_result"
    },
    {
     "data": {
      "text/plain": [
       "<Cell 'Sheet1'.C4>"
      ]
     },
     "execution_count": 268,
     "metadata": {},
     "output_type": "execute_result"
    },
    {
     "data": {
      "text/plain": [
       "<Cell 'Sheet1'.D4>"
      ]
     },
     "execution_count": 268,
     "metadata": {},
     "output_type": "execute_result"
    },
    {
     "data": {
      "text/plain": [
       "<Cell 'Sheet1'.E4>"
      ]
     },
     "execution_count": 268,
     "metadata": {},
     "output_type": "execute_result"
    },
    {
     "data": {
      "text/plain": [
       "<Cell 'Sheet1'.F4>"
      ]
     },
     "execution_count": 268,
     "metadata": {},
     "output_type": "execute_result"
    },
    {
     "data": {
      "text/plain": [
       "<Cell 'Sheet1'.G4>"
      ]
     },
     "execution_count": 268,
     "metadata": {},
     "output_type": "execute_result"
    },
    {
     "data": {
      "text/plain": [
       "<Cell 'Sheet1'.H4>"
      ]
     },
     "execution_count": 268,
     "metadata": {},
     "output_type": "execute_result"
    },
    {
     "data": {
      "text/plain": [
       "<Cell 'Sheet1'.I4>"
      ]
     },
     "execution_count": 268,
     "metadata": {},
     "output_type": "execute_result"
    },
    {
     "data": {
      "text/plain": [
       "<Cell 'Sheet1'.J4>"
      ]
     },
     "execution_count": 268,
     "metadata": {},
     "output_type": "execute_result"
    },
    {
     "data": {
      "text/plain": [
       "<Cell 'Sheet1'.K4>"
      ]
     },
     "execution_count": 268,
     "metadata": {},
     "output_type": "execute_result"
    },
    {
     "data": {
      "text/plain": [
       "<Cell 'Sheet1'.L4>"
      ]
     },
     "execution_count": 268,
     "metadata": {},
     "output_type": "execute_result"
    },
    {
     "data": {
      "text/plain": [
       "<Cell 'Sheet1'.M4>"
      ]
     },
     "execution_count": 268,
     "metadata": {},
     "output_type": "execute_result"
    },
    {
     "data": {
      "text/plain": [
       "<Cell 'Sheet1'.N4>"
      ]
     },
     "execution_count": 268,
     "metadata": {},
     "output_type": "execute_result"
    },
    {
     "data": {
      "text/plain": [
       "<Cell 'Sheet1'.O4>"
      ]
     },
     "execution_count": 268,
     "metadata": {},
     "output_type": "execute_result"
    },
    {
     "data": {
      "text/plain": [
       "<Cell 'Sheet1'.P4>"
      ]
     },
     "execution_count": 268,
     "metadata": {},
     "output_type": "execute_result"
    },
    {
     "data": {
      "text/plain": [
       "<Cell 'Sheet1'.Q4>"
      ]
     },
     "execution_count": 268,
     "metadata": {},
     "output_type": "execute_result"
    },
    {
     "data": {
      "text/plain": [
       "<Cell 'Sheet1'.R4>"
      ]
     },
     "execution_count": 268,
     "metadata": {},
     "output_type": "execute_result"
    },
    {
     "data": {
      "text/plain": [
       "<Cell 'Sheet1'.S4>"
      ]
     },
     "execution_count": 268,
     "metadata": {},
     "output_type": "execute_result"
    },
    {
     "data": {
      "text/plain": [
       "<Cell 'Sheet1'.T4>"
      ]
     },
     "execution_count": 268,
     "metadata": {},
     "output_type": "execute_result"
    },
    {
     "data": {
      "text/plain": [
       "<Cell 'Sheet1'.U4>"
      ]
     },
     "execution_count": 268,
     "metadata": {},
     "output_type": "execute_result"
    },
    {
     "data": {
      "text/plain": [
       "<Cell 'Sheet1'.V4>"
      ]
     },
     "execution_count": 268,
     "metadata": {},
     "output_type": "execute_result"
    },
    {
     "data": {
      "text/plain": [
       "<Cell 'Sheet1'.W4>"
      ]
     },
     "execution_count": 268,
     "metadata": {},
     "output_type": "execute_result"
    },
    {
     "data": {
      "text/plain": [
       "<Cell 'Sheet1'.X4>"
      ]
     },
     "execution_count": 268,
     "metadata": {},
     "output_type": "execute_result"
    },
    {
     "data": {
      "text/plain": [
       "<Cell 'Sheet1'.Y4>"
      ]
     },
     "execution_count": 268,
     "metadata": {},
     "output_type": "execute_result"
    },
    {
     "data": {
      "text/plain": [
       "<Cell 'Sheet1'.Z4>"
      ]
     },
     "execution_count": 268,
     "metadata": {},
     "output_type": "execute_result"
    },
    {
     "data": {
      "text/plain": [
       "<Cell 'Sheet1'.AA4>"
      ]
     },
     "execution_count": 268,
     "metadata": {},
     "output_type": "execute_result"
    },
    {
     "data": {
      "text/plain": [
       "<Cell 'Sheet1'.AB4>"
      ]
     },
     "execution_count": 268,
     "metadata": {},
     "output_type": "execute_result"
    },
    {
     "data": {
      "text/plain": [
       "<Cell 'Sheet1'.AC4>"
      ]
     },
     "execution_count": 268,
     "metadata": {},
     "output_type": "execute_result"
    },
    {
     "data": {
      "text/plain": [
       "<Cell 'Sheet1'.AD4>"
      ]
     },
     "execution_count": 268,
     "metadata": {},
     "output_type": "execute_result"
    },
    {
     "data": {
      "text/plain": [
       "<Cell 'Sheet1'.AE4>"
      ]
     },
     "execution_count": 268,
     "metadata": {},
     "output_type": "execute_result"
    },
    {
     "data": {
      "text/plain": [
       "<Cell 'Sheet1'.AF4>"
      ]
     },
     "execution_count": 268,
     "metadata": {},
     "output_type": "execute_result"
    },
    {
     "data": {
      "text/plain": [
       "<Cell 'Sheet1'.AG4>"
      ]
     },
     "execution_count": 268,
     "metadata": {},
     "output_type": "execute_result"
    },
    {
     "data": {
      "text/plain": [
       "<Cell 'Sheet1'.AH4>"
      ]
     },
     "execution_count": 268,
     "metadata": {},
     "output_type": "execute_result"
    },
    {
     "data": {
      "text/plain": [
       "<Cell 'Sheet1'.AI4>"
      ]
     },
     "execution_count": 268,
     "metadata": {},
     "output_type": "execute_result"
    },
    {
     "data": {
      "text/plain": [
       "<Cell 'Sheet1'.AJ4>"
      ]
     },
     "execution_count": 268,
     "metadata": {},
     "output_type": "execute_result"
    },
    {
     "data": {
      "text/plain": [
       "<Cell 'Sheet1'.AK4>"
      ]
     },
     "execution_count": 268,
     "metadata": {},
     "output_type": "execute_result"
    },
    {
     "data": {
      "text/plain": [
       "<Cell 'Sheet1'.AL4>"
      ]
     },
     "execution_count": 268,
     "metadata": {},
     "output_type": "execute_result"
    },
    {
     "data": {
      "text/plain": [
       "<Cell 'Sheet1'.AM4>"
      ]
     },
     "execution_count": 268,
     "metadata": {},
     "output_type": "execute_result"
    },
    {
     "data": {
      "text/plain": [
       "<Cell 'Sheet1'.AN4>"
      ]
     },
     "execution_count": 268,
     "metadata": {},
     "output_type": "execute_result"
    },
    {
     "data": {
      "text/plain": [
       "<Cell 'Sheet1'.AO4>"
      ]
     },
     "execution_count": 268,
     "metadata": {},
     "output_type": "execute_result"
    },
    {
     "data": {
      "text/plain": [
       "<Cell 'Sheet1'.AP4>"
      ]
     },
     "execution_count": 268,
     "metadata": {},
     "output_type": "execute_result"
    },
    {
     "data": {
      "text/plain": [
       "<Cell 'Sheet1'.AQ4>"
      ]
     },
     "execution_count": 268,
     "metadata": {},
     "output_type": "execute_result"
    },
    {
     "data": {
      "text/plain": [
       "<Cell 'Sheet1'.AR4>"
      ]
     },
     "execution_count": 268,
     "metadata": {},
     "output_type": "execute_result"
    },
    {
     "data": {
      "text/plain": [
       "<Cell 'Sheet1'.AS4>"
      ]
     },
     "execution_count": 268,
     "metadata": {},
     "output_type": "execute_result"
    },
    {
     "data": {
      "text/plain": [
       "<Cell 'Sheet1'.AT4>"
      ]
     },
     "execution_count": 268,
     "metadata": {},
     "output_type": "execute_result"
    },
    {
     "data": {
      "text/plain": [
       "<Cell 'Sheet1'.AU4>"
      ]
     },
     "execution_count": 268,
     "metadata": {},
     "output_type": "execute_result"
    },
    {
     "data": {
      "text/plain": [
       "<Cell 'Sheet1'.AV4>"
      ]
     },
     "execution_count": 268,
     "metadata": {},
     "output_type": "execute_result"
    },
    {
     "data": {
      "text/plain": [
       "<Cell 'Sheet1'.AW4>"
      ]
     },
     "execution_count": 268,
     "metadata": {},
     "output_type": "execute_result"
    },
    {
     "data": {
      "text/plain": [
       "<Cell 'Sheet1'.AX4>"
      ]
     },
     "execution_count": 268,
     "metadata": {},
     "output_type": "execute_result"
    },
    {
     "data": {
      "text/plain": [
       "<Cell 'Sheet1'.AY4>"
      ]
     },
     "execution_count": 268,
     "metadata": {},
     "output_type": "execute_result"
    },
    {
     "data": {
      "text/plain": [
       "<Cell 'Sheet1'.AZ4>"
      ]
     },
     "execution_count": 268,
     "metadata": {},
     "output_type": "execute_result"
    },
    {
     "data": {
      "text/plain": [
       "<Cell 'Sheet1'.BA4>"
      ]
     },
     "execution_count": 268,
     "metadata": {},
     "output_type": "execute_result"
    },
    {
     "data": {
      "text/plain": [
       "<Cell 'Sheet1'.BB4>"
      ]
     },
     "execution_count": 268,
     "metadata": {},
     "output_type": "execute_result"
    }
   ],
   "source": []
  },
  {
   "cell_type": "markdown",
   "id": "ca871792-da74-4fed-8dd7-1f3bd1d512e8",
   "metadata": {
    "heading_collapsed": "true",
    "tags": []
   },
   "source": [
    "# Testing & Validation"
   ]
  },
  {
   "cell_type": "code",
   "execution_count": null,
   "id": "6b3ffc69-f968-4338-9807-e85fe049c3b3",
   "metadata": {},
   "outputs": [],
   "source": []
  },
  {
   "cell_type": "code",
   "execution_count": 32,
   "id": "a1bececd-51b0-47a7-8909-9c57e07451e8",
   "metadata": {},
   "outputs": [],
   "source": [
    "# df_filtered_invalid = df_filtered.query(\"url.isna()\", engine=\"python\")\n",
    "# df_filtered_valid = df_filtered.query(\"url.notna()\", engine=\"python\")\n",
    "# df_filtered_invalid.to_excel(f\"data/filtered/df_invalid_{date_str}.xlsx\")\n",
    "# df_filtered_valid.to_excel(f\"data/filtered/df_valid_{date_str}.xlsx\")\n",
    "# df_filtered_invalid.to_excel(\"data/df_filtered_invalid.xlsx\")\n",
    "# df_filtered_valid.to_excel(\"data/df_filtered_valid.xlsx\")"
   ]
  },
  {
   "cell_type": "code",
   "execution_count": 86,
   "id": "e8949df5-874e-4f11-af6d-f3354d6d3758",
   "metadata": {},
   "outputs": [
    {
     "data": {
      "text/html": [
       "<div>\n",
       "<style scoped>\n",
       "    .dataframe tbody tr th:only-of-type {\n",
       "        vertical-align: middle;\n",
       "    }\n",
       "\n",
       "    .dataframe tbody tr th {\n",
       "        vertical-align: top;\n",
       "    }\n",
       "\n",
       "    .dataframe thead th {\n",
       "        text-align: right;\n",
       "    }\n",
       "</style>\n",
       "<table border=\"1\" class=\"dataframe\">\n",
       "  <thead>\n",
       "    <tr style=\"text-align: right;\">\n",
       "      <th></th>\n",
       "      <th>symbol</th>\n",
       "      <th>isin</th>\n",
       "      <th>exchange</th>\n",
       "      <th>date</th>\n",
       "      <th>open</th>\n",
       "      <th>high</th>\n",
       "      <th>low</th>\n",
       "      <th>close</th>\n",
       "      <th>volume</th>\n",
       "      <th>year</th>\n",
       "      <th>month</th>\n",
       "      <th>day</th>\n",
       "      <th>ym</th>\n",
       "      <th>quarter</th>\n",
       "    </tr>\n",
       "  </thead>\n",
       "  <tbody>\n",
       "    <tr>\n",
       "      <th>353</th>\n",
       "      <td>KAYCEE IND</td>\n",
       "      <td>504084</td>\n",
       "      <td>BSE</td>\n",
       "      <td>2021-08-06</td>\n",
       "      <td>4000.0</td>\n",
       "      <td>4170.00</td>\n",
       "      <td>3936.00</td>\n",
       "      <td>3938.40</td>\n",
       "      <td>34</td>\n",
       "      <td>2021</td>\n",
       "      <td>8</td>\n",
       "      <td>6</td>\n",
       "      <td>202108</td>\n",
       "      <td>3</td>\n",
       "    </tr>\n",
       "    <tr>\n",
       "      <th>351</th>\n",
       "      <td>KAYCEE IND</td>\n",
       "      <td>504084</td>\n",
       "      <td>BSE</td>\n",
       "      <td>2021-07-23</td>\n",
       "      <td>4393.6</td>\n",
       "      <td>4393.60</td>\n",
       "      <td>4151.00</td>\n",
       "      <td>4151.00</td>\n",
       "      <td>7</td>\n",
       "      <td>2021</td>\n",
       "      <td>7</td>\n",
       "      <td>23</td>\n",
       "      <td>202107</td>\n",
       "      <td>3</td>\n",
       "    </tr>\n",
       "    <tr>\n",
       "      <th>350</th>\n",
       "      <td>KAYCEE IND</td>\n",
       "      <td>504084</td>\n",
       "      <td>BSE</td>\n",
       "      <td>2021-08-31</td>\n",
       "      <td>3935.0</td>\n",
       "      <td>3935.00</td>\n",
       "      <td>3745.05</td>\n",
       "      <td>3745.05</td>\n",
       "      <td>11</td>\n",
       "      <td>2021</td>\n",
       "      <td>8</td>\n",
       "      <td>31</td>\n",
       "      <td>202108</td>\n",
       "      <td>3</td>\n",
       "    </tr>\n",
       "    <tr>\n",
       "      <th>356</th>\n",
       "      <td>KAYCEE IND</td>\n",
       "      <td>504084</td>\n",
       "      <td>BSE</td>\n",
       "      <td>2021-10-05</td>\n",
       "      <td>3703.0</td>\n",
       "      <td>4040.00</td>\n",
       "      <td>3701.00</td>\n",
       "      <td>4040.00</td>\n",
       "      <td>29</td>\n",
       "      <td>2021</td>\n",
       "      <td>10</td>\n",
       "      <td>5</td>\n",
       "      <td>202110</td>\n",
       "      <td>4</td>\n",
       "    </tr>\n",
       "    <tr>\n",
       "      <th>344</th>\n",
       "      <td>KAYCEE IND</td>\n",
       "      <td>504084</td>\n",
       "      <td>BSE</td>\n",
       "      <td>2020-12-17</td>\n",
       "      <td>2960.0</td>\n",
       "      <td>2960.00</td>\n",
       "      <td>2750.00</td>\n",
       "      <td>2750.00</td>\n",
       "      <td>11</td>\n",
       "      <td>2020</td>\n",
       "      <td>12</td>\n",
       "      <td>17</td>\n",
       "      <td>202012</td>\n",
       "      <td>4</td>\n",
       "    </tr>\n",
       "    <tr>\n",
       "      <th>...</th>\n",
       "      <td>...</td>\n",
       "      <td>...</td>\n",
       "      <td>...</td>\n",
       "      <td>...</td>\n",
       "      <td>...</td>\n",
       "      <td>...</td>\n",
       "      <td>...</td>\n",
       "      <td>...</td>\n",
       "      <td>...</td>\n",
       "      <td>...</td>\n",
       "      <td>...</td>\n",
       "      <td>...</td>\n",
       "      <td>...</td>\n",
       "      <td>...</td>\n",
       "    </tr>\n",
       "    <tr>\n",
       "      <th>353</th>\n",
       "      <td>KAYCEE IND</td>\n",
       "      <td>504084</td>\n",
       "      <td>BSE</td>\n",
       "      <td>2021-08-05</td>\n",
       "      <td>4075.0</td>\n",
       "      <td>4076.95</td>\n",
       "      <td>4050.00</td>\n",
       "      <td>4050.00</td>\n",
       "      <td>6</td>\n",
       "      <td>2021</td>\n",
       "      <td>8</td>\n",
       "      <td>5</td>\n",
       "      <td>202108</td>\n",
       "      <td>3</td>\n",
       "    </tr>\n",
       "    <tr>\n",
       "      <th>352</th>\n",
       "      <td>KAYCEE IND</td>\n",
       "      <td>504084</td>\n",
       "      <td>BSE</td>\n",
       "      <td>2021-09-29</td>\n",
       "      <td>3851.0</td>\n",
       "      <td>4044.00</td>\n",
       "      <td>3851.00</td>\n",
       "      <td>4044.00</td>\n",
       "      <td>4</td>\n",
       "      <td>2021</td>\n",
       "      <td>9</td>\n",
       "      <td>29</td>\n",
       "      <td>202109</td>\n",
       "      <td>3</td>\n",
       "    </tr>\n",
       "    <tr>\n",
       "      <th>358</th>\n",
       "      <td>KAYCEE IND</td>\n",
       "      <td>504084</td>\n",
       "      <td>BSE</td>\n",
       "      <td>2021-06-25</td>\n",
       "      <td>3849.9</td>\n",
       "      <td>3854.55</td>\n",
       "      <td>3849.90</td>\n",
       "      <td>3854.55</td>\n",
       "      <td>23</td>\n",
       "      <td>2021</td>\n",
       "      <td>6</td>\n",
       "      <td>25</td>\n",
       "      <td>202106</td>\n",
       "      <td>2</td>\n",
       "    </tr>\n",
       "    <tr>\n",
       "      <th>355</th>\n",
       "      <td>KAYCEE IND</td>\n",
       "      <td>504084</td>\n",
       "      <td>BSE</td>\n",
       "      <td>2021-05-17</td>\n",
       "      <td>3000.0</td>\n",
       "      <td>3044.00</td>\n",
       "      <td>2900.00</td>\n",
       "      <td>3030.00</td>\n",
       "      <td>29</td>\n",
       "      <td>2021</td>\n",
       "      <td>5</td>\n",
       "      <td>17</td>\n",
       "      <td>202105</td>\n",
       "      <td>2</td>\n",
       "    </tr>\n",
       "    <tr>\n",
       "      <th>350</th>\n",
       "      <td>KAYCEE IND</td>\n",
       "      <td>504084</td>\n",
       "      <td>BSE</td>\n",
       "      <td>2021-12-14</td>\n",
       "      <td>3750.0</td>\n",
       "      <td>3849.95</td>\n",
       "      <td>3651.05</td>\n",
       "      <td>3750.00</td>\n",
       "      <td>20</td>\n",
       "      <td>2021</td>\n",
       "      <td>12</td>\n",
       "      <td>14</td>\n",
       "      <td>202112</td>\n",
       "      <td>4</td>\n",
       "    </tr>\n",
       "  </tbody>\n",
       "</table>\n",
       "<p>322 rows × 14 columns</p>\n",
       "</div>"
      ],
      "text/plain": [
       "           symbol    isin exchange       date    open     high      low  \\\n",
       "353  KAYCEE IND    504084      BSE 2021-08-06  4000.0  4170.00  3936.00   \n",
       "351  KAYCEE IND    504084      BSE 2021-07-23  4393.6  4393.60  4151.00   \n",
       "350  KAYCEE IND    504084      BSE 2021-08-31  3935.0  3935.00  3745.05   \n",
       "356  KAYCEE IND    504084      BSE 2021-10-05  3703.0  4040.00  3701.00   \n",
       "344  KAYCEE IND    504084      BSE 2020-12-17  2960.0  2960.00  2750.00   \n",
       "..            ...     ...      ...        ...     ...      ...      ...   \n",
       "353  KAYCEE IND    504084      BSE 2021-08-05  4075.0  4076.95  4050.00   \n",
       "352  KAYCEE IND    504084      BSE 2021-09-29  3851.0  4044.00  3851.00   \n",
       "358  KAYCEE IND    504084      BSE 2021-06-25  3849.9  3854.55  3849.90   \n",
       "355  KAYCEE IND    504084      BSE 2021-05-17  3000.0  3044.00  2900.00   \n",
       "350  KAYCEE IND    504084      BSE 2021-12-14  3750.0  3849.95  3651.05   \n",
       "\n",
       "       close  volume  year  month  day      ym  quarter  \n",
       "353  3938.40      34  2021      8    6  202108        3  \n",
       "351  4151.00       7  2021      7   23  202107        3  \n",
       "350  3745.05      11  2021      8   31  202108        3  \n",
       "356  4040.00      29  2021     10    5  202110        4  \n",
       "344  2750.00      11  2020     12   17  202012        4  \n",
       "..       ...     ...   ...    ...  ...     ...      ...  \n",
       "353  4050.00       6  2021      8    5  202108        3  \n",
       "352  4044.00       4  2021      9   29  202109        3  \n",
       "358  3854.55      23  2021      6   25  202106        2  \n",
       "355  3030.00      29  2021      5   17  202105        2  \n",
       "350  3750.00      20  2021     12   14  202112        4  \n",
       "\n",
       "[322 rows x 14 columns]"
      ]
     },
     "execution_count": 86,
     "metadata": {},
     "output_type": "execute_result"
    }
   ],
   "source": [
    "df_all.query(\"isin==504084\")"
   ]
  },
  {
   "cell_type": "code",
   "execution_count": 87,
   "id": "042e988b-05a6-44ae-b749-21f48cbc7d0d",
   "metadata": {},
   "outputs": [
    {
     "data": {
      "text/html": [
       "<div>\n",
       "<style scoped>\n",
       "    .dataframe tbody tr th:only-of-type {\n",
       "        vertical-align: middle;\n",
       "    }\n",
       "\n",
       "    .dataframe tbody tr th {\n",
       "        vertical-align: top;\n",
       "    }\n",
       "\n",
       "    .dataframe thead th {\n",
       "        text-align: right;\n",
       "    }\n",
       "</style>\n",
       "<table border=\"1\" class=\"dataframe\">\n",
       "  <thead>\n",
       "    <tr style=\"text-align: right;\">\n",
       "      <th></th>\n",
       "      <th>symbol</th>\n",
       "      <th>isin</th>\n",
       "    </tr>\n",
       "  </thead>\n",
       "  <tbody>\n",
       "    <tr>\n",
       "      <th>176</th>\n",
       "      <td>BDL</td>\n",
       "      <td>INE171Z01018</td>\n",
       "    </tr>\n",
       "    <tr>\n",
       "      <th>364</th>\n",
       "      <td>EIDPARRY</td>\n",
       "      <td>INE126A01031</td>\n",
       "    </tr>\n",
       "    <tr>\n",
       "      <th>369</th>\n",
       "      <td>ELECTCAST</td>\n",
       "      <td>INE086A01029</td>\n",
       "    </tr>\n",
       "    <tr>\n",
       "      <th>1246</th>\n",
       "      <td>SIS</td>\n",
       "      <td>INE285J01028</td>\n",
       "    </tr>\n",
       "    <tr>\n",
       "      <th>1474</th>\n",
       "      <td>VIPCLOTHNG</td>\n",
       "      <td>INE450G01024</td>\n",
       "    </tr>\n",
       "    <tr>\n",
       "      <th>1270</th>\n",
       "      <td>SRPL</td>\n",
       "      <td>INE008Z01012</td>\n",
       "    </tr>\n",
       "  </tbody>\n",
       "</table>\n",
       "</div>"
      ],
      "text/plain": [
       "          symbol          isin\n",
       "176          BDL  INE171Z01018\n",
       "364     EIDPARRY  INE126A01031\n",
       "369    ELECTCAST  INE086A01029\n",
       "1246         SIS  INE285J01028\n",
       "1474  VIPCLOTHNG  INE450G01024\n",
       "1270        SRPL  INE008Z01012"
      ]
     },
     "execution_count": 87,
     "metadata": {},
     "output_type": "execute_result"
    }
   ],
   "source": [
    "x = [\"ACCORD\", \"BDL\", \"EIDPARRY\", \"ELECTCAST\", \"SIS\", \"SRPL\", \"VINNY\", \"VIPCLOTHNG\"]\n",
    "df_all.query(\"symbol.isin(@x)\", engine=\"python\")[[\"symbol\", \"isin\"]].drop_duplicates()"
   ]
  },
  {
   "cell_type": "code",
   "execution_count": 92,
   "id": "60a50981-9ecd-4dbd-a3d5-d0586df186d2",
   "metadata": {},
   "outputs": [],
   "source": [
    "#  .assign(value=lambda df: df.close * df.volume)\n",
    "#     .sort_values(grouping_vars + [\"month\", \"day\"])\n",
    "#     .groupby(grouping_vars)\n",
    "#     .agg({\"value\": sum, \"volume\": sum, \"close\": lambda x: x.iloc[-1]})\n",
    "#     .reset_index()\n",
    "#     .sort_values(grouping_vars)\n",
    "#     .assign(\n",
    "#         value_lag=lambda df: df.groupby([\"symbol\", \"isin\"])[\"value\"].shift(1),\n",
    "#         volume_lag=lambda df: df.groupby([\"symbol\", \"isin\"])[\"volume\"].shift(1),\n",
    "#         close_lag=lambda df: df.groupby([\"symbol\", \"isin\"])[\"close\"].shift(1),\n",
    "#         value_ratio=lambda df: df.value / df.value_lag,\n",
    "#         volume_ratio=lambda df: df.volume / df.volume_lag,\n",
    "#         close_ratio=lambda df: df.close / df.close_lag,\n",
    "#     )"
   ]
  },
  {
   "cell_type": "code",
   "execution_count": 107,
   "id": "eac044af-d436-4080-a2a0-52aa26a2f46e",
   "metadata": {},
   "outputs": [
    {
     "data": {
      "text/html": [
       "<div>\n",
       "<style scoped>\n",
       "    .dataframe tbody tr th:only-of-type {\n",
       "        vertical-align: middle;\n",
       "    }\n",
       "\n",
       "    .dataframe tbody tr th {\n",
       "        vertical-align: top;\n",
       "    }\n",
       "\n",
       "    .dataframe thead th {\n",
       "        text-align: right;\n",
       "    }\n",
       "</style>\n",
       "<table border=\"1\" class=\"dataframe\">\n",
       "  <thead>\n",
       "    <tr style=\"text-align: right;\">\n",
       "      <th></th>\n",
       "      <th>year</th>\n",
       "      <th>quarter</th>\n",
       "      <th>value</th>\n",
       "      <th>volume</th>\n",
       "      <th>close</th>\n",
       "      <th>value_last_close</th>\n",
       "    </tr>\n",
       "  </thead>\n",
       "  <tbody>\n",
       "    <tr>\n",
       "      <th>0</th>\n",
       "      <td>2021</td>\n",
       "      <td>4</td>\n",
       "      <td>1448204.15</td>\n",
       "      <td>413</td>\n",
       "      <td>4016.15</td>\n",
       "      <td>1658669.95</td>\n",
       "    </tr>\n",
       "    <tr>\n",
       "      <th>1</th>\n",
       "      <td>2022</td>\n",
       "      <td>1</td>\n",
       "      <td>189562.00</td>\n",
       "      <td>44</td>\n",
       "      <td>4290.00</td>\n",
       "      <td>188760.00</td>\n",
       "    </tr>\n",
       "  </tbody>\n",
       "</table>\n",
       "</div>"
      ],
      "text/plain": [
       "   year  quarter       value  volume    close  value_last_close\n",
       "0  2021        4  1448204.15     413  4016.15        1658669.95\n",
       "1  2022        1   189562.00      44  4290.00         188760.00"
      ]
     },
     "execution_count": 107,
     "metadata": {},
     "output_type": "execute_result"
    },
    {
     "name": "stdout",
     "output_type": "stream",
     "text": [
      "ratios\n"
     ]
    },
    {
     "data": {
      "text/plain": [
       "year                1.000495\n",
       "quarter             0.250000\n",
       "value               0.130895\n",
       "volume              0.106538\n",
       "close               1.068187\n",
       "value_last_close    0.113802\n",
       "dtype: float64"
      ]
     },
     "execution_count": 107,
     "metadata": {},
     "output_type": "execute_result"
    }
   ],
   "source": [
    "df_tmp = (\n",
    "    df_all.query(\"isin==502901\")\n",
    "    .query(\"date>='2021-10-01'\")\n",
    "    .sort_values([\"year\", \"quarter\", \"month\", \"day\"])\n",
    "    .assign(value=lambda df: df.close * df.volume)\n",
    "    .groupby([\"year\", \"quarter\"])\n",
    "    .agg({\"value\": sum, \"volume\": sum, \"close\": lambda x: x.iloc[-1]})\n",
    "    .reset_index()\n",
    "    .assign(value_last_close=lambda df: df.close * df.volume)\n",
    ")\n",
    "\n",
    "df_tmp\n",
    "\n",
    "print(\"ratios\")\n",
    "df_tmp.iloc[1] / df_tmp.iloc[0]"
   ]
  },
  {
   "cell_type": "code",
   "execution_count": 108,
   "id": "b2fcd899-3370-4a9f-afda-913539943cf8",
   "metadata": {},
   "outputs": [
    {
     "data": {
      "text/plain": [
       "1.225929648241206"
      ]
     },
     "execution_count": 108,
     "metadata": {},
     "output_type": "execute_result"
    }
   ],
   "source": [
    "87825600 / 71640000"
   ]
  },
  {
   "cell_type": "code",
   "execution_count": 109,
   "id": "06f131c0-c379-426c-9597-87fdf234bd1a",
   "metadata": {},
   "outputs": [
    {
     "data": {
      "text/html": [
       "<div>\n",
       "<style scoped>\n",
       "    .dataframe tbody tr th:only-of-type {\n",
       "        vertical-align: middle;\n",
       "    }\n",
       "\n",
       "    .dataframe tbody tr th {\n",
       "        vertical-align: top;\n",
       "    }\n",
       "\n",
       "    .dataframe thead th {\n",
       "        text-align: right;\n",
       "    }\n",
       "</style>\n",
       "<table border=\"1\" class=\"dataframe\">\n",
       "  <thead>\n",
       "    <tr style=\"text-align: right;\">\n",
       "      <th></th>\n",
       "      <th>symbol</th>\n",
       "      <th>isin</th>\n",
       "      <th>exchange</th>\n",
       "      <th>date</th>\n",
       "      <th>open</th>\n",
       "      <th>high</th>\n",
       "      <th>low</th>\n",
       "      <th>close</th>\n",
       "      <th>volume</th>\n",
       "      <th>year</th>\n",
       "      <th>month</th>\n",
       "      <th>day</th>\n",
       "      <th>ym</th>\n",
       "      <th>quarter</th>\n",
       "    </tr>\n",
       "  </thead>\n",
       "  <tbody>\n",
       "    <tr>\n",
       "      <th>320</th>\n",
       "      <td>JAMSHRI</td>\n",
       "      <td>502901</td>\n",
       "      <td>BSE</td>\n",
       "      <td>2022-01-03</td>\n",
       "      <td>3815.5</td>\n",
       "      <td>4200.0</td>\n",
       "      <td>3815.5</td>\n",
       "      <td>4190.0</td>\n",
       "      <td>14</td>\n",
       "      <td>2022</td>\n",
       "      <td>1</td>\n",
       "      <td>3</td>\n",
       "      <td>202201</td>\n",
       "      <td>1</td>\n",
       "    </tr>\n",
       "    <tr>\n",
       "      <th>322</th>\n",
       "      <td>JAMSHRI</td>\n",
       "      <td>502901</td>\n",
       "      <td>BSE</td>\n",
       "      <td>2022-01-10</td>\n",
       "      <td>4390.0</td>\n",
       "      <td>4390.0</td>\n",
       "      <td>4200.0</td>\n",
       "      <td>4370.0</td>\n",
       "      <td>5</td>\n",
       "      <td>2022</td>\n",
       "      <td>1</td>\n",
       "      <td>10</td>\n",
       "      <td>202201</td>\n",
       "      <td>1</td>\n",
       "    </tr>\n",
       "    <tr>\n",
       "      <th>317</th>\n",
       "      <td>JAMSHRI</td>\n",
       "      <td>502901</td>\n",
       "      <td>BSE</td>\n",
       "      <td>2022-01-12</td>\n",
       "      <td>4151.5</td>\n",
       "      <td>4580.0</td>\n",
       "      <td>4151.5</td>\n",
       "      <td>4580.0</td>\n",
       "      <td>12</td>\n",
       "      <td>2022</td>\n",
       "      <td>1</td>\n",
       "      <td>12</td>\n",
       "      <td>202201</td>\n",
       "      <td>1</td>\n",
       "    </tr>\n",
       "    <tr>\n",
       "      <th>316</th>\n",
       "      <td>JAMSHRI</td>\n",
       "      <td>502901</td>\n",
       "      <td>BSE</td>\n",
       "      <td>2022-01-14</td>\n",
       "      <td>4580.0</td>\n",
       "      <td>4580.0</td>\n",
       "      <td>4351.0</td>\n",
       "      <td>4351.0</td>\n",
       "      <td>2</td>\n",
       "      <td>2022</td>\n",
       "      <td>1</td>\n",
       "      <td>14</td>\n",
       "      <td>202201</td>\n",
       "      <td>1</td>\n",
       "    </tr>\n",
       "    <tr>\n",
       "      <th>322</th>\n",
       "      <td>JAMSHRI</td>\n",
       "      <td>502901</td>\n",
       "      <td>BSE</td>\n",
       "      <td>2022-01-17</td>\n",
       "      <td>4140.0</td>\n",
       "      <td>4140.0</td>\n",
       "      <td>4140.0</td>\n",
       "      <td>4140.0</td>\n",
       "      <td>2</td>\n",
       "      <td>2022</td>\n",
       "      <td>1</td>\n",
       "      <td>17</td>\n",
       "      <td>202201</td>\n",
       "      <td>1</td>\n",
       "    </tr>\n",
       "    <tr>\n",
       "      <th>315</th>\n",
       "      <td>JAMSHRI</td>\n",
       "      <td>502901</td>\n",
       "      <td>BSE</td>\n",
       "      <td>2022-01-18</td>\n",
       "      <td>3933.0</td>\n",
       "      <td>3950.0</td>\n",
       "      <td>3933.0</td>\n",
       "      <td>3950.0</td>\n",
       "      <td>3</td>\n",
       "      <td>2022</td>\n",
       "      <td>1</td>\n",
       "      <td>18</td>\n",
       "      <td>202201</td>\n",
       "      <td>1</td>\n",
       "    </tr>\n",
       "    <tr>\n",
       "      <th>314</th>\n",
       "      <td>JAMSHRI</td>\n",
       "      <td>502901</td>\n",
       "      <td>BSE</td>\n",
       "      <td>2022-01-19</td>\n",
       "      <td>4147.0</td>\n",
       "      <td>4147.0</td>\n",
       "      <td>4147.0</td>\n",
       "      <td>4147.0</td>\n",
       "      <td>2</td>\n",
       "      <td>2022</td>\n",
       "      <td>1</td>\n",
       "      <td>19</td>\n",
       "      <td>202201</td>\n",
       "      <td>1</td>\n",
       "    </tr>\n",
       "    <tr>\n",
       "      <th>314</th>\n",
       "      <td>JAMSHRI</td>\n",
       "      <td>502901</td>\n",
       "      <td>BSE</td>\n",
       "      <td>2022-01-21</td>\n",
       "      <td>4300.0</td>\n",
       "      <td>4300.0</td>\n",
       "      <td>4300.0</td>\n",
       "      <td>4300.0</td>\n",
       "      <td>1</td>\n",
       "      <td>2022</td>\n",
       "      <td>1</td>\n",
       "      <td>21</td>\n",
       "      <td>202201</td>\n",
       "      <td>1</td>\n",
       "    </tr>\n",
       "    <tr>\n",
       "      <th>320</th>\n",
       "      <td>JAMSHRI</td>\n",
       "      <td>502901</td>\n",
       "      <td>BSE</td>\n",
       "      <td>2022-01-24</td>\n",
       "      <td>4086.0</td>\n",
       "      <td>4086.0</td>\n",
       "      <td>4086.0</td>\n",
       "      <td>4086.0</td>\n",
       "      <td>1</td>\n",
       "      <td>2022</td>\n",
       "      <td>1</td>\n",
       "      <td>24</td>\n",
       "      <td>202201</td>\n",
       "      <td>1</td>\n",
       "    </tr>\n",
       "    <tr>\n",
       "      <th>314</th>\n",
       "      <td>JAMSHRI</td>\n",
       "      <td>502901</td>\n",
       "      <td>BSE</td>\n",
       "      <td>2022-01-27</td>\n",
       "      <td>4290.0</td>\n",
       "      <td>4290.0</td>\n",
       "      <td>4290.0</td>\n",
       "      <td>4290.0</td>\n",
       "      <td>2</td>\n",
       "      <td>2022</td>\n",
       "      <td>1</td>\n",
       "      <td>27</td>\n",
       "      <td>202201</td>\n",
       "      <td>1</td>\n",
       "    </tr>\n",
       "  </tbody>\n",
       "</table>\n",
       "</div>"
      ],
      "text/plain": [
       "           symbol    isin exchange       date    open    high     low   close  \\\n",
       "320  JAMSHRI       502901      BSE 2022-01-03  3815.5  4200.0  3815.5  4190.0   \n",
       "322  JAMSHRI       502901      BSE 2022-01-10  4390.0  4390.0  4200.0  4370.0   \n",
       "317  JAMSHRI       502901      BSE 2022-01-12  4151.5  4580.0  4151.5  4580.0   \n",
       "316  JAMSHRI       502901      BSE 2022-01-14  4580.0  4580.0  4351.0  4351.0   \n",
       "322  JAMSHRI       502901      BSE 2022-01-17  4140.0  4140.0  4140.0  4140.0   \n",
       "315  JAMSHRI       502901      BSE 2022-01-18  3933.0  3950.0  3933.0  3950.0   \n",
       "314  JAMSHRI       502901      BSE 2022-01-19  4147.0  4147.0  4147.0  4147.0   \n",
       "314  JAMSHRI       502901      BSE 2022-01-21  4300.0  4300.0  4300.0  4300.0   \n",
       "320  JAMSHRI       502901      BSE 2022-01-24  4086.0  4086.0  4086.0  4086.0   \n",
       "314  JAMSHRI       502901      BSE 2022-01-27  4290.0  4290.0  4290.0  4290.0   \n",
       "\n",
       "     volume  year  month  day      ym  quarter  \n",
       "320      14  2022      1    3  202201        1  \n",
       "322       5  2022      1   10  202201        1  \n",
       "317      12  2022      1   12  202201        1  \n",
       "316       2  2022      1   14  202201        1  \n",
       "322       2  2022      1   17  202201        1  \n",
       "315       3  2022      1   18  202201        1  \n",
       "314       2  2022      1   19  202201        1  \n",
       "314       1  2022      1   21  202201        1  \n",
       "320       1  2022      1   24  202201        1  \n",
       "314       2  2022      1   27  202201        1  "
      ]
     },
     "execution_count": 109,
     "metadata": {},
     "output_type": "execute_result"
    },
    {
     "data": {
      "text/plain": [
       "('volume', '44')"
      ]
     },
     "execution_count": 109,
     "metadata": {},
     "output_type": "execute_result"
    },
    {
     "data": {
      "text/plain": [
       "('last close', '4,290.0')"
      ]
     },
     "execution_count": 109,
     "metadata": {},
     "output_type": "execute_result"
    },
    {
     "data": {
      "text/plain": [
       "('value', '188,760.0')"
      ]
     },
     "execution_count": 109,
     "metadata": {},
     "output_type": "execute_result"
    }
   ],
   "source": [
    "df = df_all.query(\"isin==502901\").query(\"year==2022 & quarter==1\").sort_values(\"date\")\n",
    "df\n",
    "\"volume\", f\"{df.volume.sum():,}\"\n",
    "\"last close\", f\"{df.close.iloc[-1]:,}\"\n",
    "\"value\", f\"{df.close.iloc[-1]*df.volume.sum():,}\""
   ]
  },
  {
   "cell_type": "markdown",
   "id": "f0e90ce0",
   "metadata": {},
   "source": [
    "## 8/1"
   ]
  },
  {
   "cell_type": "code",
   "execution_count": 5,
   "id": "c885e62b-72d4-4ae3-8651-2a7deb823258",
   "metadata": {},
   "outputs": [],
   "source": [
    "import requests\n",
    "from typing import Union\n",
    "import os\n",
    "import pandas as pd\n",
    "import logging\n",
    "from bs4 import BeautifulSoup\n",
    "from selenium import webdriver\n",
    "from selenium.webdriver.chrome.service import Service\n",
    "from webdriver_manager.chrome import ChromeDriverManager\n",
    "from tqdm import tqdm\n",
    "import openpyxl\n",
    "from openpyxl.utils.dataframe import dataframe_to_rows\n",
    "\n",
    "# from googlesearch import search\n",
    "from duckduckgo_search import DDGS\n",
    "\n",
    "logger = logging.getLogger(__name__)\n",
    "tqdm.pandas()\n",
    "os.environ[\"WDM_LOG_LEVEL\"] = \"0\""
   ]
  },
  {
   "cell_type": "code",
   "execution_count": null,
   "id": "bfbe8f71",
   "metadata": {},
   "outputs": [],
   "source": [
    "df_filtered = pd.read_excel(\"data/df_latest_filtered.xlsx\").iloc[:50]\n",
    "df_filtered.head()\n",
    "result = next(results)"
   ]
  },
  {
   "cell_type": "code",
   "execution_count": 18,
   "id": "a7e535b0",
   "metadata": {},
   "outputs": [],
   "source": [
    "class PageFinder(object):\n",
    "    \"\"\" \"\"\"\n",
    "\n",
    "    keys_dict = pd.read_csv(\"data/keys.csv\").set_index(\"field\").to_dict(orient=\"index\")\n",
    "    keys_dict = {k: v[\"identifier\"] for k, v in keys_dict.items()}\n",
    "    check_element = keys_dict[\"market_cap\"].replace(\".\", \"\")\n",
    "\n",
    "    def __init__(self, isin, symbol):\n",
    "        self.isin, self.symbol = str(isin), str(symbol)\n",
    "        self.url = self.home_content = self.ratios_url = None\n",
    "        self.props = dict()\n",
    "        self.try_finding_info()\n",
    "\n",
    "    def get_parsed_content(self, url):\n",
    "        return BeautifulSoup(requests.get(url).content, features=\"lxml\")\n",
    "\n",
    "    def validate_and_gather_info(self, symbol, isin, force=\"symbol\"):\n",
    "        print(f\"symbol: {symbol}, isin: {isin}, force: {force}\")\n",
    "        if force == \"symbol\":\n",
    "            search_term = f'\"{symbol}\" {isin} site:https://www.moneycontrol.com/india/stockpricequote/'\n",
    "        elif force == \"isin\":\n",
    "            search_term = f'{symbol} \"{isin}\" site:https://www.moneycontrol.com/india/stockpricequote/'\n",
    "        elif force == \"both\":\n",
    "            search_term = f'\"{symbol}\" \"{isin}\" site:https://www.moneycontrol.com/india/stockpricequote/'\n",
    "        else:\n",
    "            search_term = f\"{symbol} {isin} site:https://www.moneycontrol.com/india/stockpricequote/\"\n",
    "\n",
    "        results = DDGS().text(\n",
    "            search_term,\n",
    "            max_results=5,\n",
    "        )\n",
    "\n",
    "        if not results:\n",
    "            return False\n",
    "\n",
    "        try:\n",
    "            url = results[0][\"href\"]\n",
    "            content = str(requests.get(url).content)\n",
    "            assert symbol.lower() in content.lower() or isin.lower() in content.lower()\n",
    "        except Exception as e:\n",
    "            logger.warning(\n",
    "                f\"Parse error for symbol: {symbol}, isin: {isin}, force: {force}, search_term: {search_term}\"\n",
    "            )\n",
    "            logger.warning(e)\n",
    "            content = \"\"\n",
    "\n",
    "        if self.check_element in content:\n",
    "            logger.info(f\"\\nGathering Data for {self.symbol}\")\n",
    "            self.url = url\n",
    "            soup_home = BeautifulSoup(content, features=\"lxml\")\n",
    "            market_cap = soup_home.select_one(\n",
    "                self.keys_dict[\"market_cap\"].replace(\" \", \".\")\n",
    "            ).text.replace(\",\", \"\")\n",
    "            self.props[\"market_cap\"] = float(market_cap)\n",
    "            #             self.props[\"BLANK\"] = \"\"\n",
    "\n",
    "            self.get_ratios(soup_home)\n",
    "            self.get_financials()\n",
    "            return True\n",
    "        else:\n",
    "            return False\n",
    "\n",
    "    def parse_series(self, content, selector):\n",
    "        ls = []\n",
    "        for x in content.select(self.keys_dict[selector]):\n",
    "            try:\n",
    "                f = float(x.text.replace(\",\", \"\"))\n",
    "                ls.append(f)\n",
    "            except:\n",
    "                ls.append(None)\n",
    "        if len(ls) < 5:\n",
    "            ls += [None] * (5 - len(ls))\n",
    "        return ls\n",
    "\n",
    "    def get_ratios(self, soup):\n",
    "        self.standalone_ratios_url = soup.select_one(self.keys_dict[\"ratios_url\"])[\n",
    "            \"href\"\n",
    "        ]\n",
    "        self.consolidated_ratios_url = self.standalone_ratios_url.replace(\n",
    "            \"ratiosVI\", \"consolidated-ratiosVI\"\n",
    "        )\n",
    "        for name, url in zip(\n",
    "            [\"consolidated\", \"standalone\"],\n",
    "            [self.consolidated_ratios_url, self.standalone_ratios_url],\n",
    "        ):\n",
    "            content = self.get_parsed_content(url)\n",
    "            for metric in [\"rnw\", \"de\"]:\n",
    "                self.props[f\"{name}_{metric}\"] = self.parse_series(\n",
    "                    content, f\"{name}_{metric}\"\n",
    "                )\n",
    "\n",
    "    def get_financials(self):\n",
    "        self.standlone_financials_url = self.standalone_ratios_url.replace(\n",
    "            \"ratiosVI\", \"results/yearly\"\n",
    "        )\n",
    "        self.consolidated_financials_url = self.consolidated_ratios_url.replace(\n",
    "            \"consolidated-ratiosVI\", \"results/consolidated-yearly\"\n",
    "        )\n",
    "\n",
    "        for name, url in zip(\n",
    "            [\"consolidated\", \"standalone\"],\n",
    "            [self.consolidated_financials_url, self.standlone_financials_url],\n",
    "        ):\n",
    "            content = self.get_parsed_content(url)\n",
    "            for metric in [\"sr\", \"np\"]:\n",
    "                self.props[f\"{name}_{metric}\"] = self.parse_series(\n",
    "                    content, f\"{name}_{metric}\"\n",
    "                )\n",
    "\n",
    "    def try_finding_info(self):\n",
    "        for force in [\"both\", \"symbol\", \"isin\", \"neither\"]:\n",
    "            if self.validate_and_gather_info(self.symbol, self.isin, force=force):\n",
    "                logger.info(f\"Found data for {self.symbol}\")\n",
    "                return\n",
    "        logger.warning(f\"\\nCould not find data for {self.symbol}\")\n",
    "        # self.browser.close()\n",
    "\n",
    "    def __repr__(self):\n",
    "        return f\"PageFinder({self.isin}, {self.symbol}, {self.url})\"\n",
    "\n",
    "\n",
    "def scrape_metrics(df_filtered, date_str):\n",
    "    df_filtered = df_filtered.assign(\n",
    "        pf=lambda df: df.progress_apply(\n",
    "            lambda row: PageFinder(row[\"isin\"], row[\"symbol\"]), axis=1\n",
    "        ),\n",
    "    )\n",
    "    # we query only for stocks where data was successfully scraped as they are easier to split into columns\n",
    "    # This works even during merging with the df_filtered because the indix is left unchanged and that makes\n",
    "    # sure the alignment happens correctly.\n",
    "    df = (\n",
    "        df_filtered.pf.apply(lambda pf: pf.props)\n",
    "        .apply(pd.Series)\n",
    "        .query(\"market_cap.notna()\", engine=\"python\")\n",
    "    )\n",
    "    cols = [\n",
    "        \"consolidated_rnw\",\n",
    "        \"standalone_rnw\",\n",
    "        \"consolidated_sr\",\n",
    "        \"consolidated_np\",\n",
    "        \"standalone_sr\",\n",
    "        \"standalone_np\",\n",
    "        \"consolidated_de\",\n",
    "        \"standalone_de\",\n",
    "    ]\n",
    "    for b, col in enumerate(cols):\n",
    "        names = [f\"{col.replace('_', ' ')}{i}\" for i in range(5, 0, -1)]\n",
    "        df[names] = pd.DataFrame(df[col].tolist(), index=df.index)\n",
    "        df[f\"BLANK {b}\"] = \"\"\n",
    "    df = df.drop(columns=cols)\n",
    "\n",
    "    # index of df and df_filtered makes sure alignement happens correctly\n",
    "    df_final = (\n",
    "        pd.concat(\n",
    "            [\n",
    "                df_filtered[[\"symbol\", \"isin\", \"exchange\", \"filter\"]],\n",
    "                df,\n",
    "                df_filtered[[\"date_str\"]],\n",
    "            ],\n",
    "            axis=1,\n",
    "        )\n",
    "        .assign(no_data=lambda df: df.market_cap.isna())\n",
    "        .sort_values(\"no_data\")\n",
    "    )\n",
    "\n",
    "    df_final.loc[~df_final.no_data] = df_final.loc[~df_final.no_data].fillna(\"\")\n",
    "    df_final.loc[df_final.no_data] = df_final.loc[df_final.no_data].fillna(\n",
    "        \"No Match in Money Control\"\n",
    "    )\n",
    "    df_final = df_final.drop(columns=\"no_data\").rename(columns=str.upper)\n",
    "\n",
    "    # Load the file\n",
    "    wb = openpyxl.load_workbook(\"data/results_template.xlsx\")\n",
    "    ws = wb.active\n",
    "\n",
    "    # Convert the dataframe into rows\n",
    "    rows = dataframe_to_rows(df_final, index=False, header=False)\n",
    "\n",
    "    # Write the rows to the worksheet\n",
    "    for r_idx, row in enumerate(rows, 2):\n",
    "        for c_idx, value in enumerate(row, 1):\n",
    "            ws.cell(row=r_idx, column=c_idx, value=value)\n",
    "\n",
    "    # Save the worksheet as a (*.xlsx) file\n",
    "    wb.template = False\n",
    "    save_path = (\n",
    "        f\"data/{date_str}.xlsx\"\n",
    "        if date_str == \"latest\"\n",
    "        else f\"data/final/{date_str}.xlsx\"\n",
    "    )\n",
    "    wb.save(save_path)\n",
    "    logger.info(f\"Saved data to {save_path}\")"
   ]
  },
  {
   "cell_type": "code",
   "execution_count": 23,
   "id": "8ac0dcdd-11b6-4649-a9fb-c7d25edca5e3",
   "metadata": {},
   "outputs": [
    {
     "name": "stdout",
     "output_type": "stream",
     "text": [
      "symbol: IND TERRAIN, isin: 533329, force: both\n",
      "symbol: IND TERRAIN, isin: 533329, force: symbol\n",
      "symbol: IND TERRAIN, isin: 533329, force: isin\n",
      "symbol: IND TERRAIN, isin: 533329, force: neither\n"
     ]
    }
   ],
   "source": [
    "pf = PageFinder(\"533329\", \"IND TERRAIN\")"
   ]
  },
  {
   "cell_type": "code",
   "execution_count": 24,
   "id": "0983827d",
   "metadata": {},
   "outputs": [
    {
     "data": {
      "text/plain": [
       "'https://www.moneycontrol.com/india/stockpricequote/textiles-readymade-apparels/indianterrainfashions/ITF'"
      ]
     },
     "execution_count": 24,
     "metadata": {},
     "output_type": "execute_result"
    }
   ],
   "source": [
    "pf.url"
   ]
  },
  {
   "cell_type": "code",
   "execution_count": 2,
   "id": "b1394933",
   "metadata": {},
   "outputs": [],
   "source": []
  },
  {
   "cell_type": "code",
   "execution_count": 14,
   "id": "0d8ad884",
   "metadata": {},
   "outputs": [
    {
     "name": "stdout",
     "output_type": "stream",
     "text": [
      "[{'title': 'Hilton Metal Share Price, Hilton Metal Stock Price, Hilton Metal ...', 'href': 'https://www.moneycontrol.com/india/stockpricequote/castingsforgings/hiltonmetalforging/HMF', 'body': 'Hilton Metal Standalone December 2023 Net Sales at Rs 41.74 crore, up 43.74% Y-o-Y Feb 12 2024 01:12 PM Hilton Metal Standalone September 2023 Net Sales at Rs 34.81 crore, up 27.63% Y-o-Y Nov 15 ...'}, {'title': 'HIL Share Price, HIL Stock Price, HIL Ltd. Stock Price ... - Moneycontrol', 'href': 'https://www.moneycontrol.com/india/stockpricequote/cement-productsbuilding-materials/hil/HI09', 'body': 'HIL Ltd. is a leading company in the cement products and building materials sector. Find out the latest news, stock price, charts, forecasts, recommendations and more on HIL Share Price at ...'}, {'title': 'Bharti Hexacom Ltd. - Moneycontrol', 'href': 'https://www.moneycontrol.com/india/stockpricequote/miscellaneous/bhartihexacom/BHL02', 'body': 'Bharti Hexacom Share Price: Find the latest news on Bharti Hexacom Stock Price. Get all the information on Bharti Hexacom with historic price charts for NSE / BSE. Experts & Broker view also get ...'}, {'title': 'Hexaware Tech Share Price, Hexaware Tech Stock Price, Hexaware ...', 'href': 'https://www.moneycontrol.com/india/stockpricequote/computers-software/hexawaretechnologies/HT02', 'body': 'Hexaware Tech Share Price: Find the latest news on Hexaware Tech Stock Price. Get all the information on Hexaware Tech with historic price charts for NSE / BSE. Experts & Broker view also get the ...'}, {'title': 'Indegene Share Price, Indegene Stock Price, Indegene Ltd ... - Moneycontrol', 'href': 'https://www.moneycontrol.com/india/stockpricequote/miscellaneous/indegene/IL05', 'body': 'Indegene Share Price: Find the latest news on Indegene Stock Price. Get all the information on Indegene with historic price charts for NSE / BSE. Experts & Broker view also get the Indegene Ltd ...'}]\n"
     ]
    }
   ],
   "source": [
    "results = DDGS().text(\n",
    "    \"symbol: HILTON INE788H01017 site:https://www.moneycontrol.com/india/stockpricequote/\",\n",
    "    max_results=5,\n",
    ")\n",
    "print(results)"
   ]
  },
  {
   "cell_type": "code",
   "execution_count": 15,
   "id": "689e4fd4",
   "metadata": {},
   "outputs": [],
   "source": [
    "for result in results:\n",
    "    if \"moneycontrol\" in result:\n",
    "        print(result)"
   ]
  },
  {
   "cell_type": "code",
   "execution_count": 62,
   "id": "64e0c16e",
   "metadata": {},
   "outputs": [
    {
     "data": {
      "text/plain": [
       "'https://www.moneycontrol.com/india/stockpricequote/castingsforgings/hiltonmetalforging/HMF'"
      ]
     },
     "execution_count": 62,
     "metadata": {},
     "output_type": "execute_result"
    }
   ],
   "source": [
    "result"
   ]
  },
  {
   "cell_type": "code",
   "execution_count": null,
   "id": "94c6d3b3",
   "metadata": {},
   "outputs": [],
   "source": []
  }
 ],
 "metadata": {
  "kernelspec": {
   "display_name": "Python 3",
   "language": "python",
   "name": "python3"
  },
  "language_info": {
   "codemirror_mode": {
    "name": "ipython",
    "version": 3
   },
   "file_extension": ".py",
   "mimetype": "text/x-python",
   "name": "python",
   "nbconvert_exporter": "python",
   "pygments_lexer": "ipython3",
   "version": "3.8.19"
  },
  "toc-autonumbering": true
 },
 "nbformat": 4,
 "nbformat_minor": 5
}
