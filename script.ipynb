{
 "cells": [
  {
   "cell_type": "code",
   "execution_count": 6,
   "id": "5d3d8428-148b-40aa-93af-0e74567f4054",
   "metadata": {
    "scrolled": true,
    "tags": []
   },
   "outputs": [],
   "source": [
    "from investment_buddy.downloader import NseDownloader, BseDownloader\n",
    "from investment_buddy.filterer import DataFilters\n",
    "from investment_buddy.scraper import scrape_metrics\n",
    "import logging\n",
    "import pendulum\n",
    "\n",
    "logging.basicConfig(level=logging.INFO)\n",
    "\n",
    "nse_downloader = NseDownloader()\n",
    "bse_downloader = BseDownloader()\n",
    "\n",
    "nse_downloader.update_data(prune_weeks=80)\n",
    "bse_downloader.update_data(prune_weeks=80)\n",
    "\n",
    "as_of_date = pendulum.today()  # pendulum.from_format(f\"202202{d:02}\", \"YYYYMMDD\")\n",
    "data_filter = DataFilters(as_of_date)\n",
    "data_filter.apply_all_filters()\n",
    "\n",
    "scrape_metrics(data_filter)"
   ]
  }
 ],
 "metadata": {
  "kernelspec": {
   "display_name": "Python [conda env:investment_buddy]",
   "language": "python",
   "name": "conda-env-investment_buddy-py"
  },
  "language_info": {
   "codemirror_mode": {
    "name": "ipython",
    "version": 3
   },
   "file_extension": ".py",
   "mimetype": "text/x-python",
   "name": "python",
   "nbconvert_exporter": "python",
   "pygments_lexer": "ipython3",
   "version": "3.8.19"
  }
 },
 "nbformat": 4,
 "nbformat_minor": 5
}
